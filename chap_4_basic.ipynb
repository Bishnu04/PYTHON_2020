{
 "cells": [
  {
   "cell_type": "markdown",
   "metadata": {},
   "source": [
    "# This chspter contains  class and object "
   ]
  },
  {
   "cell_type": "markdown",
   "metadata": {},
   "source": [
    "# class : syntax ->   class Class_name:   "
   ]
  },
  {
   "cell_type": "code",
   "execution_count": null,
   "metadata": {},
   "outputs": [],
   "source": [
    "# By convention, the first name of the class is a capital letter\n",
    "# The class will decide the functionality or attribute of the comming object"
   ]
  },
  {
   "cell_type": "code",
   "execution_count": null,
   "metadata": {},
   "outputs": [],
   "source": [
    "calss Class_name:\n",
    "    def __init__(self, attributes for the object):\n",
    "        #make instance vsriable with the help of the attributes"
   ]
  },
  {
   "cell_type": "markdown",
   "metadata": {},
   "source": [
    "### Lets make a real class example"
   ]
  },
  {
   "cell_type": "code",
   "execution_count": 6,
   "metadata": {},
   "outputs": [
    {
     "name": "stdout",
     "output_type": "stream",
     "text": [
      "Bishnu\n",
      "98\n",
      "Siddartha\n",
      "90\n"
     ]
    }
   ],
   "source": [
    "class Person:\n",
    "    def __init__(self,first_name,last_name,age, score): #init is the constructor\n",
    "        self.first_name = first_name# self represent the object\n",
    "        self.age = age\n",
    "        self.score = score#up to hare class is done.S0, lets try the object, can make many object from 1 class\n",
    "p1 = Person(\"Bishnu\",\"pandey\",34,98) \n",
    "p2 = Person(\"Siddartha\",\"pandey\",7,90) \n",
    "print(p1.first_name)\n",
    "print(p1.score)\n",
    "print(p2.first_name)\n",
    "print(p2.score)"
   ]
  },
  {
   "cell_type": "code",
   "execution_count": null,
   "metadata": {},
   "outputs": [],
   "source": [
    "# NOte in the last example I have 4, attributes they are first_name,last_name,age, score\n",
    "# Therefoere I made 4 instant variables that is \n",
    "#  self.first_name = first_name# self represent the object\n",
    "#         self.last_name = last_name\n",
    "#         self.age = age\n",
    "#         self.score = score\n",
    "        \n",
    "        \n",
    "# But you can make more instance variables the attributes\n",
    "# see the following example"
   ]
  },
  {
   "cell_type": "code",
   "execution_count": 7,
   "metadata": {},
   "outputs": [
    {
     "name": "stdout",
     "output_type": "stream",
     "text": [
      "Bishnu pandey\n"
     ]
    }
   ],
   "source": [
    "class Person:\n",
    "    def __init__(self,first_name,last_name,age, score): #init is the constructor\n",
    "        self.first_name = first_name# self represent the object\n",
    "        self.last_name = last_name\n",
    "        self.age = age\n",
    "        self.score = score#\n",
    "        self.full_name = first_name + \" \" + last_name   # This is the extra instance variable\n",
    "p1 = Person(\"Bishnu\",\"pandey\",34,98) \n",
    "print(p1.full_name)\n",
    "\n"
   ]
  },
  {
   "cell_type": "markdown",
   "metadata": {},
   "source": [
    "# instance method"
   ]
  },
  {
   "cell_type": "code",
   "execution_count": null,
   "metadata": {},
   "outputs": [],
   "source": [
    "# Any function defined inside the python class is called the method\n",
    "# lets see how we can make our own instance methods"
   ]
  },
  {
   "cell_type": "code",
   "execution_count": 11,
   "metadata": {},
   "outputs": [
    {
     "name": "stdout",
     "output_type": "stream",
     "text": [
      "Bishnu pandey\n"
     ]
    }
   ],
   "source": [
    "class Person:\n",
    "    def __init__(self,first_name,last_name,age, score): #init is the constructor\n",
    "        self.first_name = first_name# self represent the object\n",
    "        self.last_name = last_name\n",
    "        self.age = age\n",
    "        self.score = score#\n",
    "    def full_name(self):\n",
    "        return f\"{self.first_name} {self.last_name}\"\n",
    "        \n",
    "p1 = Person(\"Bishnu\",\"pandey\",34,98) \n",
    "print(p1.full_name())\n"
   ]
  },
  {
   "cell_type": "markdown",
   "metadata": {},
   "source": [
    "## Deinne a function for a laptop that will calculate the discount for the laptop"
   ]
  },
  {
   "cell_type": "code",
   "execution_count": 15,
   "metadata": {},
   "outputs": [
    {
     "name": "stdout",
     "output_type": "stream",
     "text": [
      "500.0\n"
     ]
    }
   ],
   "source": [
    "class laptop:\n",
    "    def __init__(self,model,price):\n",
    "        self.model=model\n",
    "        self.price = price\n",
    "    def new_price(self, d): # d is discount\n",
    "        return self.price - self.price*d/100\n",
    "l1 = laptop(\"dell\",1000)\n",
    "print(l1.new_price(50))\n",
    "    \n",
    "    "
   ]
  },
  {
   "cell_type": "markdown",
   "metadata": {},
   "source": [
    "## class variable  for each object same variable for example value of pi for any number of circle"
   ]
  },
  {
   "cell_type": "markdown",
   "metadata": {},
   "source": [
    "#### lets understand by solving an example of a circle"
   ]
  },
  {
   "cell_type": "code",
   "execution_count": 24,
   "metadata": {},
   "outputs": [
    {
     "name": "stdout",
     "output_type": "stream",
     "text": [
      "25.12\n",
      "31.400000000000002\n"
     ]
    }
   ],
   "source": [
    "# with out the clas variable\n",
    "class circle:\n",
    "    def __init__(self,radius,pi):\n",
    "        self.radius=radius\n",
    "        self.pi =pi\n",
    "    def circumference(self):\n",
    "        return 2*self.pi*self.radius\n",
    "c1 = circle(4,3.14)\n",
    "c2 = circle(5,3.14)\n",
    "print(c1.circumference())\n",
    "print(c2.circumference())"
   ]
  },
  {
   "cell_type": "markdown",
   "metadata": {},
   "source": [
    "# Now use the class variable"
   ]
  },
  {
   "cell_type": "code",
   "execution_count": 27,
   "metadata": {},
   "outputs": [
    {
     "name": "stdout",
     "output_type": "stream",
     "text": [
      "25.12\n",
      "31.400000000000002\n",
      "{'radius': 4}\n"
     ]
    }
   ],
   "source": [
    "class circle:\n",
    "    pi = 3.14\n",
    "    def __init__(self,radius):\n",
    "        self.radius = radius\n",
    "    def circumference(self):\n",
    "        return 2*circle.pi*self.radius  # Make sure here circle.pi\n",
    "c3 = circle(4)\n",
    "c4 = circle(5)\n",
    "print(c3.circumference())\n",
    "print(c4.circumference())\n",
    "print(c3.__dict__) # this gives all of the variable in the circle has "
   ]
  },
  {
   "cell_type": "markdown",
   "metadata": {},
   "source": [
    "## count the instances or the objects of the class"
   ]
  },
  {
   "cell_type": "code",
   "execution_count": 42,
   "metadata": {},
   "outputs": [
    {
     "name": "stdout",
     "output_type": "stream",
     "text": [
      "2\n"
     ]
    }
   ],
   "source": [
    "class Person:\n",
    "    count_instance =0\n",
    "    def __init__(self,first_name,last_name,age): #init is the constructor\n",
    "        Person.count_instance +=1  \n",
    "        self.first_name = first_name# self represent the object\n",
    "        self.last_name = last_name\n",
    "        self.age = age\n",
    "        \n",
    "    def full_name(self):\n",
    "        return f\"{self.first_name} {self.last_name}\"\n",
    "         \n",
    "p1 = Person(\"Bishnu\",\"pandey\",34) \n",
    "p2= Person(\"sid\",\"pandey\",3) \n",
    "print(Person.count_instance)\n"
   ]
  },
  {
   "cell_type": "code",
   "execution_count": null,
   "metadata": {},
   "outputs": [],
   "source": [
    "#instance means object"
   ]
  },
  {
   "cell_type": "markdown",
   "metadata": {},
   "source": [
    "# Concept of ingeritence"
   ]
  },
  {
   "cell_type": "code",
   "execution_count": 6,
   "metadata": {},
   "outputs": [
    {
     "name": "stdout",
     "output_type": "stream",
     "text": [
      "samsung s9+\n"
     ]
    }
   ],
   "source": [
    "# Note the following is the simple class for the phone\n",
    "class Phone:\n",
    "    def __init__(self,brand,model,price):\n",
    "        self.brand = brand\n",
    "        self.model=model\n",
    "        self._price=max(price,0)#because if -ve price is entered will print 0 that maximum of  0 and that number\n",
    "        \n",
    "    def full_name(self):\n",
    "        return f\"{self.brand} {self.model}\"\n",
    "    def calling_number(self,num):\n",
    "        return f\" calling{number}\"\n",
    "p1 = Phone(\"samsung\",\"s9+\",800)\n",
    "print(p1.full_name())"
   ]
  },
  {
   "cell_type": "code",
   "execution_count": 18,
   "metadata": {},
   "outputs": [
    {
     "name": "stdout",
     "output_type": "stream",
     "text": [
      "samsung s9+\n",
      "iphone x10\n"
     ]
    }
   ],
   "source": [
    "#I am going to add another smart phone in the code \n",
    "\n",
    "class Phone:\n",
    "    def __init__(self,brand,model,price):\n",
    "        self.brand = brand\n",
    "        self.model=model\n",
    "        self._price=max(price,0)#because if -ve price is entered will print 0 ie. maximum of  0 and that number\n",
    "        \n",
    "    def full_name(self):\n",
    "        return f\"{self.brand} {self.model}\"\n",
    "    def calling_number(self,num):\n",
    "        return f\" calling{number}\"\n",
    "    \n",
    "class Smart_phone:\n",
    "    def __init__(self,brand,model,price,ram,memory,rear_camera):\n",
    "        self.brand = brand\n",
    "        self.model=model\n",
    "        self._price=max(price,0)#because if -ve price is entered will print 0 ie. maximum of  0 and that number\n",
    "        self.ram = ram\n",
    "        self.memory= memory\n",
    "        self.rear_camera = rear_camera\n",
    "        \n",
    "    def full_name(self):\n",
    "        return f\"{self.brand} {self.model}\"\n",
    "    def calling_number(self,num):\n",
    "        return f\" calling{number}\"\n",
    "        \n",
    "p1 = Phone(\"samsung\",\"s9+\",800)\n",
    "p2 = Smart_phone(\"iphone\",\"x10\",700,\"2GB\",\"20GB\",\"10Mp\")\n",
    "print(p1.full_name())\n",
    "print(p2.full_name())\n",
    "\n",
    "# Here We typed the instance variables twice also typed the full_name and calling function twice"
   ]
  },
  {
   "cell_type": "code",
   "execution_count": null,
   "metadata": {},
   "outputs": [],
   "source": [
    "# Now we will take all of the common properties from Phone calss and will use them in to the Smart_phone Class\n",
    "# Therefore in the Smart_phone class we will define only the properties which are not presnt in the Phone class\n",
    "# In another word \n",
    "#        self.brand = brand\n",
    "#         self.model=model\n",
    "#         self._price=max(price,0)\n",
    "        \n",
    "#         and \n",
    "        \n",
    "#         def full_name(self):\n",
    "#         return f\"{self.brand} {self.model}\"\n",
    "#         def calling_number(self,num):\n",
    "#         return f\" calling{number}\"\n",
    "    \n",
    "#     will be written only once  in the first class that is in the Phone class and later classes will use the\n",
    "#     same properties\n",
    "        "
   ]
  },
  {
   "cell_type": "code",
   "execution_count": 21,
   "metadata": {},
   "outputs": [
    {
     "name": "stdout",
     "output_type": "stream",
     "text": [
      "samsung s9+\n",
      "iphone x10\n"
     ]
    }
   ],
   "source": [
    "class Phone: # base or parent class\n",
    "    def __init__(self,brand,model,price):\n",
    "        self.brand = brand\n",
    "        self.model=model\n",
    "        self._price=max(price,0)#because if -ve price is entered will print 0 ie. maximum of  0 and that number\n",
    "        \n",
    "    def full_name(self):\n",
    "        return f\"{self.brand} {self.model}\"\n",
    "    def calling_number(self,num):\n",
    "        return f\" calling{number}\"\n",
    "    \n",
    "class Smart_phone(Phone): #  Derived class base class is written here with the derived class\n",
    "    def __init__(self,brand,model,price,ram,memory,rear_camera):\n",
    "#         self.brand = brand   # no need of these lines any more\n",
    "#         self.model=model\n",
    "#         self._price=max(price,0)\n",
    "        super().__init__(brand,model,price)\n",
    "        self.ram = ram\n",
    "        self.memory= memory\n",
    "        self.rear_camera = rear_camera\n",
    "        \n",
    "#     def full_name(self):   ## no need of these functions any more\n",
    "#         return f\"{self.brand} {self.model}\"\n",
    "#     def calling_number(self,num):\n",
    "#         return f\" calling{number}\"\n",
    "        \n",
    "p1 = Phone(\"samsung\",\"s9+\",800)\n",
    "p2 = Smart_phone(\"iphone\",\"x10\",700,\"2GB\",\"20GB\",\"10Mp\")\n",
    "print(p1.full_name())\n",
    "print(p2.full_name())"
   ]
  },
  {
   "cell_type": "markdown",
   "metadata": {},
   "source": [
    "# lets make the above code more clear"
   ]
  },
  {
   "cell_type": "code",
   "execution_count": 29,
   "metadata": {},
   "outputs": [
    {
     "name": "stdout",
     "output_type": "stream",
     "text": [
      "samsung s9+\n",
      "iphone x10\n",
      "800\n"
     ]
    }
   ],
   "source": [
    "class Phone: # base or parent class\n",
    "    def __init__(self,brand,model,price):\n",
    "        self.brand = brand #instance variable\n",
    "        self.model=model\n",
    "        self._price=max(price,0)\n",
    "        \n",
    "    def full_name(self): #method\n",
    "        return f\"{self.brand} {self.model}\"\n",
    "    def calling_number(self,num):\n",
    "        return f\" calling{number}\"\n",
    "    \n",
    "class Smart_phone(Phone): #  Derived class base class is written here with the derived class\n",
    "    def __init__(self,brand,model,price,ram,memory,rear_camera):\n",
    "   \n",
    "        super().__init__(brand,model,price) #This will handle the brand,model and price from the base class\n",
    "        self.ram = ram\n",
    "        self.memory= memory\n",
    "        self.rear_camera = rear_camera         \n",
    "p1 = Phone(\"samsung\",\"s9+\",800)\n",
    "p2 = Smart_phone(\"iphone\",\"x10\",700,\"2GB\",\"20GB\",\"10Mp\")\n",
    "print(p1.full_name())\n",
    "print(p2.full_name())\n",
    "print(p1._price)"
   ]
  },
  {
   "cell_type": "markdown",
   "metadata": {},
   "source": [
    "# Error in python"
   ]
  },
  {
   "cell_type": "markdown",
   "metadata": {},
   "source": [
    "### syntax error"
   ]
  },
  {
   "cell_type": "code",
   "execution_count": 34,
   "metadata": {},
   "outputs": [
    {
     "name": "stdout",
     "output_type": "stream",
     "text": [
      "hello world \n"
     ]
    }
   ],
   "source": [
    "#syntax error comes when the syntax is wrong for example\n",
    "def fuc():\n",
    "    return \"hello world \"\n",
    "print(fuc())"
   ]
  },
  {
   "cell_type": "code",
   "execution_count": 35,
   "metadata": {},
   "outputs": [
    {
     "ename": "SyntaxError",
     "evalue": "invalid syntax (<ipython-input-35-7342ff730992>, line 1)",
     "output_type": "error",
     "traceback": [
      "\u001b[0;36m  File \u001b[0;32m\"<ipython-input-35-7342ff730992>\"\u001b[0;36m, line \u001b[0;32m1\u001b[0m\n\u001b[0;31m    def fuc: # forgot to put the parenthesis\u001b[0m\n\u001b[0m           ^\u001b[0m\n\u001b[0;31mSyntaxError\u001b[0m\u001b[0;31m:\u001b[0m invalid syntax\n"
     ]
    }
   ],
   "source": [
    "def fuc: # forgot to put the parenthesis\n",
    "    return \"hello world \"\n",
    "print(fuc())"
   ]
  },
  {
   "cell_type": "code",
   "execution_count": 36,
   "metadata": {},
   "outputs": [
    {
     "ename": "SyntaxError",
     "evalue": "invalid syntax (<ipython-input-36-ca815a1a71a3>, line 1)",
     "output_type": "error",
     "traceback": [
      "\u001b[0;36m  File \u001b[0;32m\"<ipython-input-36-ca815a1a71a3>\"\u001b[0;36m, line \u001b[0;32m1\u001b[0m\n\u001b[0;31m    name = \"Bishnu\"*\u001b[0m\n\u001b[0m                    ^\u001b[0m\n\u001b[0;31mSyntaxError\u001b[0m\u001b[0;31m:\u001b[0m invalid syntax\n"
     ]
    }
   ],
   "source": [
    "name = \"Bishnu\"*\n",
    "print(name)"
   ]
  },
  {
   "cell_type": "markdown",
   "metadata": {},
   "source": [
    "## Indentation Error"
   ]
  },
  {
   "cell_type": "code",
   "execution_count": 49,
   "metadata": {},
   "outputs": [
    {
     "ename": "IndentationError",
     "evalue": "unindent does not match any outer indentation level (<tokenize>, line 4)",
     "output_type": "error",
     "traceback": [
      "\u001b[0;36m  File \u001b[0;32m\"<tokenize>\"\u001b[0;36m, line \u001b[0;32m4\u001b[0m\n\u001b[0;31m    return \" I am a beginner\"\u001b[0m\n\u001b[0m    ^\u001b[0m\n\u001b[0;31mIndentationError\u001b[0m\u001b[0;31m:\u001b[0m unindent does not match any outer indentation level\n"
     ]
    }
   ],
   "source": [
    "# indentation error comes if the space given is not matching\n",
    "def fuc(): # forgot to put the parenthesis\n",
    "    return \"hello world \"\n",
    " return \" I am a beginner\"\n",
    "\n",
    "print(fuc())"
   ]
  },
  {
   "cell_type": "markdown",
   "metadata": {},
   "source": [
    "# name error"
   ]
  },
  {
   "cell_type": "code",
   "execution_count": null,
   "metadata": {},
   "outputs": [],
   "source": []
  },
  {
   "cell_type": "code",
   "execution_count": 51,
   "metadata": {},
   "outputs": [
    {
     "ename": "NameError",
     "evalue": "name 'like' is not defined",
     "output_type": "error",
     "traceback": [
      "\u001b[0;31m---------------------------------------------------------------------------\u001b[0m",
      "\u001b[0;31mNameError\u001b[0m                                 Traceback (most recent call last)",
      "\u001b[0;32m<ipython-input-51-2fadf4fa1ab8>\u001b[0m in \u001b[0;36m<module>\u001b[0;34m\u001b[0m\n\u001b[0;32m----> 1\u001b[0;31m \u001b[0mprint\u001b[0m\u001b[0;34m(\u001b[0m\u001b[0mlike\u001b[0m\u001b[0;34m)\u001b[0m\u001b[0;34m\u001b[0m\u001b[0;34m\u001b[0m\u001b[0m\n\u001b[0m",
      "\u001b[0;31mNameError\u001b[0m: name 'like' is not defined"
     ]
    }
   ],
   "source": [
    "print(name) # when name is not defined and we are using this variable or simpy prjnting the name variable"
   ]
  },
  {
   "cell_type": "markdown",
   "metadata": {},
   "source": [
    "## type operator"
   ]
  },
  {
   "cell_type": "code",
   "execution_count": 52,
   "metadata": {},
   "outputs": [
    {
     "ename": "TypeError",
     "evalue": "unsupported operand type(s) for +: 'int' and 'str'",
     "output_type": "error",
     "traceback": [
      "\u001b[0;31m---------------------------------------------------------------------------\u001b[0m",
      "\u001b[0;31mTypeError\u001b[0m                                 Traceback (most recent call last)",
      "\u001b[0;32m<ipython-input-52-90044dea1264>\u001b[0m in \u001b[0;36m<module>\u001b[0;34m\u001b[0m\n\u001b[0;32m----> 1\u001b[0;31m \u001b[0mprint\u001b[0m\u001b[0;34m(\u001b[0m\u001b[0;36m5\u001b[0m\u001b[0;34m+\u001b[0m\u001b[0;34m\"Bishnu\"\u001b[0m\u001b[0;34m)\u001b[0m\u001b[0;34m\u001b[0m\u001b[0;34m\u001b[0m\u001b[0m\n\u001b[0m",
      "\u001b[0;31mTypeError\u001b[0m: unsupported operand type(s) for +: 'int' and 'str'"
     ]
    }
   ],
   "source": [
    "print(5+\"Bishnu\") # string and integer are not allowed for addition"
   ]
  },
  {
   "cell_type": "markdown",
   "metadata": {},
   "source": [
    "## index error"
   ]
  },
  {
   "cell_type": "code",
   "execution_count": 54,
   "metadata": {},
   "outputs": [
    {
     "ename": "IndexError",
     "evalue": "list index out of range",
     "output_type": "error",
     "traceback": [
      "\u001b[0;31m---------------------------------------------------------------------------\u001b[0m",
      "\u001b[0;31mIndexError\u001b[0m                                Traceback (most recent call last)",
      "\u001b[0;32m<ipython-input-54-bcc52d46d0d2>\u001b[0m in \u001b[0;36m<module>\u001b[0;34m\u001b[0m\n\u001b[1;32m      1\u001b[0m \u001b[0ml\u001b[0m \u001b[0;34m=\u001b[0m \u001b[0;34m[\u001b[0m\u001b[0;36m1\u001b[0m\u001b[0;34m,\u001b[0m\u001b[0;36m2\u001b[0m\u001b[0;34m,\u001b[0m\u001b[0;36m3\u001b[0m\u001b[0;34m]\u001b[0m \u001b[0;31m# index goes from 0 to  2. So if we print index 3 or above will dispaly the index error\u001b[0m\u001b[0;34m\u001b[0m\u001b[0;34m\u001b[0m\u001b[0m\n\u001b[0;32m----> 2\u001b[0;31m \u001b[0mprint\u001b[0m\u001b[0;34m(\u001b[0m\u001b[0ml\u001b[0m\u001b[0;34m[\u001b[0m\u001b[0;36m3\u001b[0m\u001b[0;34m]\u001b[0m\u001b[0;34m)\u001b[0m\u001b[0;34m\u001b[0m\u001b[0;34m\u001b[0m\u001b[0m\n\u001b[0m",
      "\u001b[0;31mIndexError\u001b[0m: list index out of range"
     ]
    }
   ],
   "source": [
    "l = [1,2,3] # index goes from 0 to  2. So if we print index 3 or above will dispaly the index error\n",
    "print(l[3])"
   ]
  },
  {
   "cell_type": "markdown",
   "metadata": {},
   "source": [
    "# value error"
   ]
  },
  {
   "cell_type": "code",
   "execution_count": 55,
   "metadata": {},
   "outputs": [
    {
     "name": "stdout",
     "output_type": "stream",
     "text": [
      "123\n"
     ]
    }
   ],
   "source": [
    "s='123'\n",
    "print(int(s))#  correct  bbut when you change a string in to integer, will display the value error"
   ]
  },
  {
   "cell_type": "code",
   "execution_count": 56,
   "metadata": {},
   "outputs": [
    {
     "ename": "ValueError",
     "evalue": "invalid literal for int() with base 10: 'avbbb'",
     "output_type": "error",
     "traceback": [
      "\u001b[0;31m---------------------------------------------------------------------------\u001b[0m",
      "\u001b[0;31mValueError\u001b[0m                                Traceback (most recent call last)",
      "\u001b[0;32m<ipython-input-56-1ceb0396d9e1>\u001b[0m in \u001b[0;36m<module>\u001b[0;34m\u001b[0m\n\u001b[1;32m      1\u001b[0m \u001b[0ms\u001b[0m\u001b[0;34m=\u001b[0m\u001b[0;34m'avbbb'\u001b[0m\u001b[0;34m\u001b[0m\u001b[0;34m\u001b[0m\u001b[0m\n\u001b[0;32m----> 2\u001b[0;31m \u001b[0mprint\u001b[0m\u001b[0;34m(\u001b[0m\u001b[0mint\u001b[0m\u001b[0;34m(\u001b[0m\u001b[0ms\u001b[0m\u001b[0;34m)\u001b[0m\u001b[0;34m)\u001b[0m\u001b[0;34m\u001b[0m\u001b[0;34m\u001b[0m\u001b[0m\n\u001b[0m",
      "\u001b[0;31mValueError\u001b[0m: invalid literal for int() with base 10: 'avbbb'"
     ]
    }
   ],
   "source": [
    "s='avbbb'\n",
    "print(int(s))"
   ]
  },
  {
   "cell_type": "markdown",
   "metadata": {},
   "source": [
    "# attribute eror"
   ]
  },
  {
   "cell_type": "code",
   "execution_count": 57,
   "metadata": {},
   "outputs": [
    {
     "ename": "AttributeError",
     "evalue": "'list' object has no attribute 'push'",
     "output_type": "error",
     "traceback": [
      "\u001b[0;31m---------------------------------------------------------------------------\u001b[0m",
      "\u001b[0;31mAttributeError\u001b[0m                            Traceback (most recent call last)",
      "\u001b[0;32m<ipython-input-57-b73c92d18028>\u001b[0m in \u001b[0;36m<module>\u001b[0;34m\u001b[0m\n\u001b[1;32m      1\u001b[0m \u001b[0;31m# lets see the following example\u001b[0m\u001b[0;34m\u001b[0m\u001b[0;34m\u001b[0m\u001b[0;34m\u001b[0m\u001b[0m\n\u001b[1;32m      2\u001b[0m \u001b[0ml\u001b[0m \u001b[0;34m=\u001b[0m \u001b[0;34m[\u001b[0m\u001b[0;36m1\u001b[0m\u001b[0;34m,\u001b[0m\u001b[0;36m2\u001b[0m\u001b[0;34m,\u001b[0m\u001b[0;36m3\u001b[0m\u001b[0;34m,\u001b[0m\u001b[0;36m4\u001b[0m\u001b[0;34m]\u001b[0m\u001b[0;34m\u001b[0m\u001b[0;34m\u001b[0m\u001b[0m\n\u001b[0;32m----> 3\u001b[0;31m \u001b[0ml\u001b[0m\u001b[0;34m.\u001b[0m\u001b[0mpush\u001b[0m\u001b[0;34m(\u001b[0m\u001b[0;36m1\u001b[0m\u001b[0;34m)\u001b[0m  \u001b[0;31m# there is no  push function or any method associated with the list\u001b[0m\u001b[0;34m\u001b[0m\u001b[0;34m\u001b[0m\u001b[0m\n\u001b[0m",
      "\u001b[0;31mAttributeError\u001b[0m: 'list' object has no attribute 'push'"
     ]
    }
   ],
   "source": [
    "# lets see the following example\n",
    "l = [1,2,3,4]\n",
    "l.push(1)  # there is no  push function or any method associated with the list"
   ]
  },
  {
   "cell_type": "markdown",
   "metadata": {},
   "source": [
    "# key error"
   ]
  },
  {
   "cell_type": "code",
   "execution_count": 60,
   "metadata": {},
   "outputs": [
    {
     "name": "stdout",
     "output_type": "stream",
     "text": [
      "Bishnu\n"
     ]
    }
   ],
   "source": [
    "# when you print the non existing key in a dictionary\n",
    "\n",
    "d = {\"name\":\"Bishnu\"}\n",
    "print(d['name'])"
   ]
  },
  {
   "cell_type": "code",
   "execution_count": 61,
   "metadata": {},
   "outputs": [
    {
     "ename": "KeyError",
     "evalue": "'age'",
     "output_type": "error",
     "traceback": [
      "\u001b[0;31m---------------------------------------------------------------------------\u001b[0m",
      "\u001b[0;31mKeyError\u001b[0m                                  Traceback (most recent call last)",
      "\u001b[0;32m<ipython-input-61-002496f8ab48>\u001b[0m in \u001b[0;36m<module>\u001b[0;34m\u001b[0m\n\u001b[1;32m      1\u001b[0m \u001b[0md\u001b[0m \u001b[0;34m=\u001b[0m \u001b[0;34m{\u001b[0m\u001b[0;34m\"name\"\u001b[0m\u001b[0;34m:\u001b[0m\u001b[0;34m\"Bishnu\"\u001b[0m\u001b[0;34m}\u001b[0m\u001b[0;34m\u001b[0m\u001b[0;34m\u001b[0m\u001b[0m\n\u001b[0;32m----> 2\u001b[0;31m \u001b[0mprint\u001b[0m\u001b[0;34m(\u001b[0m\u001b[0md\u001b[0m\u001b[0;34m[\u001b[0m\u001b[0;34m'age'\u001b[0m\u001b[0;34m]\u001b[0m\u001b[0;34m)\u001b[0m\u001b[0;34m\u001b[0m\u001b[0;34m\u001b[0m\u001b[0m\n\u001b[0m",
      "\u001b[0;31mKeyError\u001b[0m: 'age'"
     ]
    }
   ],
   "source": [
    "d = {\"name\":\"Bishnu\"}\n",
    "print(d['age'])"
   ]
  },
  {
   "cell_type": "markdown",
   "metadata": {},
   "source": [
    "## Exception handling"
   ]
  },
  {
   "cell_type": "markdown",
   "metadata": {},
   "source": [
    "## try except"
   ]
  },
  {
   "cell_type": "code",
   "execution_count": 63,
   "metadata": {},
   "outputs": [
    {
     "name": "stdout",
     "output_type": "stream",
     "text": [
      "please enter your age  12\n",
      "you are  not allowed for this game\n"
     ]
    }
   ],
   "source": [
    "age = int(input(\"please enter your age  \"))\n",
    "if age <18:\n",
    "    print(\"you are  not allowed for this game\")\n",
    "else:\n",
    "    print(\" you are allowed for this game\")\n",
    "    "
   ]
  },
  {
   "cell_type": "code",
   "execution_count": 64,
   "metadata": {},
   "outputs": [
    {
     "name": "stdout",
     "output_type": "stream",
     "text": [
      "please enter your age  19\n",
      " you are allowed for this game\n"
     ]
    }
   ],
   "source": [
    "age = int(input(\"please enter your age  \"))\n",
    "if age <18:\n",
    "    print(\"you are  not allowed for this game\")\n",
    "else:\n",
    "    print(\" you are allowed for this game\")  # the code seems working"
   ]
  },
  {
   "cell_type": "code",
   "execution_count": 65,
   "metadata": {},
   "outputs": [
    {
     "name": "stdout",
     "output_type": "stream",
     "text": [
      "please enter your age  seven\n"
     ]
    },
    {
     "ename": "ValueError",
     "evalue": "invalid literal for int() with base 10: 'seven'",
     "output_type": "error",
     "traceback": [
      "\u001b[0;31m---------------------------------------------------------------------------\u001b[0m",
      "\u001b[0;31mValueError\u001b[0m                                Traceback (most recent call last)",
      "\u001b[0;32m<ipython-input-65-25599840313f>\u001b[0m in \u001b[0;36m<module>\u001b[0;34m\u001b[0m\n\u001b[1;32m      1\u001b[0m \u001b[0;31m# but what happen when you enter for example seven in stead of the 7\u001b[0m\u001b[0;34m\u001b[0m\u001b[0;34m\u001b[0m\u001b[0;34m\u001b[0m\u001b[0m\n\u001b[1;32m      2\u001b[0m \u001b[0;34m\u001b[0m\u001b[0m\n\u001b[0;32m----> 3\u001b[0;31m \u001b[0mage\u001b[0m \u001b[0;34m=\u001b[0m \u001b[0mint\u001b[0m\u001b[0;34m(\u001b[0m\u001b[0minput\u001b[0m\u001b[0;34m(\u001b[0m\u001b[0;34m\"please enter your age  \"\u001b[0m\u001b[0;34m)\u001b[0m\u001b[0;34m)\u001b[0m\u001b[0;34m\u001b[0m\u001b[0;34m\u001b[0m\u001b[0m\n\u001b[0m\u001b[1;32m      4\u001b[0m \u001b[0;32mif\u001b[0m \u001b[0mage\u001b[0m \u001b[0;34m<\u001b[0m\u001b[0;36m18\u001b[0m\u001b[0;34m:\u001b[0m\u001b[0;34m\u001b[0m\u001b[0;34m\u001b[0m\u001b[0m\n\u001b[1;32m      5\u001b[0m     \u001b[0mprint\u001b[0m\u001b[0;34m(\u001b[0m\u001b[0;34m\"you are  not allowed for this game\"\u001b[0m\u001b[0;34m)\u001b[0m\u001b[0;34m\u001b[0m\u001b[0;34m\u001b[0m\u001b[0m\n",
      "\u001b[0;31mValueError\u001b[0m: invalid literal for int() with base 10: 'seven'"
     ]
    }
   ],
   "source": [
    "# but what happen when you enter for example seven in stead of the 7\n",
    "\n",
    "age = int(input(\"please enter your age  \"))\n",
    "if age <18:\n",
    "    print(\"you are  not allowed for this game\")\n",
    "else:\n",
    "    print(\" you are allowed for this game\")\n",
    "    "
   ]
  },
  {
   "cell_type": "markdown",
   "metadata": {},
   "source": [
    "# rules for the try block"
   ]
  },
  {
   "cell_type": "code",
   "execution_count": null,
   "metadata": {},
   "outputs": [],
   "source": [
    "# first find the line which may have error \n",
    "# write that line or group of lines inside the tru block\n",
    "# then write the except block \n",
    "# except block will execute only when there is an error"
   ]
  },
  {
   "cell_type": "code",
   "execution_count": 67,
   "metadata": {},
   "outputs": [
    {
     "name": "stdout",
     "output_type": "stream",
     "text": [
      "please enter your age  one\n",
      "invalid syntax \n"
     ]
    }
   ],
   "source": [
    "try:\n",
    "    age = int(input(\"please enter your age  \")) # if no error try will execute and age variable get a number\n",
    "except:  # if there is error then in that case,  the except will execute and dispaly the message\n",
    "    print(\"invalid syntax \")"
   ]
  },
  {
   "cell_type": "code",
   "execution_count": 68,
   "metadata": {},
   "outputs": [
    {
     "name": "stdout",
     "output_type": "stream",
     "text": [
      "please enter your age  19\n",
      " you are allowed for this game\n"
     ]
    }
   ],
   "source": [
    "try:\n",
    "    age = int(input(\"please enter your age  \")) # if no error try will execute and age variable get a number\n",
    "except:  # if there is error then in that case,  the except will execute and dispaly the message\n",
    "    print(\"invalid syntax \")\n",
    "if age <18:\n",
    "    print(\"you are  not allowed for this game\")\n",
    "else:\n",
    "    print(\" you are allowed for this game\")\n",
    "    "
   ]
  },
  {
   "cell_type": "code",
   "execution_count": 69,
   "metadata": {},
   "outputs": [
    {
     "name": "stdout",
     "output_type": "stream",
     "text": [
      "please enter your age  12\n",
      "you are  not allowed for this game\n"
     ]
    }
   ],
   "source": [
    "try:\n",
    "    age = int(input(\"please enter your age  \")) # if no error try will execute and age variable get a number\n",
    "except:  # if there is error then in that case,  the except will execute and dispaly the message\n",
    "    print(\"invalid syntax \")\n",
    "if age <18:\n",
    "    print(\"you are  not allowed for this game\")\n",
    "else:\n",
    "    print(\" you are allowed for this game\")\n",
    "    "
   ]
  },
  {
   "cell_type": "code",
   "execution_count": 70,
   "metadata": {},
   "outputs": [
    {
     "name": "stdout",
     "output_type": "stream",
     "text": [
      "please enter your age  seven\n",
      "invalid syntax \n",
      "you are  not allowed for this game\n"
     ]
    }
   ],
   "source": [
    "try:\n",
    "    age = int(input(\"please enter your age  \")) # if no error try will execute and age variable get a number\n",
    "except:  # if there is error then in that case,  the except will execute and dispaly the message\n",
    "    print(\"invalid syntax \")\n",
    "if age <18:\n",
    "    print(\"you are  not allowed for this game\")\n",
    "else:\n",
    "    print(\" you are allowed for this game\")\n",
    "    "
   ]
  },
  {
   "cell_type": "markdown",
   "metadata": {},
   "source": [
    "## another example of try:  except:"
   ]
  },
  {
   "cell_type": "code",
   "execution_count": null,
   "metadata": {},
   "outputs": [],
   "source": [
    "# lets write a function that will take two numbers as input and divide one number by another one\n",
    "# print(divide(4,2))\n",
    "# print(divide(4,0)) # print a message when divided by zero"
   ]
  },
  {
   "cell_type": "code",
   "execution_count": 71,
   "metadata": {},
   "outputs": [
    {
     "name": "stdout",
     "output_type": "stream",
     "text": [
      "2.0\n"
     ]
    }
   ],
   "source": [
    "def divide(a,b):\n",
    "    return a/b\n",
    "print(divide(4,2))"
   ]
  },
  {
   "cell_type": "code",
   "execution_count": 72,
   "metadata": {},
   "outputs": [
    {
     "ename": "ZeroDivisionError",
     "evalue": "division by zero",
     "output_type": "error",
     "traceback": [
      "\u001b[0;31m---------------------------------------------------------------------------\u001b[0m",
      "\u001b[0;31mZeroDivisionError\u001b[0m                         Traceback (most recent call last)",
      "\u001b[0;32m<ipython-input-72-9d953c15300d>\u001b[0m in \u001b[0;36m<module>\u001b[0;34m\u001b[0m\n\u001b[1;32m      1\u001b[0m \u001b[0;32mdef\u001b[0m \u001b[0mdivide\u001b[0m\u001b[0;34m(\u001b[0m\u001b[0ma\u001b[0m\u001b[0;34m,\u001b[0m\u001b[0mb\u001b[0m\u001b[0;34m)\u001b[0m\u001b[0;34m:\u001b[0m\u001b[0;34m\u001b[0m\u001b[0;34m\u001b[0m\u001b[0m\n\u001b[1;32m      2\u001b[0m     \u001b[0;32mreturn\u001b[0m \u001b[0ma\u001b[0m\u001b[0;34m/\u001b[0m\u001b[0mb\u001b[0m\u001b[0;34m\u001b[0m\u001b[0;34m\u001b[0m\u001b[0m\n\u001b[0;32m----> 3\u001b[0;31m \u001b[0mprint\u001b[0m\u001b[0;34m(\u001b[0m\u001b[0mdivide\u001b[0m\u001b[0;34m(\u001b[0m\u001b[0;36m4\u001b[0m\u001b[0;34m,\u001b[0m\u001b[0;36m0\u001b[0m\u001b[0;34m)\u001b[0m\u001b[0;34m)\u001b[0m\u001b[0;34m\u001b[0m\u001b[0;34m\u001b[0m\u001b[0m\n\u001b[0m",
      "\u001b[0;32m<ipython-input-72-9d953c15300d>\u001b[0m in \u001b[0;36mdivide\u001b[0;34m(a, b)\u001b[0m\n\u001b[1;32m      1\u001b[0m \u001b[0;32mdef\u001b[0m \u001b[0mdivide\u001b[0m\u001b[0;34m(\u001b[0m\u001b[0ma\u001b[0m\u001b[0;34m,\u001b[0m\u001b[0mb\u001b[0m\u001b[0;34m)\u001b[0m\u001b[0;34m:\u001b[0m\u001b[0;34m\u001b[0m\u001b[0;34m\u001b[0m\u001b[0m\n\u001b[0;32m----> 2\u001b[0;31m     \u001b[0;32mreturn\u001b[0m \u001b[0ma\u001b[0m\u001b[0;34m/\u001b[0m\u001b[0mb\u001b[0m\u001b[0;34m\u001b[0m\u001b[0;34m\u001b[0m\u001b[0m\n\u001b[0m\u001b[1;32m      3\u001b[0m \u001b[0mprint\u001b[0m\u001b[0;34m(\u001b[0m\u001b[0mdivide\u001b[0m\u001b[0;34m(\u001b[0m\u001b[0;36m4\u001b[0m\u001b[0;34m,\u001b[0m\u001b[0;36m0\u001b[0m\u001b[0;34m)\u001b[0m\u001b[0;34m)\u001b[0m\u001b[0;34m\u001b[0m\u001b[0;34m\u001b[0m\u001b[0m\n",
      "\u001b[0;31mZeroDivisionError\u001b[0m: division by zero"
     ]
    }
   ],
   "source": [
    "def divide(a,b):\n",
    "    return a/b\n",
    "print(divide(4,0)) #this gives an error "
   ]
  },
  {
   "cell_type": "code",
   "execution_count": 74,
   "metadata": {},
   "outputs": [
    {
     "name": "stdout",
     "output_type": "stream",
     "text": [
      "1.0\n"
     ]
    }
   ],
   "source": [
    "#lets solve this problem by using the try and except block\n",
    "def divide(a,b):\n",
    "    try:\n",
    "        return a/b\n",
    "    except ZeroDivisionError:\n",
    "        print(\"you can not divide a number by zero\")\n",
    "        \n",
    "print(divide(4,4)) #this gives an error "
   ]
  },
  {
   "cell_type": "code",
   "execution_count": 76,
   "metadata": {},
   "outputs": [
    {
     "ename": "TypeError",
     "evalue": "unsupported operand type(s) for /: 'int' and 'str'",
     "output_type": "error",
     "traceback": [
      "\u001b[0;31m---------------------------------------------------------------------------\u001b[0m",
      "\u001b[0;31mTypeError\u001b[0m                                 Traceback (most recent call last)",
      "\u001b[0;32m<ipython-input-76-ed4a313f2780>\u001b[0m in \u001b[0;36m<module>\u001b[0;34m\u001b[0m\n\u001b[1;32m      6\u001b[0m         \u001b[0mprint\u001b[0m\u001b[0;34m(\u001b[0m\u001b[0;34m\"you can not divide a number by zero\"\u001b[0m\u001b[0;34m)\u001b[0m\u001b[0;34m\u001b[0m\u001b[0;34m\u001b[0m\u001b[0m\n\u001b[1;32m      7\u001b[0m \u001b[0;34m\u001b[0m\u001b[0m\n\u001b[0;32m----> 8\u001b[0;31m \u001b[0mprint\u001b[0m\u001b[0;34m(\u001b[0m\u001b[0mdivide\u001b[0m\u001b[0;34m(\u001b[0m\u001b[0;36m4\u001b[0m\u001b[0;34m,\u001b[0m\u001b[0;34m'4'\u001b[0m\u001b[0;34m)\u001b[0m\u001b[0;34m)\u001b[0m \u001b[0;31m#this gives an error\u001b[0m\u001b[0;34m\u001b[0m\u001b[0;34m\u001b[0m\u001b[0m\n\u001b[0m",
      "\u001b[0;32m<ipython-input-76-ed4a313f2780>\u001b[0m in \u001b[0;36mdivide\u001b[0;34m(a, b)\u001b[0m\n\u001b[1;32m      2\u001b[0m \u001b[0;32mdef\u001b[0m \u001b[0mdivide\u001b[0m\u001b[0;34m(\u001b[0m\u001b[0ma\u001b[0m\u001b[0;34m,\u001b[0m\u001b[0mb\u001b[0m\u001b[0;34m)\u001b[0m\u001b[0;34m:\u001b[0m\u001b[0;34m\u001b[0m\u001b[0;34m\u001b[0m\u001b[0m\n\u001b[1;32m      3\u001b[0m     \u001b[0;32mtry\u001b[0m\u001b[0;34m:\u001b[0m\u001b[0;34m\u001b[0m\u001b[0;34m\u001b[0m\u001b[0m\n\u001b[0;32m----> 4\u001b[0;31m         \u001b[0;32mreturn\u001b[0m \u001b[0ma\u001b[0m\u001b[0;34m/\u001b[0m\u001b[0mb\u001b[0m\u001b[0;34m\u001b[0m\u001b[0;34m\u001b[0m\u001b[0m\n\u001b[0m\u001b[1;32m      5\u001b[0m     \u001b[0;32mexcept\u001b[0m \u001b[0mZeroDivisionError\u001b[0m\u001b[0;34m:\u001b[0m\u001b[0;34m\u001b[0m\u001b[0;34m\u001b[0m\u001b[0m\n\u001b[1;32m      6\u001b[0m         \u001b[0mprint\u001b[0m\u001b[0;34m(\u001b[0m\u001b[0;34m\"you can not divide a number by zero\"\u001b[0m\u001b[0;34m)\u001b[0m\u001b[0;34m\u001b[0m\u001b[0;34m\u001b[0m\u001b[0m\n",
      "\u001b[0;31mTypeError\u001b[0m: unsupported operand type(s) for /: 'int' and 'str'"
     ]
    }
   ],
   "source": [
    "# for example we give one number as a string\n",
    "def divide(a,b):\n",
    "    try:\n",
    "        return a/b\n",
    "    except ZeroDivisionError:\n",
    "        print(\"you can not divide a number by zero\")\n",
    "        \n",
    "print(divide(4,'4')) #this gives a type error "
   ]
  },
  {
   "cell_type": "code",
   "execution_count": 77,
   "metadata": {},
   "outputs": [
    {
     "name": "stdout",
     "output_type": "stream",
     "text": [
      "please change the string toa number\n",
      "None\n"
     ]
    }
   ],
   "source": [
    "def divide(a,b):\n",
    "    try:\n",
    "        return a/b\n",
    "    except ZeroDivisionError:\n",
    "        print(\"you can not divide a number by zero\")\n",
    "    except TypeError:\n",
    "        print(\"please change the string toa number\")\n",
    "        \n",
    "print(divide(4,'4')) #this gives an error "
   ]
  },
  {
   "cell_type": "code",
   "execution_count": null,
   "metadata": {},
   "outputs": [],
   "source": [
    "def divide(a,b):\n",
    "    try:\n",
    "        return a/b\n",
    "    except ZeroDivisionError:\n",
    "        print(\"you can not divide a number by zero\")\n",
    "    except TypeError:\n",
    "        print(\"please change the string toa number\")\n",
    "    except:\n",
    "        print(\"unexcepted error\")\n",
    "        \n",
    "print(divide(4,'4')) #this gives an error "
   ]
  },
  {
   "cell_type": "markdown",
   "metadata": {},
   "source": [
    "# python debugger"
   ]
  },
  {
   "cell_type": "code",
   "execution_count": 78,
   "metadata": {},
   "outputs": [
    {
     "name": "stdout",
     "output_type": "stream",
     "text": [
      "Please input ypur nameBishnu\n",
      "please input your age34\n",
      "helloBishnu your age is 34\n"
     ]
    },
    {
     "ename": "TypeError",
     "evalue": "can only concatenate str (not \"int\") to str",
     "output_type": "error",
     "traceback": [
      "\u001b[0;31m---------------------------------------------------------------------------\u001b[0m",
      "\u001b[0;31mTypeError\u001b[0m                                 Traceback (most recent call last)",
      "\u001b[0;32m<ipython-input-78-41d1ca806772>\u001b[0m in \u001b[0;36m<module>\u001b[0;34m\u001b[0m\n\u001b[1;32m      2\u001b[0m \u001b[0mage\u001b[0m \u001b[0;34m=\u001b[0m \u001b[0minput\u001b[0m\u001b[0;34m(\u001b[0m\u001b[0;34m\"please input your age\"\u001b[0m\u001b[0;34m)\u001b[0m\u001b[0;34m\u001b[0m\u001b[0;34m\u001b[0m\u001b[0m\n\u001b[1;32m      3\u001b[0m \u001b[0mprint\u001b[0m\u001b[0;34m(\u001b[0m\u001b[0;34mf\"hello{name} your age is {age}\"\u001b[0m\u001b[0;34m)\u001b[0m\u001b[0;34m\u001b[0m\u001b[0;34m\u001b[0m\u001b[0m\n\u001b[0;32m----> 4\u001b[0;31m \u001b[0mage\u001b[0m \u001b[0;34m=\u001b[0m \u001b[0mage\u001b[0m \u001b[0;34m+\u001b[0m\u001b[0;36m5\u001b[0m\u001b[0;34m\u001b[0m\u001b[0;34m\u001b[0m\u001b[0m\n\u001b[0m\u001b[1;32m      5\u001b[0m \u001b[0mprint\u001b[0m\u001b[0;34m(\u001b[0m\u001b[0;34mf\" yo will be  {age} year old in 5 year\"\u001b[0m\u001b[0;34m)\u001b[0m\u001b[0;34m\u001b[0m\u001b[0;34m\u001b[0m\u001b[0m\n\u001b[1;32m      6\u001b[0m \u001b[0;34m\u001b[0m\u001b[0m\n",
      "\u001b[0;31mTypeError\u001b[0m: can only concatenate str (not \"int\") to str"
     ]
    }
   ],
   "source": [
    "name = input(\"Please input ypur name\")\n",
    "age = input(\"please input your age\")\n",
    "print(f\"hello{name} your age is {age}\")\n",
    "age = age +5 # age is not changed in to integer yet\n",
    "print(f\" yo will be  {age} year old in 5 year\")\n",
    "      "
   ]
  },
  {
   "cell_type": "code",
   "execution_count": null,
   "metadata": {},
   "outputs": [],
   "source": [
    "# pdb.set_trace() will execute line by line\n",
    "# each line will be stopped after each line\n",
    "# then type the command     l\n",
    "# then type n command\n",
    "# where the error is that line will show thw error\n",
    "#looks like something wrong but process is fine"
   ]
  },
  {
   "cell_type": "code",
   "execution_count": null,
   "metadata": {},
   "outputs": [
    {
     "name": "stdout",
     "output_type": "stream",
     "text": [
      "Please input ypur nameBishnu\n",
      "please input your age34\n",
      "helloBishnu your age is 34\n",
      "--Return--\n",
      "> <ipython-input-1-d43c544dcd3a>(6)<module>()->None\n",
      "-> pdb.set_trace()\n",
      "(Pdb) l\n",
      "  1  \timport pdb\n",
      "  2  \t\n",
      "  3  \tname = input(\"Please input ypur name\")\n",
      "  4  \tage = input(\"please input your age\")\n",
      "  5  \tprint(f\"hello{name} your age is {age}\")\n",
      "  6  ->\tpdb.set_trace()\n",
      "  7  \tage2 = age +5 # age is not changed in to integer yet\n",
      "  8  \tprint(f\" yo will be  {age2} year old in 5 year\")\n",
      "[EOF]\n"
     ]
    }
   ],
   "source": [
    "import pdb\n",
    "pdb.set_trace()\n",
    "name = input(\"Please input ypur name\")\n",
    "age = input(\"please input your age\")\n",
    "print(f\"hello{name} your age is {age}\")\n",
    "\n",
    "age2 = age +5 # age is not changed in to integer yet\n",
    "print(f\" you will be  {age2} year old in 5 year\")"
   ]
  },
  {
   "cell_type": "markdown",
   "metadata": {},
   "source": [
    "# Raed text files"
   ]
  },
  {
   "cell_type": "code",
   "execution_count": 1,
   "metadata": {},
   "outputs": [
    {
     "name": "stdout",
     "output_type": "stream",
     "text": [
      "Hellomy name is Bishnu Pandey\n",
      "I am a python learner\n",
      "Todays date is April 25, 2020\n",
      "\n"
     ]
    }
   ],
   "source": [
    "f = open('file1.txt','r')\n",
    "print(f.read())\n",
    "f.close()"
   ]
  },
  {
   "cell_type": "code",
   "execution_count": 2,
   "metadata": {},
   "outputs": [
    {
     "name": "stdout",
     "output_type": "stream",
     "text": [
      "Hellomy name is Bishnu Pandey\n",
      "I am a python learner\n",
      "Todays date is April 25, 2020\n",
      "\n",
      "\n"
     ]
    }
   ],
   "source": [
    "f = open('file1.txt','r')\n",
    "print(f.read())# fater reading this line ,eans the cursor reached at the end point that at 2020. \n",
    "print(f.read()) # printing same thing agian means cursor doesnot back to initial point.\n",
    "f.close()"
   ]
  },
  {
   "cell_type": "markdown",
   "metadata": {},
   "source": [
    "## tell() method is used to find the position of the cursor"
   ]
  },
  {
   "cell_type": "code",
   "execution_count": 5,
   "metadata": {},
   "outputs": [
    {
     "name": "stdout",
     "output_type": "stream",
     "text": [
      "The current cursor position is = 0\n",
      "Hellomy name is Bishnu Pandey\n",
      "I am a python learner\n",
      "Todays date is April 25, 2020\n",
      "\n",
      "The current cursor position is = 82\n",
      "\n",
      "The current cursor position is = 82\n"
     ]
    }
   ],
   "source": [
    "# can chceck the cursor position\n",
    "f = open('file1.txt','r')\n",
    "print(f\"The current cursor position is = {f.tell()}\")\n",
    "print(f.read())\n",
    "print(f\"The current cursor position is = {f.tell()}\")\n",
    "print(f.read()) \n",
    "print(f\"The current cursor position is = {f.tell()}\")\n",
    "f.close()"
   ]
  },
  {
   "cell_type": "markdown",
   "metadata": {},
   "source": [
    "# seek() method    to change the position of the cursor"
   ]
  },
  {
   "cell_type": "code",
   "execution_count": 8,
   "metadata": {},
   "outputs": [
    {
     "name": "stdout",
     "output_type": "stream",
     "text": [
      "The current cursor position is = 0\n",
      "Hellomy name is Bishnu Pandey\n",
      "I am a python learner\n",
      "Todays date is April 25, 2020\n",
      "\n",
      "The current cursor position is = 82\n",
      "The cursor position before seek method = 82\n",
      "0\n",
      "The cursor position after seek method   = 0\n",
      "Hellomy name is Bishnu Pandey\n",
      "I am a python learner\n",
      "Todays date is April 25, 2020\n",
      "\n"
     ]
    }
   ],
   "source": [
    "f = open('file1.txt','r')\n",
    "print(f\"The current cursor position is = {f.tell()}\")\n",
    "print(f.read())\n",
    "print(f\"The current cursor position is = {f.tell()}\")\n",
    "print(f\"The cursor position before seek method = {f.tell()}\")\n",
    "print(f.seek(0))  # seek(0) means the position of the cursor is changed to zero\n",
    "print(f\"The cursor position after seek method   = {f.tell()}\")\n",
    "print(f.read())\n",
    "f.close()"
   ]
  },
  {
   "cell_type": "markdown",
   "metadata": {},
   "source": [
    "## readline() method"
   ]
  },
  {
   "cell_type": "code",
   "execution_count": 9,
   "metadata": {},
   "outputs": [
    {
     "name": "stdout",
     "output_type": "stream",
     "text": [
      "The current cursor position is = 0\n",
      "Hellomy name is Bishnu Pandey\n",
      "\n"
     ]
    }
   ],
   "source": [
    "# The readline method reads one line one time\n",
    "f = open('file1.txt','r')\n",
    "print(f\"The current cursor position is = {f.tell()}\")\n",
    "print(f.readline())"
   ]
  },
  {
   "cell_type": "code",
   "execution_count": 10,
   "metadata": {},
   "outputs": [
    {
     "name": "stdout",
     "output_type": "stream",
     "text": [
      "The current cursor position is = 0\n",
      "Hellomy name is Bishnu Pandey\n",
      "\n",
      "The current cursor position is = 30\n",
      "I am a python learner\n",
      "\n"
     ]
    }
   ],
   "source": [
    "f = open('file1.txt','r')\n",
    "print(f\"The current cursor position is = {f.tell()}\")\n",
    "print(f.readline())\n",
    "print(f\"The current cursor position is = {f.tell()}\")\n",
    "print(f.readline())"
   ]
  },
  {
   "cell_type": "markdown",
   "metadata": {},
   "source": [
    "### There is some extra space in the above two lines. lets remove that space"
   ]
  },
  {
   "cell_type": "code",
   "execution_count": 13,
   "metadata": {},
   "outputs": [
    {
     "name": "stdout",
     "output_type": "stream",
     "text": [
      "The current cursor position is = 0\n",
      "Hellomy name is Bishnu Pandey\n",
      "The current cursor position is = 30\n",
      "I am a python learner\n",
      "\n"
     ]
    }
   ],
   "source": [
    "f = open('file1.txt','r')\n",
    "print(f\"The current cursor position is = {f.tell()}\")\n",
    "print(f.readline(),end=\"\")#here we put an additional string that is end = \"\" will remove the space betn lines\n",
    "print(f\"The current cursor position is = {f.tell()}\")\n",
    "print(f.readline())"
   ]
  },
  {
   "cell_type": "markdown",
   "metadata": {},
   "source": [
    "### readlines() method reads all of the lines at one time and put them in alist"
   ]
  },
  {
   "cell_type": "code",
   "execution_count": 19,
   "metadata": {},
   "outputs": [
    {
     "name": "stdout",
     "output_type": "stream",
     "text": [
      "['Hellomy name is Bishnu Pandey\\n', 'I am a python learner\\n', 'Todays date is April 25, 2020\\n']\n"
     ]
    }
   ],
   "source": [
    "f = open('file1.txt','r')\n",
    "print(f.readlines())  # readlines read all of the lines at one time\n"
   ]
  },
  {
   "cell_type": "code",
   "execution_count": 20,
   "metadata": {},
   "outputs": [
    {
     "name": "stdout",
     "output_type": "stream",
     "text": [
      "['Hellomy name is Bishnu Pandey\\n', 'I am a python learner\\n', 'Todays date is April 25, 2020\\n']\n",
      "3\n"
     ]
    }
   ],
   "source": [
    "# we can find the number of lines by using the len() function\n",
    "f = open('file1.txt','r')\n",
    "lines = f.readlines()\n",
    "print(lines)\n",
    "print(len(lines)) # there are 3 lines"
   ]
  },
  {
   "cell_type": "markdown",
   "metadata": {},
   "source": [
    "### Can use a loop in the lines"
   ]
  },
  {
   "cell_type": "code",
   "execution_count": 21,
   "metadata": {},
   "outputs": [
    {
     "name": "stdout",
     "output_type": "stream",
     "text": [
      "Hellomy name is Bishnu Pandey\n",
      "\n",
      "I am a python learner\n",
      "\n",
      "Todays date is April 25, 2020\n",
      "\n"
     ]
    }
   ],
   "source": [
    "for i in lines:\n",
    "    print(i)  # there is extra space in between the lines"
   ]
  },
  {
   "cell_type": "code",
   "execution_count": 23,
   "metadata": {},
   "outputs": [
    {
     "name": "stdout",
     "output_type": "stream",
     "text": [
      "Hellomy name is Bishnu Pandey\n",
      "I am a python learner\n",
      "Todays date is April 25, 2020\n"
     ]
    }
   ],
   "source": [
    "# in order to remove the space in between the lines\n",
    "for i in lines:\n",
    "    print(i,end=\"\") #the space in between the lines is removed"
   ]
  },
  {
   "cell_type": "markdown",
   "metadata": {},
   "source": [
    "### how to print the name of the file"
   ]
  },
  {
   "cell_type": "code",
   "execution_count": 26,
   "metadata": {},
   "outputs": [
    {
     "name": "stdout",
     "output_type": "stream",
     "text": [
      "file1.txt\n"
     ]
    }
   ],
   "source": [
    "print(f.name)"
   ]
  },
  {
   "cell_type": "markdown",
   "metadata": {},
   "source": [
    "### to see whether the opened file is closed or not"
   ]
  },
  {
   "cell_type": "code",
   "execution_count": 31,
   "metadata": {},
   "outputs": [
    {
     "name": "stdout",
     "output_type": "stream",
     "text": [
      "True\n"
     ]
    }
   ],
   "source": [
    "f = open('file1.txt','r')\n",
    "lines = f.readlines()\n",
    "f.close() #since the file is closed here therefore it printed True\n",
    "print(f.closed)"
   ]
  },
  {
   "cell_type": "code",
   "execution_count": 32,
   "metadata": {},
   "outputs": [
    {
     "name": "stdout",
     "output_type": "stream",
     "text": [
      "False\n"
     ]
    }
   ],
   "source": [
    "f = open('file1.txt','r')\n",
    "lines = f.readlines()\n",
    "print(f.closed)# the file is not closed yet  therefore t will print False\n",
    "f.close() "
   ]
  },
  {
   "cell_type": "markdown",
   "metadata": {},
   "source": [
    "## open file with the with block"
   ]
  },
  {
   "cell_type": "code",
   "execution_count": 34,
   "metadata": {},
   "outputs": [
    {
     "name": "stdout",
     "output_type": "stream",
     "text": [
      "Hellomy name is Bishnu Pandey\n",
      "I am a python learner\n",
      "Todays date is April 25, 2020\n",
      "\n"
     ]
    }
   ],
   "source": [
    "with open('file1.txt') as f:  #with in this block can work for eg print file, store data in variable etc\n",
    "    data = f.read()  # no need to close the file with this method\n",
    "    print(data)"
   ]
  },
  {
   "cell_type": "markdown",
   "metadata": {},
   "source": [
    "## How to write to the file"
   ]
  },
  {
   "cell_type": "code",
   "execution_count": null,
   "metadata": {},
   "outputs": [],
   "source": [
    "# To read a file we use 'r' mode. Even if we do not use the 'r' mode it is by defaut set in the read mode\n",
    "# To write to the file we use 'w' or 'a' or 'r+' mode"
   ]
  },
  {
   "cell_type": "markdown",
   "metadata": {},
   "source": [
    "## 'w ' mode to write a file. Actually it overwrites to the file"
   ]
  },
  {
   "cell_type": "code",
   "execution_count": 35,
   "metadata": {},
   "outputs": [
    {
     "name": "stdout",
     "output_type": "stream",
     "text": [
      "Hellomy name is Bishnu Pandey\n",
      "I am a python learner\n",
      "Todays date is April 25, 2020\n",
      "\n"
     ]
    }
   ],
   "source": [
    "with open('file2.txt') as f:\n",
    "    data = f.read()\n",
    "    print(data)# This is the original file"
   ]
  },
  {
   "cell_type": "code",
   "execution_count": 61,
   "metadata": {},
   "outputs": [
    {
     "name": "stdout",
     "output_type": "stream",
     "text": [
      "12\n"
     ]
    }
   ],
   "source": [
    "# Now letus use the 'w 'mode in the above  file2.txt. it overwrites to the file\n",
    "with open('file2.txt','w') as f:\n",
    "    data = f.write('hello world!')\n",
    "    print(data)\n",
    "    # for some reason it doesn/'t print here in this line. Therefore I I write the following lines    "
   ]
  },
  {
   "cell_type": "code",
   "execution_count": 62,
   "metadata": {},
   "outputs": [
    {
     "name": "stdout",
     "output_type": "stream",
     "text": [
      "hello world!\n"
     ]
    }
   ],
   "source": [
    "with open('file2.txt') as f:\n",
    "    data = f.read()\n",
    "    print(data)#"
   ]
  },
  {
   "cell_type": "markdown",
   "metadata": {},
   "source": [
    "## 'w' mode creates the file it self if the file doesnot exist"
   ]
  },
  {
   "cell_type": "code",
   "execution_count": 74,
   "metadata": {},
   "outputs": [
    {
     "name": "stdout",
     "output_type": "stream",
     "text": [
      "23\n"
     ]
    }
   ],
   "source": [
    "# new_file.txt does not exist. I am going tow create it with the 'w' mode\n",
    "with open('new_file.txt','w') as f:\n",
    "    data=f.write('I am a python learner! ')\n",
    "    print(data)"
   ]
  },
  {
   "cell_type": "code",
   "execution_count": 75,
   "metadata": {},
   "outputs": [
    {
     "name": "stdout",
     "output_type": "stream",
     "text": [
      "I am a python learner! \n"
     ]
    }
   ],
   "source": [
    "with open('new_file.txt','r') as f:\n",
    "    data=f.read()\n",
    "    print(data)"
   ]
  },
  {
   "cell_type": "markdown",
   "metadata": {},
   "source": [
    "### append mode that is 'a' mode. It won't overwrite, instead it will simply add new lines to the exissting one"
   ]
  },
  {
   "cell_type": "code",
   "execution_count": 77,
   "metadata": {},
   "outputs": [
    {
     "name": "stdout",
     "output_type": "stream",
     "text": [
      "26\n"
     ]
    }
   ],
   "source": [
    "# for example I have a file new_file.txt has only one line . would like to add another \n",
    "with open('new_file.txt','a') as f:\n",
    "    data=f.write('\\nI am learning by my self!')\n",
    "    print(data)"
   ]
  },
  {
   "cell_type": "code",
   "execution_count": 78,
   "metadata": {},
   "outputs": [
    {
     "name": "stdout",
     "output_type": "stream",
     "text": [
      "I am a python learner! I am learning by my self!\n",
      "I am learning by my self!\n"
     ]
    }
   ],
   "source": [
    "with open('new_file.txt','r') as f:\n",
    "    data=f.read()\n",
    "    print(data)"
   ]
  },
  {
   "cell_type": "markdown",
   "metadata": {},
   "source": [
    "## 'r+' mode  can read and write both same time Note: it doesn't create a new file itself."
   ]
  },
  {
   "cell_type": "code",
   "execution_count": 79,
   "metadata": {},
   "outputs": [
    {
     "name": "stdout",
     "output_type": "stream",
     "text": [
      "I am a python learner! I am learning by my self!\n",
      "I am learning by my self!\n"
     ]
    }
   ],
   "source": [
    "with open('NEW_FILE.txt','r') as f:\n",
    "    data=f.read()\n",
    "    print(data)"
   ]
  },
  {
   "cell_type": "code",
   "execution_count": 80,
   "metadata": {},
   "outputs": [
    {
     "name": "stdout",
     "output_type": "stream",
     "text": [
      "22\n"
     ]
    }
   ],
   "source": [
    "with open('NEW_FILE.txt','r+') as f:\n",
    "    data=f.write(\"Today is lockdown day!\")\n",
    "    print(data)"
   ]
  },
  {
   "cell_type": "code",
   "execution_count": 81,
   "metadata": {},
   "outputs": [
    {
     "name": "stdout",
     "output_type": "stream",
     "text": [
      "Today is lockdown day! I am learning by my self!\n",
      "I am learning by my self!\n"
     ]
    }
   ],
   "source": [
    "with open('NEW_FILE.txt','r+') as f:\n",
    "    data=f.read()\n",
    "    print(data) #the first sentence was overwritten"
   ]
  },
  {
   "cell_type": "markdown",
   "metadata": {},
   "source": [
    "### with out overwriting the first sentence, lets write the new sentence after the text preset in the file "
   ]
  },
  {
   "cell_type": "code",
   "execution_count": 83,
   "metadata": {},
   "outputs": [
    {
     "name": "stdout",
     "output_type": "stream",
     "text": [
      "42\n"
     ]
    }
   ],
   "source": [
    "with open('NEW_FILE.txt','r+') as f:\n",
    "    f.seek(len(f.read()))  # this line will push the added text to the end of the \n",
    "    data=f.write(\"The whole summer will be a lockdown period\")\n",
    "    print(data) "
   ]
  },
  {
   "cell_type": "code",
   "execution_count": 86,
   "metadata": {},
   "outputs": [
    {
     "name": "stdout",
     "output_type": "stream",
     "text": [
      "Today is lockdown day! I am learning by my self!\n",
      "I am learning by my self!The whole summer will be a lockdown period\n"
     ]
    }
   ],
   "source": [
    "with open('NEW_FILE.txt','r+') as f:\n",
    "    data=f.read()\n",
    "    print(data) "
   ]
  },
  {
   "cell_type": "markdown",
   "metadata": {},
   "source": [
    "## read and write together"
   ]
  },
  {
   "cell_type": "code",
   "execution_count": null,
   "metadata": {},
   "outputs": [],
   "source": [
    "# NEW_FILE.txt has text and there is an empty file does not have any text   New_1.txt"
   ]
  },
  {
   "cell_type": "code",
   "execution_count": 88,
   "metadata": {},
   "outputs": [],
   "source": [
    "with open('NEW_FILE.txt','r') as rf:\n",
    "    with open('New_1.txt','w') as wf:\n",
    "        wf.write(rf.read())"
   ]
  },
  {
   "cell_type": "code",
   "execution_count": 89,
   "metadata": {},
   "outputs": [
    {
     "name": "stdout",
     "output_type": "stream",
     "text": [
      "Today is lockdown day! I am learning by my self!\n",
      "I am learning by my self!The whole summer will be a lockdown period\n"
     ]
    }
   ],
   "source": [
    "with open('New_1.txt') as f:\n",
    "    data = f.read()\n",
    "    print(data)"
   ]
  },
  {
   "cell_type": "code",
   "execution_count": null,
   "metadata": {},
   "outputs": [],
   "source": []
  },
  {
   "cell_type": "code",
   "execution_count": null,
   "metadata": {},
   "outputs": [],
   "source": []
  },
  {
   "cell_type": "code",
   "execution_count": null,
   "metadata": {},
   "outputs": [],
   "source": []
  },
  {
   "cell_type": "code",
   "execution_count": null,
   "metadata": {},
   "outputs": [],
   "source": []
  },
  {
   "cell_type": "code",
   "execution_count": null,
   "metadata": {},
   "outputs": [],
   "source": []
  }
 ],
 "metadata": {
  "kernelspec": {
   "display_name": "Python 3",
   "language": "python",
   "name": "python3"
  },
  "language_info": {
   "codemirror_mode": {
    "name": "ipython",
    "version": 3
   },
   "file_extension": ".py",
   "mimetype": "text/x-python",
   "name": "python",
   "nbconvert_exporter": "python",
   "pygments_lexer": "ipython3",
   "version": "3.7.1"
  }
 },
 "nbformat": 4,
 "nbformat_minor": 2
}
