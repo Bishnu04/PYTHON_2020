{
 "cells": [
  {
   "cell_type": "markdown",
   "metadata": {},
   "source": [
    "## starting python on April 10, 2020 from beginning ( H V)"
   ]
  },
  {
   "cell_type": "markdown",
   "metadata": {},
   "source": [
    "# Print() function"
   ]
  },
  {
   "cell_type": "markdown",
   "metadata": {},
   "source": [
    "### How to print out the hello world"
   ]
  },
  {
   "cell_type": "code",
   "execution_count": 1,
   "metadata": {},
   "outputs": [
    {
     "name": "stdout",
     "output_type": "stream",
     "text": [
      "hello world!\n",
      "Hello world!\n"
     ]
    }
   ],
   "source": [
    "print(\"hello world!\") # can use a double quotation\n",
    "print('Hello world!') # can use a single quotation\n",
    "# the reason of using the quotation is to connect more than 1 characters\n",
    "# group of more character is called the string"
   ]
  },
  {
   "cell_type": "code",
   "execution_count": 2,
   "metadata": {},
   "outputs": [
    {
     "name": "stdout",
     "output_type": "stream",
     "text": [
      " my name is 'Bishnu' and I a python learner\n",
      " my name is \"Bishnu\" and I a python learner\n"
     ]
    },
    {
     "data": {
      "text/plain": [
       "'double quote inside double or single quote inside single quote is not allowed'"
      ]
     },
     "execution_count": 2,
     "metadata": {},
     "output_type": "execute_result"
    }
   ],
   "source": [
    "print(\" my name is 'Bishnu' and I a python learner\")# single quotation inside double quote is allowed\n",
    "print(' my name is \"Bishnu\" and I a python learner')# double quote inside single quote is  allowed\n",
    "\n",
    "'''double quote inside double or single quote inside single quote is not allowed'''"
   ]
  },
  {
   "cell_type": "code",
   "execution_count": 3,
   "metadata": {},
   "outputs": [
    {
     "name": "stdout",
     "output_type": "stream",
     "text": [
      "hello world!\n"
     ]
    }
   ],
   "source": [
    "a = \"hello world!\"  #  string can be stored in any of the varible\n",
    "print(a)"
   ]
  },
  {
   "cell_type": "code",
   "execution_count": 4,
   "metadata": {
    "scrolled": true
   },
   "outputs": [
    {
     "name": "stdout",
     "output_type": "stream",
     "text": [
      " please Enter a text messageHello world\n",
      "Hello world\n"
     ]
    }
   ],
   "source": [
    "a = input(\" please Enter a text message\")\n",
    "print(a)"
   ]
  },
  {
   "cell_type": "markdown",
   "metadata": {},
   "source": [
    "# Escape Sequences\n",
    "In Python strings, the backslash \"\\ \" is called the \"escape\" character. It is used in representing certain whitespace characters: \"\\t\" is a tab, \"\\n\" is a newline, and \"\\r\" is a carriage return. \n"
   ]
  },
  {
   "cell_type": "markdown",
   "metadata": {},
   "source": [
    "## Following are some escape sequences"
   ]
  },
  {
   "cell_type": "code",
   "execution_count": 5,
   "metadata": {},
   "outputs": [
    {
     "data": {
      "text/plain": [
       "'\\n\"     double quote\\n\\'     single quote\\n\\n\\n      new line\\n\\t      tab\\n\\\\ single back slash\\n\\\\\\\\doube backslash\\n\\n\\n\\n'"
      ]
     },
     "execution_count": 5,
     "metadata": {},
     "output_type": "execute_result"
    }
   ],
   "source": [
    "'''\n",
    "\\\"     double quote\n",
    "\\'     single quote\n",
    "\n",
    "\\n      new line\n",
    "\\t      tab\n",
    "\\\\ single back slash\n",
    "\\\\\\\\doube backslash\n",
    "\n",
    "\n",
    "\n",
    "'''"
   ]
  },
  {
   "cell_type": "code",
   "execution_count": 6,
   "metadata": {},
   "outputs": [
    {
     "name": "stdout",
     "output_type": "stream",
     "text": [
      " my name is \" Bishnu Pandey\" and I am a python lerner\n",
      " my name is ' Bishnu Pandey' and I am a python lerner\n",
      " I am Bishnu\tPandey\n",
      " This is line 1\n",
      " This is line 2\n",
      " This is line 3\n",
      " this is a  \\ single backslash  \n",
      " this is a  \\\\ double backslash  \n"
     ]
    }
   ],
   "source": [
    "print( \" my name is \\\" Bishnu Pandey\\\" and I am a python lerner\")\n",
    "print( ' my name is \\' Bishnu Pandey\\' and I am a python lerner')\n",
    "print(\" I am Bishnu\\tPandey\")\n",
    "print(\" This is line 1\\n This is line 2\\n This is line 3\")\n",
    "print(\" this is a  \\\\ single backslash  \")\n",
    "print(\" this is a  \\\\\\\\ double backslash  \")\n"
   ]
  },
  {
   "cell_type": "markdown",
   "metadata": {},
   "source": [
    "# Comments in Python\n",
    "Comments is a message for a user or for a reader about the program or about the code \n",
    "### comment portion is not executed by the python\n",
    "### Comments start with a # sign that is anything after # will not be executed"
   ]
  },
  {
   "cell_type": "code",
   "execution_count": 7,
   "metadata": {},
   "outputs": [
    {
     "data": {
      "text/plain": [
       "'\\nIn order to comment a line go to the line and do ctrl + forward slash\\nIn order to uncomment the line go to the line and do ctrl + forward slash\\n\\n'"
      ]
     },
     "execution_count": 7,
     "metadata": {},
     "output_type": "execute_result"
    }
   ],
   "source": [
    "'''\n",
    "In order to comment a line go to the line and do ctrl + forward slash\n",
    "In order to uncomment the line go to the line and do ctrl + forward slash\n",
    "\n",
    "'''"
   ]
  },
  {
   "cell_type": "markdown",
   "metadata": {},
   "source": [
    "# Use Escape sequence as normal text"
   ]
  },
  {
   "cell_type": "code",
   "execution_count": 8,
   "metadata": {},
   "outputs": [
    {
     "name": "stdout",
     "output_type": "stream",
     "text": [
      " my name is \" Bishnu Pandey\" and I am a python lerner\n",
      " my name is \\\" Bishnu Pandey\\\" and I am a python lerner\n"
     ]
    }
   ],
   "source": [
    "print( \" my name is \\\" Bishnu Pandey\\\" and I am a python lerner\") # using the Escape sequence\n",
    "print( r\" my name is \\\" Bishnu Pandey\\\" and I am a python lerner\") # Using escape sequence as normal text"
   ]
  },
  {
   "cell_type": "code",
   "execution_count": 9,
   "metadata": {},
   "outputs": [
    {
     "name": "stdout",
     "output_type": "stream",
     "text": [
      " I am Bishnu\tPandey\n",
      " I am Bishnu\\tPandey\n",
      " This is line 1\\n This is line 2\\n This is line 3\n"
     ]
    }
   ],
   "source": [
    "print(\" I am Bishnu\\tPandey\") # using the Escape sequence\n",
    "# using the Escape sequence\n",
    "print(r\" I am Bishnu\\tPandey\")# Using escape sequence as normal text\n",
    "print(r\" This is line 1\\n This is line 2\\n This is line 3\") # Using escape sequence as normal text\n",
    "# Note if you write r before the first quote, the escape sequence work like a normal text"
   ]
  },
  {
   "cell_type": "markdown",
   "metadata": {},
   "source": [
    "# Operators in Python\n",
    "Python as a calculator"
   ]
  },
  {
   "cell_type": "code",
   "execution_count": 10,
   "metadata": {},
   "outputs": [
    {
     "data": {
      "text/plain": [
       "'\\nThe following are the python operators\\n\\n+   Addition operator\\n\\n-   Subtraction operator\\n\\n*  Multiplication operator\\n\\n/  Float division\\n\\n// Integer division\\n\\n%  Modulo operator\\n\\n** Exponent operator\\n\\n\\n'"
      ]
     },
     "execution_count": 10,
     "metadata": {},
     "output_type": "execute_result"
    }
   ],
   "source": [
    "'''\n",
    "The following are the python operators\n",
    "\n",
    "+   Addition operator\n",
    "\n",
    "-   Subtraction operator\n",
    "\n",
    "*  Multiplication operator\n",
    "\n",
    "/  Float division\n",
    "\n",
    "// Integer division\n",
    "\n",
    "%  Modulo operator\n",
    "\n",
    "** Exponent operator\n",
    "\n",
    "\n",
    "'''"
   ]
  },
  {
   "cell_type": "code",
   "execution_count": 11,
   "metadata": {},
   "outputs": [
    {
     "name": "stdout",
     "output_type": "stream",
     "text": [
      "5\n",
      "-1\n",
      "56\n",
      "0.5\n",
      "5.0\n",
      "0\n",
      "5\n"
     ]
    }
   ],
   "source": [
    "print(2+3) # Addition operator\n",
    "print(2-3) #Subtraction operator\n",
    "print(2*3 + 5*10) #Multiplication operator\n",
    "print(2/4) #Float division\n",
    "print(20/4) #Float division\n",
    "print(2//4) #Integer division\n",
    "print(20//4) #Integer division\n"
   ]
  },
  {
   "cell_type": "code",
   "execution_count": 12,
   "metadata": {},
   "outputs": [
    {
     "name": "stdout",
     "output_type": "stream",
     "text": [
      "3\n"
     ]
    }
   ],
   "source": [
    "# Modulo operaator gives the remainder\n",
    "print(23%5)  #  here 3 is the remainder"
   ]
  },
  {
   "cell_type": "code",
   "execution_count": 13,
   "metadata": {},
   "outputs": [
    {
     "name": "stdout",
     "output_type": "stream",
     "text": [
      "16\n",
      "16\n"
     ]
    }
   ],
   "source": [
    "# exponenet operator gives the power\n",
    "print(4**2)\n",
    "print(pow(4,2))"
   ]
  },
  {
   "cell_type": "code",
   "execution_count": 14,
   "metadata": {},
   "outputs": [
    {
     "name": "stdout",
     "output_type": "stream",
     "text": [
      "1.4142135623730951\n",
      "1.4142\n",
      "2.23606797749979\n",
      "2.236068\n"
     ]
    }
   ],
   "source": [
    "# print suqare root of a number\n",
    "print(2**0.5) # it has a lot of numbers after decimal\n",
    "print(round(2**0.5,4)) # This will round after the 4th decimal\n",
    "print(5**0.5)# many decimal lnumbers\n",
    "print(round(5**0.5,6)) #  here is the umber where it rounds or number after  the decimal"
   ]
  },
  {
   "cell_type": "markdown",
   "metadata": {},
   "source": [
    "# Precidence Rule\n"
   ]
  },
  {
   "cell_type": "code",
   "execution_count": 15,
   "metadata": {},
   "outputs": [
    {
     "data": {
      "text/plain": [
       "'\\n      operators                  priority( Precidence and Associativity)\\n\\n1.  parenthese                   highest priority\\n\\n2.  Exponent                     Right to left( second highest)\\n\\n3.  *, /, //, %                  Left to right(Third highest priority)\\n\\n4. +, -                          Left to right ( least priority)\\n\\n'"
      ]
     },
     "execution_count": 15,
     "metadata": {},
     "output_type": "execute_result"
    }
   ],
   "source": [
    "'''\n",
    "      operators                  priority( Precidence and Associativity)\n",
    "\n",
    "1.  parenthese                   highest priority\n",
    "\n",
    "2.  Exponent                     Right to left( second highest)\n",
    "\n",
    "3.  *, /, //, %                  Left to right(Third highest priority)\n",
    "\n",
    "4. +, -                          Left to right ( least priority)\n",
    "\n",
    "'''"
   ]
  },
  {
   "cell_type": "code",
   "execution_count": 16,
   "metadata": {},
   "outputs": [
    {
     "name": "stdout",
     "output_type": "stream",
     "text": [
      "25\n",
      "0.16666666666666696\n"
     ]
    }
   ],
   "source": [
    "print((2+3)*5) # parenthese has highest priority\n",
    "print((2+3)*5/6%4) # parenthesis then left to right as all of the operators has equal  priority"
   ]
  },
  {
   "cell_type": "code",
   "execution_count": 17,
   "metadata": {},
   "outputs": [
    {
     "name": "stdout",
     "output_type": "stream",
     "text": [
      "512\n",
      "512\n"
     ]
    }
   ],
   "source": [
    "# exponent  has right to left priority\n",
    "print(2**3**2)# first 3**2 which is 9 then in the second step 2**9\n",
    "print(2**9)# these two are same operations"
   ]
  },
  {
   "cell_type": "markdown",
   "metadata": {},
   "source": [
    "# Variables\n"
   ]
  },
  {
   "cell_type": "markdown",
   "metadata": {},
   "source": [
    "## In python variabales are used to store values."
   ]
  },
  {
   "cell_type": "code",
   "execution_count": 18,
   "metadata": {},
   "outputs": [
    {
     "data": {
      "text/plain": [
       "\"\\nAny types of values can be stored in the variable. For example varaibe can be in the form of stirng or ineger \\nor flot or etc.\\nx = a  here x is variable\\nx = 2\\nx= 'Bishnu' x is variable\\n\\n\\n\\n\""
      ]
     },
     "execution_count": 18,
     "metadata": {},
     "output_type": "execute_result"
    }
   ],
   "source": [
    "\"\"\"\n",
    "Any types of values can be stored in the variable. For example varaibe can be in the form of stirng or ineger \n",
    "or flot or etc.\n",
    "x = a  here x is variable\n",
    "x = 2\n",
    "x= 'Bishnu' x is variable\n",
    "\n",
    "\n",
    "\n",
    "\"\"\""
   ]
  },
  {
   "cell_type": "markdown",
   "metadata": {},
   "source": [
    "# Rules  for the variables"
   ]
  },
  {
   "cell_type": "markdown",
   "metadata": {},
   "source": []
  },
  {
   "cell_type": "code",
   "execution_count": 19,
   "metadata": {},
   "outputs": [
    {
     "data": {
      "text/plain": [
       "'\\n1. any type of value like string, or float or integer canbe stored in the variable.\\nx = 2\\nx = \"hello\"\\ntherefore python is clled the dynamic langage\\n\\n2. Variable name should not start form anumber\\n 3name   this is not allowd\\n \\n 3. Number can  be written in the middle of the letters\\n eg name3   This type of naming is allowed\\n \\n \\n 4. variable name can be start with under score\\n ex _name   this type of naming is allowed\\n \\n 5. Any special type of character is not allowed in the variable name\\n eg. @name  name_$3 not allowed\\n \\n 6. If a varible has more words than one than it can be separated by underscore.........>snake case writing\\n eg. user_name  allowed   This is the python convention\\n \\n 7. If more than one words in a varibale,the second word can start with a upper case... camel case writing\\n eg. userName   allowed     This is Java  convention\\n \\n'"
      ]
     },
     "execution_count": 19,
     "metadata": {},
     "output_type": "execute_result"
    }
   ],
   "source": [
    "'''\n",
    "1. any type of value like string, or float or integer canbe stored in the variable.\n",
    "x = 2\n",
    "x = \"hello\"\n",
    "therefore python is clled the dynamic langage\n",
    "\n",
    "2. Variable name should not start form anumber\n",
    " 3name   this is not allowd\n",
    " \n",
    " 3. Number can  be written in the middle of the letters\n",
    " eg name3   This type of naming is allowed\n",
    " \n",
    " \n",
    " 4. variable name can be start with under score\n",
    " ex _name   this type of naming is allowed\n",
    " \n",
    " 5. Any special type of character is not allowed in the variable name\n",
    " eg. @name  name_$3 not allowed\n",
    " \n",
    " 6. If a varible has more words than one than it can be separated by underscore.........>snake case writing\n",
    " eg. user_name  allowed   This is the python convention\n",
    " \n",
    " 7. If more than one words in a varibale,the second word can start with a upper case... camel case writing\n",
    " eg. userName   allowed     This is Java  convention\n",
    " \n",
    "'''"
   ]
  },
  {
   "cell_type": "code",
   "execution_count": 20,
   "metadata": {},
   "outputs": [
    {
     "name": "stdout",
     "output_type": "stream",
     "text": [
      "1\n",
      " bishnu\n",
      "10\n",
      "100\n"
     ]
    }
   ],
   "source": [
    "num = 1\n",
    "print(num)\n",
    "num = \" bishnu\"\n",
    "print(num)\n",
    "var_name = 10  #snake case  writing ----> Python convention\n",
    "print(var_name)\n",
    "varName = 100 # camel case writing -----> Java convention --> can used as python as well\n",
    "print(varName)"
   ]
  },
  {
   "cell_type": "markdown",
   "metadata": {},
   "source": [
    "# String"
   ]
  },
  {
   "cell_type": "markdown",
   "metadata": {},
   "source": [
    "## string is the collection of characters inside single or double quote"
   ]
  },
  {
   "cell_type": "code",
   "execution_count": 21,
   "metadata": {},
   "outputs": [
    {
     "name": "stdout",
     "output_type": "stream",
     "text": [
      " Bishnupandey\n"
     ]
    }
   ],
   "source": [
    "first_name= \" Bishnu\"\n",
    "last_name = \"pandey\"\n",
    "full_name = first_name+last_name  # Two strings can be added together\n",
    "print(full_name)  #Note There is no space to make space "
   ]
  },
  {
   "cell_type": "code",
   "execution_count": 22,
   "metadata": {},
   "outputs": [
    {
     "name": "stdout",
     "output_type": "stream",
     "text": [
      " Bishnu pandey\n"
     ]
    }
   ],
   "source": [
    "first_name= \" Bishnu \"  # is space after u\n",
    "last_name = \"pandey\"\n",
    "full_name = first_name+last_name  # Two strings can be added together\n",
    "print(full_name)"
   ]
  },
  {
   "cell_type": "code",
   "execution_count": 23,
   "metadata": {},
   "outputs": [
    {
     "name": "stdout",
     "output_type": "stream",
     "text": [
      " Bishnu pandey\n"
     ]
    }
   ],
   "source": [
    "first_name= \" Bishnu\"\n",
    "last_name = \"pandey\"\n",
    "full_name = first_name+ \" \" + last_name  # Two strings can be added together along with a space in between\n",
    "print(full_name)"
   ]
  },
  {
   "cell_type": "code",
   "execution_count": 24,
   "metadata": {},
   "outputs": [
    {
     "name": "stdout",
     "output_type": "stream",
     "text": [
      " Bishnu3\n"
     ]
    }
   ],
   "source": [
    "# a number cannot be added to a string\n",
    "# eg. first_name + 3 is not allowed\n",
    "first_name = first_name + \"3\" #allowed as 3 is string\n",
    "print(first_name)"
   ]
  },
  {
   "cell_type": "code",
   "execution_count": 25,
   "metadata": {},
   "outputs": [
    {
     "ename": "SyntaxError",
     "evalue": "invalid syntax (<ipython-input-25-8c9cfb9358fd>, line 3)",
     "output_type": "error",
     "traceback": [
      "\u001b[0;36m  File \u001b[0;32m\"<ipython-input-25-8c9cfb9358fd>\"\u001b[0;36m, line \u001b[0;32m3\u001b[0m\n\u001b[0;31m    print(name)\u001b[0m\n\u001b[0m        ^\u001b[0m\n\u001b[0;31mSyntaxError\u001b[0m\u001b[0;31m:\u001b[0m invalid syntax\n"
     ]
    }
   ],
   "source": [
    "name = \"Bishnu\"\n",
    "name = name + str(3 # allowed as 3 is converted in to the string\n",
    "print(name)"
   ]
  },
  {
   "cell_type": "code",
   "execution_count": null,
   "metadata": {},
   "outputs": [],
   "source": [
    "name_1 = \"siddartha\"\n",
    "print(name_1*3)"
   ]
  },
  {
   "cell_type": "markdown",
   "metadata": {},
   "source": [
    "# User Input"
   ]
  },
  {
   "cell_type": "markdown",
   "metadata": {},
   "source": [
    "# Can take input from the user.But the input is always in the form of string"
   ]
  },
  {
   "cell_type": "code",
   "execution_count": 26,
   "metadata": {},
   "outputs": [
    {
     "name": "stdout",
     "output_type": "stream",
     "text": [
      " Please Enter your nameBishnu\n",
      "Bishnu\n"
     ]
    }
   ],
   "source": [
    "name = input(\" Please Enter your name\")\n",
    "print(name)"
   ]
  },
  {
   "cell_type": "code",
   "execution_count": 27,
   "metadata": {},
   "outputs": [
    {
     "name": "stdout",
     "output_type": "stream",
     "text": [
      "please enter your age1234\n",
      "1234\n",
      "<class 'str'>\n"
     ]
    }
   ],
   "source": [
    "# Note: The entered input is always in the form of string eventhough you entered a number\n",
    "age = input(\"please enter your age\")\n",
    "print(age)\n",
    "print(type(age))\n"
   ]
  },
  {
   "cell_type": "markdown",
   "metadata": {},
   "source": [
    "# Int Function\n",
    "it changes the given data in to the integer "
   ]
  },
  {
   "cell_type": "code",
   "execution_count": 28,
   "metadata": {},
   "outputs": [
    {
     "name": "stdout",
     "output_type": "stream",
     "text": [
      "please Enter your age35\n",
      "35\n",
      "<class 'str'>\n",
      "<class 'int'>\n"
     ]
    }
   ],
   "source": [
    "a = input(\"please Enter your age\")\n",
    "print(a)\n",
    "print(type(a))\n",
    "b= int(a) # string is changed in to the integer\n",
    "print(type(b))"
   ]
  },
  {
   "cell_type": "markdown",
   "metadata": {},
   "source": [
    "# String function\n",
    "This function change the given data type in to  the string function "
   ]
  },
  {
   "cell_type": "code",
   "execution_count": null,
   "metadata": {},
   "outputs": [],
   "source": [
    "a = 123\n",
    "print(a)\n",
    "print(type(a))  # is an integer\n",
    "b = str(a) # the given integer  is changed in to the string\n",
    "print(type(b))"
   ]
  },
  {
   "cell_type": "markdown",
   "metadata": {},
   "source": [
    "# Float function\n",
    "This function changes the given data type in to the float"
   ]
  },
  {
   "cell_type": "code",
   "execution_count": null,
   "metadata": {},
   "outputs": [],
   "source": [
    "a = 100\n",
    "print(a)\n",
    "print(type(a)) # a is an integer number\n",
    "b = float(a)  # a is changed in to the flaot number\n",
    "print(type(b))\n",
    "print(b)"
   ]
  },
  {
   "cell_type": "markdown",
   "metadata": {},
   "source": [
    "# Can assign more variables in one line\n",
    "The first variable get the first value and so on"
   ]
  },
  {
   "cell_type": "code",
   "execution_count": null,
   "metadata": {},
   "outputs": [],
   "source": [
    "name, age, x = \" Bishnu\", 25,100.0\n",
    "print(\"The value of name is: \", name)\n",
    "print(type(name))\n",
    "print(\" the value of age is:  \", \"\", age)\n",
    "print(type(age))\n",
    "print(\"the value of x is: \", x)\n",
    "print(type(x))\n"
   ]
  },
  {
   "cell_type": "code",
   "execution_count": null,
   "metadata": {},
   "outputs": [],
   "source": [
    "x = y = z = 20\n",
    "print(x+y+z)"
   ]
  },
  {
   "cell_type": "code",
   "execution_count": 30,
   "metadata": {},
   "outputs": [
    {
     "name": "stdout",
     "output_type": "stream",
     "text": [
      "please enter your name and ageBishnu 35\n",
      "your name is :  Bishnu\n",
      " your age is :  35\n"
     ]
    }
   ],
   "source": [
    "name, age = input(\"please enter your name and age\").split() # make sure after input the name give an space\n",
    "print(\"your name is : \", name)\n",
    "print(\" your age is : \",  age)"
   ]
  },
  {
   "cell_type": "markdown",
   "metadata": {},
   "source": [
    "# String Formating"
   ]
  },
  {
   "cell_type": "code",
   "execution_count": null,
   "metadata": {},
   "outputs": [],
   "source": [
    "name = \"Bishnu\"\n",
    "age = 35\n",
    "print(\"hello\" + name + \" your age is \" + str(age)) # ugly syntax\n",
    "print(\"Hello {} your age is {}\".format(name,age)) # put {} where you have to assisgn variable and out side \n",
    "# the \"\" write .format() and assign the variables to .format() in the correct order\n",
    "# I habe name  name variable so I gave {} where name is located  and so on \n",
    "# Finally I HAVE name and age only two variable  in the order name and age, so gave the order to .format()"
   ]
  },
  {
   "cell_type": "markdown",
   "metadata": {},
   "source": [
    "# easy way for the String Formating"
   ]
  },
  {
   "cell_type": "code",
   "execution_count": null,
   "metadata": {},
   "outputs": [],
   "source": [
    "name = \"Bishnu\"\n",
    "age = 35\n",
    "print(\"hello \" + name + \" your age is \" + str(age)) # ugly syntax\n",
    "print(f\"Hello {name} your age is {age}\")  # very clean syntax. do not forget f\n"
   ]
  },
  {
   "cell_type": "markdown",
   "metadata": {},
   "source": [
    "# String Indexing"
   ]
  },
  {
   "cell_type": "code",
   "execution_count": null,
   "metadata": {},
   "outputs": [],
   "source": [
    "'''\n",
    "1. In python index always starts from 0 that is [0], [1], [2] and so on\n",
    "\n",
    "2. Ig you start at the end of the string the index are [-1], [-2], [-3] and so on\n",
    "\n",
    "\n",
    "'''"
   ]
  },
  {
   "cell_type": "code",
   "execution_count": null,
   "metadata": {},
   "outputs": [],
   "source": [
    "name = \"Bishnu\"\n",
    "print(f\"Your name is {name}\")\n",
    "print(f\"first index of {name}i s:\",name[0]) # gives the first index only\n",
    "print(f\"third index of {name}i s:\",name[2]) # gives the third index\n",
    "print(f\"first index of {name}i s:\",name[-1]) # last index \n",
    "print(f\"first index of {name}i s:\",name[-2]) #  2ndlast index "
   ]
  },
  {
   "cell_type": "markdown",
   "metadata": {},
   "source": [
    "# String Slicing"
   ]
  },
  {
   "cell_type": "code",
   "execution_count": null,
   "metadata": {},
   "outputs": [],
   "source": [
    "'''\n",
    "Can print part of the string.\n",
    "syntax : \n",
    "1.  [start argument : stop argument +1]   ----> will start and end at the start and end location\n",
    "2. [ : ] --> this does not have the start and end argument. so will start at the beginning and will go to end\n",
    "3. [ : 3] ---> will print from beginning to the 2nd place \n",
    "4.  [ 3: ] --. Doesnot have end argument will go to the end\n",
    "\n",
    "\n",
    "'''"
   ]
  },
  {
   "cell_type": "code",
   "execution_count": null,
   "metadata": {},
   "outputs": [],
   "source": [
    "name = \"Siddartha\"\n",
    "print(name[0:5]) # will print S to a \n",
    "print(name[0:2]) # will print Si only\n",
    "print(name[:])  # print whole name\n",
    "print(name[3:]) # will print 2nd d that is 3rd index to end\n",
    "print(name[2:-2]) \n",
    "print(name[-3:-1]) "
   ]
  },
  {
   "cell_type": "markdown",
   "metadata": {},
   "source": [
    "# Step Argument"
   ]
  },
  {
   "cell_type": "code",
   "execution_count": null,
   "metadata": {},
   "outputs": [],
   "source": [
    "\"\"\"\n",
    "The string can be print by using a third argument called the step argument\n",
    "that is insted aof printing all of the letters of string, it can prind by skipping few characters \n",
    "\n",
    "\"\"\""
   ]
  },
  {
   "cell_type": "code",
   "execution_count": null,
   "metadata": {},
   "outputs": [],
   "source": [
    "Name = \" Siddartha Pandey\"\n",
    "print(Name[: : 1]) # will take the step 1 that is will print every character"
   ]
  },
  {
   "cell_type": "code",
   "execution_count": null,
   "metadata": {},
   "outputs": [],
   "source": [
    "Name = \"Siddartha  Pandey\"\n",
    "print(Name[: : 2]) # will take the step  of 2 means 1 character in between will be skipped"
   ]
  },
  {
   "cell_type": "code",
   "execution_count": null,
   "metadata": {},
   "outputs": [],
   "source": [
    "Name = \"Siddartha  Pandey\"\n",
    "print(Name[: : -1]) # will take 1 step from the end side"
   ]
  },
  {
   "cell_type": "code",
   "execution_count": null,
   "metadata": {},
   "outputs": [],
   "source": [
    "Name = \"Siddartha  Pandey\"\n",
    "print(Name[ -1: 5: -1]) # will take 1 step from the end side to 5th position"
   ]
  },
  {
   "cell_type": "markdown",
   "metadata": {},
   "source": [
    "# Ask a user name and print it in the reverse order"
   ]
  },
  {
   "cell_type": "code",
   "execution_count": 32,
   "metadata": {},
   "outputs": [
    {
     "name": "stdout",
     "output_type": "stream",
     "text": [
      "Please Enter your nameBishnu Pandey\n",
      "yednaP unhsiB\n"
     ]
    }
   ],
   "source": [
    "name =input(\"Please Enter your name\")\n",
    "print(name[-1: : -1])"
   ]
  },
  {
   "cell_type": "markdown",
   "metadata": {},
   "source": [
    "# String Method"
   ]
  },
  {
   "cell_type": "markdown",
   "metadata": {},
   "source": [
    "### len() function gives the length of the string"
   ]
  },
  {
   "cell_type": "code",
   "execution_count": null,
   "metadata": {},
   "outputs": [],
   "source": [
    "name = \"Bishnu Pandey\"  # this counts the spaces as well\n",
    "print(len(name))\n"
   ]
  },
  {
   "cell_type": "markdown",
   "metadata": {},
   "source": [
    "## lower(), upper() and title() method"
   ]
  },
  {
   "cell_type": "code",
   "execution_count": null,
   "metadata": {},
   "outputs": [],
   "source": [
    "\"\"\"\n",
    "1. lower()   ---> make all of the characters in the lower case\n",
    "2. upper() ---> will make the all of the characters upper case\n",
    "3. title method  --> kkep the first letter upper case and the rest as lower case\n",
    "\n",
    "\"\"\""
   ]
  },
  {
   "cell_type": "code",
   "execution_count": null,
   "metadata": {},
   "outputs": [],
   "source": [
    "Name = \"Bishnu Pandey\"\n",
    "print(Name.lower()) # lower method\n",
    "print(Name.upper())\n",
    "print(Name.title())"
   ]
  },
  {
   "cell_type": "markdown",
   "metadata": {},
   "source": [
    "# Count method"
   ]
  },
  {
   "cell_type": "code",
   "execution_count": null,
   "metadata": {},
   "outputs": [],
   "source": [
    "\"\"\"\n",
    "This method will count th frequency of a particular letter\n",
    "\"\"\""
   ]
  },
  {
   "cell_type": "code",
   "execution_count": null,
   "metadata": {},
   "outputs": [],
   "source": [
    "NAME = \"Bishnu Pandey\"\n",
    "print(NAME.count(\"n\"))"
   ]
  },
  {
   "cell_type": "code",
   "execution_count": null,
   "metadata": {},
   "outputs": [],
   "source": [
    "# Question: input a name from a user and a chareter\n",
    "# 1. output the name of the user input\n",
    " #2. output the length of user name\n",
    "# 3. counts the letter you entered as case insitive"
   ]
  },
  {
   "cell_type": "code",
   "execution_count": 33,
   "metadata": {},
   "outputs": [
    {
     "name": "stdout",
     "output_type": "stream",
     "text": [
      "please enter your name and a character Bishnu Pandey,n\n",
      "your name is Bishnu Pandey\n",
      "total length of the use name is 13\n",
      "total n in bishnu pandey is 2\n"
     ]
    }
   ],
   "source": [
    "name, char1 = input(\"please enter your name and a character \").split(\",\")# comma separated two inputs\n",
    "print(f\"your name is {name}\")\n",
    "name_1 = len(name)\n",
    "print(f\"total length of the use name is {name_1}\")\n",
    "name = name.lower()  # changed everything to the lowercase or can cahnge everything to the upper case\n",
    "total = name.count(char1)\n",
    "print(f\"total {char1} in {name} is {total}\")"
   ]
  },
  {
   "cell_type": "markdown",
   "metadata": {},
   "source": [
    "# Strip Method"
   ]
  },
  {
   "cell_type": "code",
   "execution_count": null,
   "metadata": {},
   "outputs": [],
   "source": [
    "'''\n",
    "StripMethod removes the extra space before after the words\n",
    "1.   .lstrip() ---> removes the space towards left of a word\n",
    "2.    .rstrip() removes the space towrds right from a word \n",
    "3.    .strip( removes the space on the either side of the word) \n",
    "\n",
    "NOte: the strip method doesn't remove the space in between a word\n",
    "\n",
    "\n",
    "'''"
   ]
  },
  {
   "cell_type": "code",
   "execution_count": null,
   "metadata": {},
   "outputs": [],
   "source": [
    "name = \"     Bishnu       \"\n",
    "dots = \"................\"\n",
    "print(\"hello\")# just to show the space toward left of Bishnu\n",
    "print(name) #both side of Bishnu there is space\n",
    "print(name+dots)  # can see the space \n",
    "print(name.lstrip()+dots) # left side space is tremoved\n",
    "print(name.rstrip()+dots)#right side space is removed\n",
    "print(name.strip()+dots) # both side space is removed"
   ]
  },
  {
   "cell_type": "code",
   "execution_count": null,
   "metadata": {},
   "outputs": [],
   "source": [
    "name = (\"Bis hnu\")# strip method  will  not remove the space between  s and h as they are different words\n",
    "print(name)\n",
    "print(name.strip())"
   ]
  },
  {
   "cell_type": "markdown",
   "metadata": {},
   "source": [
    "###  .strip().lower().count(char.strip().lower())is allowed means more methods can use one line & char is variable"
   ]
  },
  {
   "cell_type": "markdown",
   "metadata": {},
   "source": [
    "# Replace Method"
   ]
  },
  {
   "cell_type": "code",
   "execution_count": null,
   "metadata": {},
   "outputs": [],
   "source": [
    "'''\n",
    "Replace all of the spaces in a variable by anything \n",
    "it needs two arguments \n",
    "eg. .erplace(\" \", \"\")  here the first argument is the space and the second argement is no space\n",
    "\n",
    "'''"
   ]
  },
  {
   "cell_type": "code",
   "execution_count": null,
   "metadata": {},
   "outputs": [],
   "source": [
    "name = \" Bi  sh  nu \"\n",
    "print(name.replace(\" \", \"\")) # first \" \" is space and  second \"\" is no space\n",
    "print(name.replace(\" \", \"!\")) # each space is replaced by ! sign"
   ]
  },
  {
   "cell_type": "code",
   "execution_count": null,
   "metadata": {},
   "outputs": [],
   "source": [
    "string_1 = \" she is beautiful and is a good dancer\" # replace all of the spaces by _ sign\n",
    "print(string_1.replace(\" \",\"_\"))\n",
    "print(string_1.replace(\"is\",\"was\"))# is will be replaced with was\n"
   ]
  },
  {
   "cell_type": "code",
   "execution_count": null,
   "metadata": {},
   "outputs": [],
   "source": [
    "# would like to replace only one is with was that is first is will be replaced by was\n",
    "print(string_1.replace(\"is\",\"was\",1)) # note 1 can be replaced by 2 or so"
   ]
  },
  {
   "cell_type": "markdown",
   "metadata": {},
   "source": [
    "# Find Method"
   ]
  },
  {
   "cell_type": "markdown",
   "metadata": {},
   "source": [
    "### find method find the position of a word or a character in a string"
   ]
  },
  {
   "cell_type": "code",
   "execution_count": null,
   "metadata": {},
   "outputs": [],
   "source": [
    "string_1 = \"she is beautiful and is a good dancer\" # lets find the position of is \n",
    "print(string_1.find(\"is\"))\n",
    "string_2 = \"is she is beautiful and is a good dancer\"\n",
    "print(string_2.find(\"is\")) # the frst position is found\n",
    "string_3 = \"is she is beautiful and is a good dancer\" # I wouldlike to find the second is\n",
    "print(string_3.find(\"is\",1)) # The 1 means search will start after position 1"
   ]
  },
  {
   "cell_type": "markdown",
   "metadata": {},
   "source": [
    "# Center Method"
   ]
  },
  {
   "cell_type": "code",
   "execution_count": null,
   "metadata": {},
   "outputs": [],
   "source": [
    "\"\"\"\n",
    "By using the center method we can add some special characters in our string\n",
    "For example I would like to add two  stars **  on the either side of the string\n",
    "syntax :   variable.center(i, \"*\") here i   is the interger number which is equal to length of the string + \n",
    "the number of star you want to add\n",
    "\n",
    "eg : name = \"Bishnu\"    length = 6\n",
    "wouldlike to add 2 star on either side of Bishnu\n",
    "syntax:   name.center(10,\"*\")  # 10 = 6 +4 here 6 is length of Bishnu and 4 means 2 2 star on each\n",
    "side of Bishnu\n",
    "\n",
    "\"\"\""
   ]
  },
  {
   "cell_type": "code",
   "execution_count": null,
   "metadata": {},
   "outputs": [],
   "source": [
    "name = \"Bishnu\"\n",
    "print(name.center(10,\"*\"))"
   ]
  },
  {
   "cell_type": "code",
   "execution_count": null,
   "metadata": {},
   "outputs": [],
   "source": [
    "name = \"Bishnu\"\n",
    "print(name.center(7,\"*\"))\n",
    "print(name.center(8,\"!\"))"
   ]
  },
  {
   "cell_type": "markdown",
   "metadata": {},
   "source": [
    "# String is immutable"
   ]
  },
  {
   "cell_type": "markdown",
   "metadata": {},
   "source": [
    "### once string is made you can not change it later"
   ]
  },
  {
   "cell_type": "code",
   "execution_count": null,
   "metadata": {},
   "outputs": [],
   "source": [
    "name = \"bishnu\"\n",
    "print(name[0])\n",
    "# Now I would like to replace lower case b by upper case B\n",
    "name[0] = \"B\" # This not allowed\n",
    "print(name[0])"
   ]
  },
  {
   "cell_type": "code",
   "execution_count": null,
   "metadata": {},
   "outputs": [],
   "source": [
    "name = \"bishnu\"\n",
    "print(name)\n",
    "name_1 = name.replace(\"b\", \"B\") # this is new string\n",
    "print(\"This is a new string\",name_1)\n",
    "print(\"this is the original string\",name) "
   ]
  },
  {
   "cell_type": "markdown",
   "metadata": {},
   "source": [
    "# Conditional Statements"
   ]
  },
  {
   "cell_type": "markdown",
   "metadata": {},
   "source": [
    "## 1. If else statemment\n"
   ]
  },
  {
   "cell_type": "code",
   "execution_count": null,
   "metadata": {},
   "outputs": [],
   "source": [
    "\"\"\"\n",
    "These conditional statements are used to check the given condition.\n",
    "If the the condition is true, then the  if block of the code will be  executed.\n",
    "If the condition is not true, then the  if block of the code will be skipped and will not be executed.\n",
    "\n",
    "\"\"\""
   ]
  },
  {
   "cell_type": "code",
   "execution_count": null,
   "metadata": {},
   "outputs": [],
   "source": [
    "# simple syntax for the if statments\n",
    "age =15\n",
    "if age>18:\n",
    "    print(\"you are eligible to smoke\") # if the  given condition is true this part will be executed\n",
    "else:\n",
    "    print(\"you are under age for smoke\") # if the given condition is false, else part will be executed\n",
    "    "
   ]
  },
  {
   "cell_type": "code",
   "execution_count": null,
   "metadata": {},
   "outputs": [],
   "source": [
    "winning_num = 25\n",
    "count =0\n",
    "guess_num = input(\"Please guess a number bbetween 0 and 100 ,\") \n",
    "guess_num = int(guess_num)\n",
    "if guess_num==winning_num:\n",
    "    print(\"you win the game\")\n",
    "elif guess_num> winning_num:\n",
    "    print(\"You guessed too large number\")\n",
    "else: print(\"you guessed too low number\")"
   ]
  },
  {
   "cell_type": "markdown",
   "metadata": {},
   "source": [
    "# and & or operator"
   ]
  },
  {
   "cell_type": "code",
   "execution_count": null,
   "metadata": {},
   "outputs": [],
   "source": [
    "\"\"\"\n",
    "and operator   ......> both of the given condition must be true to execute the code\n",
    "or  operator   .......> at least one of the condition must be true to execute the code\n",
    "see the following example\n",
    "\n",
    "\"\"\""
   ]
  },
  {
   "cell_type": "code",
   "execution_count": null,
   "metadata": {},
   "outputs": [],
   "source": [
    "name = \"Bishnu\"\n",
    "age = 35\n",
    "if name ==\"Bishnu\" and age == 35: # both conditions are true\n",
    "    print(\"you are great!\")\n",
    "else:\n",
    "    print(\"you are wrong person\")"
   ]
  },
  {
   "cell_type": "code",
   "execution_count": null,
   "metadata": {},
   "outputs": [],
   "source": [
    "name = \"Bishnu\"\n",
    "age = 25\n",
    "if name==\"Bishnu\" or age == 35:# only name is true , age is not correct but the code is still running\n",
    "    print(\"condition is true\")\n",
    "else:\n",
    "    print(\"condition is false\")"
   ]
  },
  {
   "cell_type": "code",
   "execution_count": null,
   "metadata": {},
   "outputs": [],
   "source": [
    "'''\n",
    "write a program  that says if you name start from B or b and your age is > 30 \n",
    "you can watch 3idiot movie \n",
    "otherwise you are not allowed for the movie\n",
    "\n",
    "\n",
    "'''"
   ]
  },
  {
   "cell_type": "code",
   "execution_count": 34,
   "metadata": {},
   "outputs": [
    {
     "name": "stdout",
     "output_type": "stream",
     "text": [
      "Please enter you name and age separated by coma Bishnu Pandey,35\n",
      "you are allowed to watch the 3 idiot movie\n"
     ]
    }
   ],
   "source": [
    "name,age = input(\"Please enter you name and age separated by coma \").split(\",\")\n",
    "age = int(age)\n",
    "name_1 = name[0]\n",
    "if (name_1== 'B' or name_1=='b') and age>= 30:\n",
    "    print(\"you are allowed to watch the 3 idiot movie\")\n",
    "else:\n",
    "    print(\"you are not allowed for that movie\")"
   ]
  },
  {
   "cell_type": "markdown",
   "metadata": {},
   "source": [
    "# if with in"
   ]
  },
  {
   "cell_type": "code",
   "execution_count": null,
   "metadata": {},
   "outputs": [],
   "source": [
    "name = \" Siddartha Pandey\"\n",
    "if 'a' in name:\n",
    "    print(f\" a is present in{name}\")\n",
    "else:\n",
    "    print(f\" a is not present in {name}\")"
   ]
  },
  {
   "cell_type": "code",
   "execution_count": null,
   "metadata": {},
   "outputs": [],
   "source": [
    "name = \" Sarwin, Pandey\"\n",
    "if 'z' in name:\n",
    "    print(f\" z is present in{name}\")\n",
    "else:\n",
    "    print(f\" z is not present in {name}\")"
   ]
  },
  {
   "cell_type": "markdown",
   "metadata": {},
   "source": [
    "## use of if loop in different way"
   ]
  },
  {
   "cell_type": "code",
   "execution_count": null,
   "metadata": {},
   "outputs": [],
   "source": [
    "\"\"\"\n",
    "I am going to check the whether the given stwring is emptey  or not\n",
    "\"\"\""
   ]
  },
  {
   "cell_type": "code",
   "execution_count": null,
   "metadata": {},
   "outputs": [],
   "source": [
    "name = \"Bishnu\"\n",
    "if name:\n",
    "    print(f\"your name is {name}\")\n",
    "else:\n",
    "    print(\"you didn't enter your name\")"
   ]
  },
  {
   "cell_type": "code",
   "execution_count": null,
   "metadata": {},
   "outputs": [],
   "source": [
    "name = \"\"\n",
    "if name:\n",
    "    print(f\"your name is {name}\")\n",
    "else:\n",
    "    print(\"you didn't enter your name\")"
   ]
  },
  {
   "cell_type": "markdown",
   "metadata": {},
   "source": [
    "# while loop"
   ]
  },
  {
   "cell_type": "code",
   "execution_count": null,
   "metadata": {},
   "outputs": [],
   "source": [
    "\"\"\"\n",
    "if same code need to be executed for more than one times we use the while loop\n",
    "lets print hello world 10 times\n",
    "\n",
    "\"\"\""
   ]
  },
  {
   "cell_type": "code",
   "execution_count": null,
   "metadata": {},
   "outputs": [],
   "source": [
    "i = 0\n",
    "while i<10:\n",
    "    print(f\"Hello world! {i}\")\n",
    "    i = i+1\n",
    "print(\"Blast off!\")"
   ]
  },
  {
   "cell_type": "markdown",
   "metadata": {},
   "source": [
    "# sum of first 10 numbers by using the while loop"
   ]
  },
  {
   "cell_type": "code",
   "execution_count": null,
   "metadata": {},
   "outputs": [],
   "source": [
    "i = 1\n",
    "sum =0\n",
    "while i<=10:\n",
    "    sum = sum+i\n",
    "    print(f\"the sum of up to {i} is :\",sum)\n",
    "    i=i+1   \n",
    "print(\"total sum of first 10 number is = \",sum)"
   ]
  },
  {
   "cell_type": "markdown",
   "metadata": {},
   "source": [
    "### taake a number from a user and sum up to that number"
   ]
  },
  {
   "cell_type": "code",
   "execution_count": 35,
   "metadata": {},
   "outputs": [
    {
     "name": "stdout",
     "output_type": "stream",
     "text": [
      "please enter a number between 0 and 100 : 25\n",
      "The sum of the numbers up to 25 is =  325\n"
     ]
    }
   ],
   "source": [
    "num = input(\"please enter a number between 0 and 100 : \")\n",
    "num = int(num)\n",
    "i =0\n",
    "sum =0\n",
    "while i<= num:\n",
    "    sum=sum+i\n",
    "    i=i+1\n",
    "print(f\"The sum of the numbers up to {num} is = \",sum)"
   ]
  },
  {
   "cell_type": "markdown",
   "metadata": {},
   "source": [
    "## ask user to input a 5 digit number and find the sum of them"
   ]
  },
  {
   "cell_type": "code",
   "execution_count": null,
   "metadata": {},
   "outputs": [],
   "source": [
    "\"\"\"\n",
    "eg 12345\n",
    "find sum of 1+2+3+4+5\n",
    "\n",
    "\"\"\""
   ]
  },
  {
   "cell_type": "code",
   "execution_count": 36,
   "metadata": {},
   "outputs": [
    {
     "name": "stdout",
     "output_type": "stream",
     "text": [
      "Please enter a five digit number: 12345\n",
      "15\n"
     ]
    }
   ],
   "source": [
    "num=input(\"Please enter a five digit number: \")\n",
    "sum = int(num[0]) + int(num[1]) + int(num[2]) + int(num[3])+int(num[4])\n",
    "print(sum)"
   ]
  },
  {
   "cell_type": "code",
   "execution_count": 37,
   "metadata": {},
   "outputs": [
    {
     "name": "stdout",
     "output_type": "stream",
     "text": [
      "Please enter a multiple  digit number: 12345\n",
      "15\n"
     ]
    }
   ],
   "source": [
    "num=input(\"Please enter a multiple  digit number: \") # same problem different way\n",
    "sum=0\n",
    "i=0\n",
    "while i < len(num):\n",
    "    sum=sum+int(num[i])\n",
    "    i=i+1\n",
    "print(sum)"
   ]
  },
  {
   "cell_type": "code",
   "execution_count": null,
   "metadata": {},
   "outputs": [],
   "source": [
    "print(\"hello world\")"
   ]
  },
  {
   "cell_type": "markdown",
   "metadata": {},
   "source": [
    "## Problem"
   ]
  },
  {
   "cell_type": "code",
   "execution_count": null,
   "metadata": {},
   "outputs": [],
   "source": [
    "\"\"\"\n",
    "Ask a ueser to input his/her name\n",
    "print out each letter and count the frequency of each letter\n",
    "B  1\n",
    "i  1\n",
    "s  1\n",
    "h  1\n",
    "n  1\n",
    "u  1\n",
    "  note counts the space as well\n",
    "\n",
    "\"\"\""
   ]
  },
  {
   "cell_type": "code",
   "execution_count": 40,
   "metadata": {},
   "outputs": [
    {
     "name": "stdout",
     "output_type": "stream",
     "text": [
      "Please Enter your name: Bishnu Pandey\n",
      "B 1\n",
      "i 1\n",
      "s 1\n",
      "h 1\n",
      "n 1\n",
      "u 1\n",
      "  1\n",
      "P 1\n",
      "a 1\n",
      "n 1\n",
      "d 1\n",
      "e 1\n",
      "y 1\n"
     ]
    }
   ],
   "source": [
    "name = input(\"Please Enter your name: \")\n",
    "i=0\n",
    "j=0\n",
    "while i < len(name):\n",
    "    while j<len(name):\n",
    "        if name[i] == name[j]:\n",
    "            count = 0\n",
    "            count=count+1\n",
    "            print(name[i],count)\n",
    "            j=j+1\n",
    "            i=i+1\n",
    "            \n",
    "           "
   ]
  },
  {
   "cell_type": "code",
   "execution_count": 58,
   "metadata": {},
   "outputs": [
    {
     "name": "stdout",
     "output_type": "stream",
     "text": [
      "Please Enter your name: Bishnu Pandey\n",
      "B:1\n",
      "i:1\n",
      "s:1\n",
      "h:1\n",
      "n:2\n",
      "u:1\n",
      " :1\n",
      "P:1\n",
      "a:1\n",
      "d:1\n",
      "e:1\n",
      "y:1\n"
     ]
    }
   ],
   "source": [
    "name = input(\"Please Enter your name: \")\n",
    "temp_var = \"\"\n",
    "i = 0\n",
    "while i < len(name):\n",
    "    if name[i] not in temp_var:\n",
    "        temp_var+=name[i]\n",
    "        print(f\"{name[i]}:{name.count(name[i])}\")\n",
    "    i = i+1"
   ]
  },
  {
   "cell_type": "markdown",
   "metadata": {},
   "source": [
    "# infinite loop"
   ]
  },
  {
   "cell_type": "code",
   "execution_count": null,
   "metadata": {},
   "outputs": [],
   "source": [
    "\"\"\"\n",
    "How tomake an infineite loop\n",
    "to stop infiinite loop ctrl + c\n",
    "\"\"\""
   ]
  },
  {
   "cell_type": "code",
   "execution_count": null,
   "metadata": {},
   "outputs": [],
   "source": [
    "i=0\n",
    "while i<10:\n",
    "    print(\"Hello world\") # if we do not increment the value of i this will be an infinite loop"
   ]
  },
  {
   "cell_type": "code",
   "execution_count": null,
   "metadata": {},
   "outputs": [],
   "source": [
    "while True:\n",
    "    print(\"hello world!\")"
   ]
  },
  {
   "cell_type": "markdown",
   "metadata": {},
   "source": [
    "# for loop"
   ]
  },
  {
   "cell_type": "code",
   "execution_count": 60,
   "metadata": {},
   "outputs": [
    {
     "name": "stdout",
     "output_type": "stream",
     "text": [
      "hello world! :   0\n",
      "hello world! :   1\n",
      "hello world! :   2\n",
      "hello world! :   3\n",
      "hello world! :   4\n",
      "hello world! :   5\n",
      "hello world! :   6\n",
      "hello world! :   7\n",
      "hello world! :   8\n",
      "hello world! :   9\n"
     ]
    }
   ],
   "source": [
    "count=0\n",
    "for i in range(10):# range meaninig i = 0 to 9\n",
    "    print(\"hello world! :  \",count)\n",
    "    count = count+1"
   ]
  },
  {
   "cell_type": "code",
   "execution_count": 64,
   "metadata": {},
   "outputs": [
    {
     "name": "stdout",
     "output_type": "stream",
     "text": [
      "hello world! : 1\n",
      "hello world! : 2\n",
      "hello world! : 3\n",
      "hello world! : 4\n",
      "hello world! : 5\n",
      "hello world! : 6\n",
      "hello world! : 7\n",
      "hello world! : 8\n",
      "hello world! : 9\n",
      "hello world! : 10\n"
     ]
    }
   ],
   "source": [
    "for i in range(1,11):# range meaninig i = 0 to 9\n",
    "    print(f\"hello world! : {i}\")\n",
    "    "
   ]
  },
  {
   "cell_type": "markdown",
   "metadata": {},
   "source": [
    "# sum of first 10 natural numbers by using for loop"
   ]
  },
  {
   "cell_type": "code",
   "execution_count": 66,
   "metadata": {},
   "outputs": [
    {
     "name": "stdout",
     "output_type": "stream",
     "text": [
      "55\n"
     ]
    }
   ],
   "source": [
    "sum = 0\n",
    "for i in range(1,11):\n",
    "    sum = sum+i\n",
    "print(sum)"
   ]
  },
  {
   "cell_type": "code",
   "execution_count": null,
   "metadata": {},
   "outputs": [],
   "source": [
    "\"\"\"\n",
    "for loop example\n",
    "enter a multi digit number from an user and then sum all of the numbers\n",
    "\n",
    "\"\"\""
   ]
  },
  {
   "cell_type": "code",
   "execution_count": 73,
   "metadata": {},
   "outputs": [
    {
     "name": "stdout",
     "output_type": "stream",
     "text": [
      "please enter a multi digit number: 234\n",
      "9\n"
     ]
    }
   ],
   "source": [
    "num = input(\"please enter a multi digit number: \")\n",
    "sum=0\n",
    "for i in range(0,len(num)):\n",
    "    sum = sum+int(num[i])\n",
    "print(sum)"
   ]
  },
  {
   "cell_type": "code",
   "execution_count": null,
   "metadata": {},
   "outputs": [],
   "source": [
    "\"\"\"\n",
    "Ask user about his name and print how many times each letter shows in his name by using the for loop\n",
    "\n",
    "\n",
    "\"\"\""
   ]
  },
  {
   "cell_type": "code",
   "execution_count": 77,
   "metadata": {},
   "outputs": [
    {
     "name": "stdout",
     "output_type": "stream",
     "text": [
      "please enter your name: Bishnu pandey\n",
      "B 1\n",
      "i 1\n",
      "s 1\n",
      "h 1\n",
      "n 2\n",
      "u 1\n",
      "  1\n",
      "p 1\n",
      "a 1\n",
      "d 1\n",
      "e 1\n",
      "y 1\n"
     ]
    }
   ],
   "source": [
    "name=input(\"please enter your name: \")\n",
    "temp = \"\"\n",
    "for i in range(0,len(name)):\n",
    "    if name[i] not in temp:\n",
    "        temp = temp + name[i]\n",
    "        print(name[i],name.count(name[i]))"
   ]
  },
  {
   "cell_type": "markdown",
   "metadata": {},
   "source": [
    "# break and continue statement ---> for loop"
   ]
  },
  {
   "cell_type": "code",
   "execution_count": null,
   "metadata": {},
   "outputs": [],
   "source": [
    "\"\"\"\n",
    "break statement breaks the loop\n",
    "see the following example\n",
    "\"\"\""
   ]
  },
  {
   "cell_type": "code",
   "execution_count": 78,
   "metadata": {},
   "outputs": [
    {
     "name": "stdout",
     "output_type": "stream",
     "text": [
      "0\n",
      "1\n",
      "2\n",
      "3\n",
      "4\n",
      "5\n",
      "6\n",
      "7\n",
      "8\n",
      "9\n"
     ]
    }
   ],
   "source": [
    "for i in range(0,10):\n",
    "    print(i)"
   ]
  },
  {
   "cell_type": "code",
   "execution_count": 80,
   "metadata": {},
   "outputs": [
    {
     "name": "stdout",
     "output_type": "stream",
     "text": [
      "0\n",
      "1\n",
      "2\n",
      "3\n",
      "4\n",
      "5\n",
      "Balst off!, the break statement will take outside of the from the  loop when i become 6\n"
     ]
    }
   ],
   "source": [
    "# now lets use the break statement\n",
    "for i in range(0,10):\n",
    "    if i==6:   #when i=6 , the if block will execute and wil break the for loop\n",
    "        break\n",
    "    print(i)\n",
    "print(\"Balst off!, the break statement will take outside of the from the  loop when i become 6\")"
   ]
  },
  {
   "cell_type": "code",
   "execution_count": 81,
   "metadata": {},
   "outputs": [
    {
     "name": "stdout",
     "output_type": "stream",
     "text": [
      "0\n",
      "1\n",
      "2\n",
      "3\n",
      "4\n",
      "5\n",
      "7\n",
      "8\n",
      "9\n",
      "10\n",
      "when i=6 , the if block will exexute and before printing 6, it return back for another value\n"
     ]
    }
   ],
   "source": [
    "# when I like to print all of the letters from 1 to 10 except a number say 6\n",
    "for i in range(0,11):\n",
    "    if i==6:\n",
    "        continue\n",
    "    print(i)\n",
    "print(\"when i=6 , the if block will exexute and before printing 6, it return back for another value\")\n"
   ]
  },
  {
   "cell_type": "markdown",
   "metadata": {},
   "source": [
    "# winning number game\n"
   ]
  },
  {
   "cell_type": "code",
   "execution_count": null,
   "metadata": {},
   "outputs": [],
   "source": [
    "\"\"\"\n",
    "By using the random method, generate a random number between a 0 and 100 and guess the winning number\n",
    "ecah time the winning number will be different\n",
    "You also have to count how many time you guessed the number correct\n",
    "\n",
    "\"\"\""
   ]
  },
  {
   "cell_type": "code",
   "execution_count": 90,
   "metadata": {},
   "outputs": [
    {
     "name": "stdout",
     "output_type": "stream",
     "text": [
      "please Enter a number between 0 and 100: 10\n",
      "You entered too low\n",
      "please Enter again20\n",
      "You entered too high\n",
      "please Enter again12\n",
      "You entered too low\n",
      "please Enter again14\n",
      "You entered too low\n",
      "please Enter again16\n",
      "You entered too low\n",
      "please Enter again19\n",
      "You entered too high\n",
      "please Enter again18\n",
      "You win the game and you guessed for 7 times\n"
     ]
    }
   ],
   "source": [
    "import random\n",
    "win_num = random.randint(0,100)\n",
    "num=int(input(\"please Enter a number between 0 and 100: \"))\n",
    "guess = 1\n",
    "game_over=False\n",
    "while not game_over:\n",
    "    if num ==win_num:\n",
    "        print(f\"You win the game and you guessed for {guess} times\")\n",
    "        game_over=True\n",
    "        \n",
    "    else:\n",
    "        if num>win_num:\n",
    "            print(\"You entered too high\")\n",
    "            guess= guess+1\n",
    "            num= int(input(\"please Enter again\"))\n",
    "        else:\n",
    "             print(\"You entered too low\")\n",
    "             guess= guess+1\n",
    "             num= int(input(\"please Enter again\"))\n",
    "\n",
    "         "
   ]
  },
  {
   "cell_type": "markdown",
   "metadata": {},
   "source": [
    "# DRY principle ---> Do not repeat yourself"
   ]
  },
  {
   "cell_type": "code",
   "execution_count": null,
   "metadata": {},
   "outputs": [],
   "source": [
    "\"\"\"\n",
    "some time we repeat same code again and again. for example in the above code the following lines are repeated\n",
    "\n",
    "guess= guess+1\n",
    "num= int(input(\"please Enter again\"))\n",
    "\n",
    "I am going  to remove these two lines from the if part and then\n",
    "I will takke thse lines out from the 2nd else part will give the same rsult\n",
    "\n",
    "see the following example\n",
    "\n",
    "\n",
    "\"\"\""
   ]
  },
  {
   "cell_type": "code",
   "execution_count": 91,
   "metadata": {},
   "outputs": [
    {
     "name": "stdout",
     "output_type": "stream",
     "text": [
      "please Enter a number between 0 and 100: 20\n",
      "You entered too low\n",
      "please Enter again40\n",
      "You entered too low\n",
      "please Enter again50\n",
      "You entered too low\n",
      "please Enter again60\n",
      "You entered too high\n",
      "please Enter again56\n",
      "You entered too low\n",
      "please Enter again58\n",
      "You entered too low\n",
      "please Enter again59\n",
      "You win the game and you guessed for 7 times\n"
     ]
    }
   ],
   "source": [
    "import random\n",
    "win_num = random.randint(0,100)\n",
    "num=int(input(\"please Enter a number between 0 and 100: \"))\n",
    "guess = 1\n",
    "game_over=False\n",
    "while not game_over:\n",
    "    if num ==win_num:\n",
    "        print(f\"You win the game and you guessed for {guess} times\")\n",
    "        game_over=True\n",
    "        \n",
    "    else:\n",
    "        if num>win_num:\n",
    "            print(\"You entered too high\")\n",
    "           \n",
    "        else:\n",
    "             print(\"You entered too low\")\n",
    "        guess= guess+1\n",
    "        num= int(input(\"please Enter again\"))\n",
    "\n",
    "         "
   ]
  },
  {
   "cell_type": "markdown",
   "metadata": {},
   "source": [
    "# Step argument in range function"
   ]
  },
  {
   "cell_type": "code",
   "execution_count": null,
   "metadata": {},
   "outputs": [],
   "source": [
    "\"\"\"\n",
    "for i in range(0,10)# here 0 is the start argument, 10 is the stop agumrnt and by default step argument is 1\n",
    "wgich is hidden that is \n",
    "\n",
    "or i in range(0,10,1) so if we change 1 to 2 this loop will print the numbers in the interval of 2\n",
    "\n",
    "\"\"\""
   ]
  },
  {
   "cell_type": "code",
   "execution_count": 96,
   "metadata": {},
   "outputs": [
    {
     "name": "stdout",
     "output_type": "stream",
     "text": [
      "0\n",
      "1\n",
      "2\n",
      "3\n",
      "4\n",
      "5\n",
      "6\n",
      "7\n",
      "8\n",
      "9\n",
      "10\n"
     ]
    }
   ],
   "source": [
    "for i in range(0,11): # default step argument is 1\n",
    "    print(i)"
   ]
  },
  {
   "cell_type": "code",
   "execution_count": 95,
   "metadata": {},
   "outputs": [
    {
     "name": "stdout",
     "output_type": "stream",
     "text": [
      "0\n",
      "2\n",
      "4\n",
      "6\n",
      "8\n",
      "10\n"
     ]
    }
   ],
   "source": [
    "for i in range(0,11,2): # step argument is 2\n",
    "    print(i)"
   ]
  },
  {
   "cell_type": "markdown",
   "metadata": {},
   "source": [
    "# PYTHON FUNCTION"
   ]
  },
  {
   "cell_type": "code",
   "execution_count": null,
   "metadata": {},
   "outputs": [],
   "source": [
    "\"\"\"\n",
    "A function is a set of statements that take inputs, do some specific computation and produces output.\n",
    "The idea is to put some commonly or repeatedly done task together and make a function, so that instead\n",
    "of writing the same code again and again for different inputs, we can call the function.\n",
    "\n",
    "\"\"\""
   ]
  },
  {
   "cell_type": "code",
   "execution_count": 97,
   "metadata": {},
   "outputs": [
    {
     "name": "stdout",
     "output_type": "stream",
     "text": [
      "10\n"
     ]
    }
   ],
   "source": [
    "#simple function syntax\n",
    "def add_1(a,b):\n",
    "    return a+b\n",
    "print(add_1(4,6))"
   ]
  },
  {
   "cell_type": "code",
   "execution_count": 98,
   "metadata": {},
   "outputs": [
    {
     "name": "stdout",
     "output_type": "stream",
     "text": [
      "10\n"
     ]
    }
   ],
   "source": [
    "def add_1(a,b):\n",
    "    return a+b\n",
    "c = add_1(4,6)\n",
    "print(c)"
   ]
  },
  {
   "cell_type": "code",
   "execution_count": 99,
   "metadata": {},
   "outputs": [
    {
     "name": "stdout",
     "output_type": "stream",
     "text": [
      "20\n"
     ]
    }
   ],
   "source": [
    "def ad_2(a,b):\n",
    "    c=a*b\n",
    "    return c\n",
    "d=ad_2(5,4)\n",
    "print(d)"
   ]
  },
  {
   "cell_type": "markdown",
   "metadata": {},
   "source": [
    "# More about Function"
   ]
  },
  {
   "cell_type": "code",
   "execution_count": null,
   "metadata": {},
   "outputs": [],
   "source": [
    "\"\"\"\n",
    "function will take a name as an input and will return its last cahrecer\n",
    "\n",
    "\"\"\""
   ]
  },
  {
   "cell_type": "code",
   "execution_count": 105,
   "metadata": {},
   "outputs": [
    {
     "name": "stdout",
     "output_type": "stream",
     "text": [
      "Please Enter your name : Bishnu\n",
      "u\n"
     ]
    }
   ],
   "source": [
    "name = input(\"Please Enter your name : \")\n",
    "def simple_func(a):\n",
    "    return name[-1]\n",
    "print(simple_func(name))"
   ]
  },
  {
   "cell_type": "code",
   "execution_count": 106,
   "metadata": {},
   "outputs": [
    {
     "name": "stdout",
     "output_type": "stream",
     "text": [
      "u\n"
     ]
    }
   ],
   "source": [
    "#Another way to do the same problem\n",
    "def simp_fun(name):\n",
    "    return name[-1]\n",
    "print(simp_fun(\"Bishnu\"))\n"
   ]
  },
  {
   "cell_type": "code",
   "execution_count": 113,
   "metadata": {},
   "outputs": [
    {
     "name": "stdout",
     "output_type": "stream",
     "text": [
      "please enter a two digit number: 26\n",
      "it is an even number\n"
     ]
    },
    {
     "data": {
      "text/plain": [
       "0"
      ]
     },
     "execution_count": 113,
     "metadata": {},
     "output_type": "execute_result"
    }
   ],
   "source": [
    "#Define a function that  will tell you whether it is a odd number or the even number\n",
    "num = input(\"please enter a two digit number: \")\n",
    "num=int(num)\n",
    "def even_odd(a):\n",
    "    b=a%2   \n",
    "    if b==0:\n",
    "        print(\"it is an even number\")\n",
    "    else:\n",
    "        print(\"It is an odd number\")\n",
    "    return b\n",
    "even_odd(num)\n",
    "\n"
   ]
  },
  {
   "cell_type": "code",
   "execution_count": 114,
   "metadata": {},
   "outputs": [
    {
     "name": "stdout",
     "output_type": "stream",
     "text": [
      "even numebr\n"
     ]
    }
   ],
   "source": [
    "# The same code can be written as a simple language\n",
    "def even_odd(num):\n",
    "    if num%2==0:\n",
    "        return \"even numebr\" #means if this block(if block) will no execute\n",
    "    return \"odd number\"  # this block will execute and odd number will be printed\n",
    "print(even_odd(10))"
   ]
  },
  {
   "cell_type": "code",
   "execution_count": 115,
   "metadata": {},
   "outputs": [
    {
     "name": "stdout",
     "output_type": "stream",
     "text": [
      "odd number\n"
     ]
    }
   ],
   "source": [
    "def even_odd(num):\n",
    "    if num%2==0:\n",
    "        return \"even numebr\"\n",
    "    return \"odd number\"\n",
    "print(even_odd(11))"
   ]
  },
  {
   "cell_type": "code",
   "execution_count": 116,
   "metadata": {},
   "outputs": [
    {
     "name": "stdout",
     "output_type": "stream",
     "text": [
      "True\n"
     ]
    }
   ],
   "source": [
    "#Lets define in the pythonic way\n",
    "def odd_even(num):\n",
    "    return num%2==0   #True means even\n",
    "print(odd_even(10))"
   ]
  },
  {
   "cell_type": "code",
   "execution_count": 118,
   "metadata": {},
   "outputs": [
    {
     "name": "stdout",
     "output_type": "stream",
     "text": [
      "False\n"
     ]
    }
   ],
   "source": [
    "def odd_even(num):\n",
    "    return num%2==0   #False means odd\n",
    "print(odd_even(11))"
   ]
  },
  {
   "cell_type": "code",
   "execution_count": 121,
   "metadata": {},
   "outputs": [
    {
     "name": "stdout",
     "output_type": "stream",
     "text": [
      "Please enter two numbers aeparated by coma: 10,5\n",
      " first number is bigger than that of the second one\n"
     ]
    }
   ],
   "source": [
    "#Take two numbers from user and write a function that will tell which one id greater\n",
    "num1,num2 = input(\"Please enter two numbers aeparated by coma: \").split(\",\")\n",
    "num1=int(num1)\n",
    "num2=int(num2)\n",
    "def large(a,b):\n",
    "    if a>b:\n",
    "        return \" first number is bigger than that of the second one\"\n",
    "    return \"the second number is larger than first one\"\n",
    "print(large(num1,num2))"
   ]
  },
  {
   "cell_type": "code",
   "execution_count": null,
   "metadata": {},
   "outputs": [],
   "source": [
    "\"\"\"\n",
    "write a fuction\n",
    "Enter a word and check whether it is a palindrome or not\n",
    "palindrome = madam or naman     same from both side\n",
    "\n",
    "\"\"\""
   ]
  },
  {
   "cell_type": "code",
   "execution_count": 126,
   "metadata": {},
   "outputs": [
    {
     "name": "stdout",
     "output_type": "stream",
     "text": [
      "it is palindrome\n"
     ]
    }
   ],
   "source": [
    "name = \"madam\" # with out writing a function\n",
    "for i in range(0,len(name)):\n",
    "    reverse= name[-1: :-1]\n",
    "if name == reverse:\n",
    "    print(\"it is palindrome\")\n",
    "else:\n",
    "    print(\" it is not a palindrone\")\n"
   ]
  },
  {
   "cell_type": "code",
   "execution_count": 127,
   "metadata": {},
   "outputs": [
    {
     "name": "stdout",
     "output_type": "stream",
     "text": [
      " it is not a palindrone\n"
     ]
    }
   ],
   "source": [
    "name = \"horse\"\n",
    "for i in range(0,len(name)):\n",
    "    reverse= name[-1: :-1]\n",
    "if name == reverse:\n",
    "    print(\"it is palindrome\")\n",
    "else:\n",
    "    print(\" it is not a palindrone\")\n"
   ]
  },
  {
   "cell_type": "code",
   "execution_count": 129,
   "metadata": {},
   "outputs": [
    {
     "name": "stdout",
     "output_type": "stream",
     "text": [
      "True\n"
     ]
    }
   ],
   "source": [
    "def check_p(word):\n",
    "    reversed_word =word[::-1]\n",
    "    if reversed_word==word:\n",
    "        return True\n",
    "    else:\n",
    "        False\n",
    "        \n",
    "print(check_p(\"madam\"))\n",
    "    "
   ]
  },
  {
   "cell_type": "code",
   "execution_count": null,
   "metadata": {},
   "outputs": [],
   "source": []
  },
  {
   "cell_type": "code",
   "execution_count": null,
   "metadata": {},
   "outputs": [],
   "source": []
  },
  {
   "cell_type": "code",
   "execution_count": null,
   "metadata": {},
   "outputs": [],
   "source": []
  },
  {
   "cell_type": "code",
   "execution_count": 133,
   "metadata": {},
   "outputs": [
    {
     "name": "stdout",
     "output_type": "stream",
     "text": [
      "False\n"
     ]
    }
   ],
   "source": [
    "def check_p(word):\n",
    "    reversed_word =word[::-1]\n",
    "    if reversed_word==word:\n",
    "        return True\n",
    "    else:\n",
    "        return False        \n",
    "print(check_p(\"horse\"))\n",
    "    "
   ]
  },
  {
   "cell_type": "code",
   "execution_count": 136,
   "metadata": {},
   "outputs": [
    {
     "name": "stdout",
     "output_type": "stream",
     "text": [
      "True\n",
      "False\n"
     ]
    }
   ],
   "source": [
    "#The above code can be very simple\n",
    "\n",
    "def check_pal(word):\n",
    "    return word ==word[::-1]\n",
    "print(check_pal(\"madam\"))\n",
    "print(check_pal(\"horse\"))"
   ]
  },
  {
   "cell_type": "markdown",
   "metadata": {},
   "source": [
    "# How to 1 to 10 in a horizontal line\n"
   ]
  },
  {
   "cell_type": "code",
   "execution_count": 139,
   "metadata": {},
   "outputs": [
    {
     "name": "stdout",
     "output_type": "stream",
     "text": [
      "0\n",
      "1\n",
      "2\n",
      "3\n",
      "4\n"
     ]
    }
   ],
   "source": [
    "for i in range(0,5): # this is vertical printing\n",
    "    print(i)"
   ]
  },
  {
   "cell_type": "code",
   "execution_count": 141,
   "metadata": {},
   "outputs": [
    {
     "name": "stdout",
     "output_type": "stream",
     "text": [
      "0 1 2 3 4 "
     ]
    }
   ],
   "source": [
    "for i in range(0,5): # this is horizontal  printing\n",
    "    print(i,end= \" \")"
   ]
  },
  {
   "cell_type": "code",
   "execution_count": 142,
   "metadata": {},
   "outputs": [
    {
     "name": "stdout",
     "output_type": "stream",
     "text": [
      "0 , 1 , 2 , 3 , 4 , "
     ]
    }
   ],
   "source": [
    "for i in range(0,5): # this is horizontal  printing\n",
    "    print(i,end= \" , \")# can separated by coma"
   ]
  },
  {
   "cell_type": "markdown",
   "metadata": {},
   "source": [
    "# variable Scope in python"
   ]
  },
  {
   "cell_type": "code",
   "execution_count": null,
   "metadata": {},
   "outputs": [],
   "source": [
    "\"\"\"\n",
    "a variable defined inside ne function cannot be used inside another function\n",
    "\"\"\""
   ]
  },
  {
   "cell_type": "code",
   "execution_count": 150,
   "metadata": {},
   "outputs": [
    {
     "ename": "NameError",
     "evalue": "name 'x' is not defined",
     "output_type": "error",
     "traceback": [
      "\u001b[0;31m---------------------------------------------------------------------------\u001b[0m",
      "\u001b[0;31mNameError\u001b[0m                                 Traceback (most recent call last)",
      "\u001b[0;32m<ipython-input-150-e450ff723e5d>\u001b[0m in \u001b[0;36m<module>\u001b[0;34m\u001b[0m\n\u001b[1;32m      4\u001b[0m \u001b[0;32mdef\u001b[0m \u001b[0mfun2\u001b[0m\u001b[0;34m(\u001b[0m\u001b[0;34m)\u001b[0m\u001b[0;34m:\u001b[0m\u001b[0;34m\u001b[0m\u001b[0;34m\u001b[0m\u001b[0m\n\u001b[1;32m      5\u001b[0m     \u001b[0mprint\u001b[0m\u001b[0;34m(\u001b[0m\u001b[0mx\u001b[0m\u001b[0;34m)\u001b[0m\u001b[0;34m\u001b[0m\u001b[0;34m\u001b[0m\u001b[0m\n\u001b[0;32m----> 6\u001b[0;31m \u001b[0mfun2\u001b[0m\u001b[0;34m(\u001b[0m\u001b[0;34m)\u001b[0m\u001b[0;34m\u001b[0m\u001b[0;34m\u001b[0m\u001b[0m\n\u001b[0m",
      "\u001b[0;32m<ipython-input-150-e450ff723e5d>\u001b[0m in \u001b[0;36mfun2\u001b[0;34m()\u001b[0m\n\u001b[1;32m      3\u001b[0m     \u001b[0;32mreturn\u001b[0m \u001b[0mx\u001b[0m\u001b[0;34m\u001b[0m\u001b[0;34m\u001b[0m\u001b[0m\n\u001b[1;32m      4\u001b[0m \u001b[0;32mdef\u001b[0m \u001b[0mfun2\u001b[0m\u001b[0;34m(\u001b[0m\u001b[0;34m)\u001b[0m\u001b[0;34m:\u001b[0m\u001b[0;34m\u001b[0m\u001b[0;34m\u001b[0m\u001b[0m\n\u001b[0;32m----> 5\u001b[0;31m     \u001b[0mprint\u001b[0m\u001b[0;34m(\u001b[0m\u001b[0mx\u001b[0m\u001b[0;34m)\u001b[0m\u001b[0;34m\u001b[0m\u001b[0;34m\u001b[0m\u001b[0m\n\u001b[0m\u001b[1;32m      6\u001b[0m \u001b[0mfun2\u001b[0m\u001b[0;34m(\u001b[0m\u001b[0;34m)\u001b[0m\u001b[0;34m\u001b[0m\u001b[0;34m\u001b[0m\u001b[0m\n",
      "\u001b[0;31mNameError\u001b[0m: name 'x' is not defined"
     ]
    }
   ],
   "source": [
    "def fun1():\n",
    "    x=5\n",
    "    return x\n",
    "def fun2():\n",
    "    print(x)  \n",
    "fun2()"
   ]
  },
  {
   "cell_type": "code",
   "execution_count": null,
   "metadata": {},
   "outputs": [],
   "source": [
    "def fun1():\n",
    "    x=5\n",
    "    return x\n",
    "print(x) # not allowed as it is the local variable"
   ]
  },
  {
   "cell_type": "code",
   "execution_count": 151,
   "metadata": {},
   "outputs": [
    {
     "name": "stdout",
     "output_type": "stream",
     "text": [
      "5\n",
      "10\n"
     ]
    }
   ],
   "source": [
    "x=10 # global variable\n",
    "def fun1():\n",
    "    x=5   # local variable\n",
    "    return x\n",
    "print(fun1())\n",
    "print(x) # n"
   ]
  },
  {
   "cell_type": "code",
   "execution_count": 152,
   "metadata": {},
   "outputs": [
    {
     "name": "stdout",
     "output_type": "stream",
     "text": [
      "5\n",
      "5\n"
     ]
    }
   ],
   "source": [
    "x=10 # global variable\n",
    "def fun1():\n",
    "    global x\n",
    "    x=5   # local variable\n",
    "    return x\n",
    "print(fun1())\n",
    "print(x) # n\n",
    "# global variable is changed by a local variable"
   ]
  },
  {
   "cell_type": "code",
   "execution_count": 153,
   "metadata": {},
   "outputs": [
    {
     "name": "stdout",
     "output_type": "stream",
     "text": [
      "chap 1 complete\n"
     ]
    }
   ],
   "source": [
    "print(\"chap 1 complete\")"
   ]
  },
  {
   "cell_type": "code",
   "execution_count": null,
   "metadata": {},
   "outputs": [],
   "source": []
  },
  {
   "cell_type": "code",
   "execution_count": null,
   "metadata": {},
   "outputs": [],
   "source": []
  }
 ],
 "metadata": {
  "kernelspec": {
   "display_name": "Python 3",
   "language": "python",
   "name": "python3"
  },
  "language_info": {
   "codemirror_mode": {
    "name": "ipython",
    "version": 3
   },
   "file_extension": ".py",
   "mimetype": "text/x-python",
   "name": "python",
   "nbconvert_exporter": "python",
   "pygments_lexer": "ipython3",
   "version": "3.7.1"
  }
 },
 "nbformat": 4,
 "nbformat_minor": 2
}
