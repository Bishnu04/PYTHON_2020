{
 "cells": [
  {
   "cell_type": "markdown",
   "metadata": {},
   "source": [
    "# Make Flexible Functions"
   ]
  },
  {
   "cell_type": "markdown",
   "metadata": {},
   "source": [
    "## *operator or *args"
   ]
  },
  {
   "cell_type": "code",
   "execution_count": 4,
   "metadata": {},
   "outputs": [
    {
     "name": "stdout",
     "output_type": "stream",
     "text": [
      "9\n"
     ]
    }
   ],
   "source": [
    "# Why do we need the these functions that is *args\n",
    "# for example I have a function\n",
    "# see the following example for more deatil\n",
    "def two(a,b):\n",
    "    return(a+b)\n",
    "print(two(2,7))"
   ]
  },
  {
   "cell_type": "code",
   "execution_count": 5,
   "metadata": {},
   "outputs": [
    {
     "ename": "TypeError",
     "evalue": "two() takes 2 positional arguments but 4 were given",
     "output_type": "error",
     "traceback": [
      "\u001b[0;31m---------------------------------------------------------------------------\u001b[0m",
      "\u001b[0;31mTypeError\u001b[0m                                 Traceback (most recent call last)",
      "\u001b[0;32m<ipython-input-5-c350cc9d298f>\u001b[0m in \u001b[0;36m<module>\u001b[0;34m\u001b[0m\n\u001b[1;32m      2\u001b[0m \u001b[0;32mdef\u001b[0m \u001b[0mtwo\u001b[0m\u001b[0;34m(\u001b[0m\u001b[0ma\u001b[0m\u001b[0;34m,\u001b[0m\u001b[0mb\u001b[0m\u001b[0;34m)\u001b[0m\u001b[0;34m:\u001b[0m\u001b[0;34m\u001b[0m\u001b[0;34m\u001b[0m\u001b[0m\n\u001b[1;32m      3\u001b[0m     \u001b[0;32mreturn\u001b[0m\u001b[0;34m(\u001b[0m\u001b[0ma\u001b[0m\u001b[0;34m+\u001b[0m\u001b[0mb\u001b[0m\u001b[0;34m)\u001b[0m\u001b[0;34m\u001b[0m\u001b[0;34m\u001b[0m\u001b[0m\n\u001b[0;32m----> 4\u001b[0;31m \u001b[0mprint\u001b[0m\u001b[0;34m(\u001b[0m\u001b[0mtwo\u001b[0m\u001b[0;34m(\u001b[0m\u001b[0;36m2\u001b[0m\u001b[0;34m,\u001b[0m\u001b[0;36m7\u001b[0m\u001b[0;34m,\u001b[0m \u001b[0;36m4\u001b[0m\u001b[0;34m,\u001b[0m\u001b[0;36m5\u001b[0m\u001b[0;34m)\u001b[0m\u001b[0;34m)\u001b[0m\u001b[0;34m\u001b[0m\u001b[0;34m\u001b[0m\u001b[0m\n\u001b[0m",
      "\u001b[0;31mTypeError\u001b[0m: two() takes 2 positional arguments but 4 were given"
     ]
    }
   ],
   "source": [
    "#Note in the above example I can not provide more than 2 arguments it will privode an error\n",
    "def two(a,b):\n",
    "    return(a+b)\n",
    "print(two(2,7, 4,5))"
   ]
  },
  {
   "cell_type": "code",
   "execution_count": null,
   "metadata": {},
   "outputs": [],
   "source": [
    "# To solve this problem we introduce *args operator"
   ]
  },
  {
   "cell_type": "code",
   "execution_count": 7,
   "metadata": {},
   "outputs": [
    {
     "name": "stdout",
     "output_type": "stream",
     "text": [
      "(2, 3, 4, 5, 6, 7)\n",
      "<class 'tuple'>\n"
     ]
    }
   ],
   "source": [
    "def total(*args): # Note ares can be any thing like abc or num or user. args is convention\n",
    "    print(args)\n",
    "    print(type(args)) # This *args creates a tupe and can give any number of arguments\n",
    "total(2,3,4,5,6,7)\n"
   ]
  },
  {
   "cell_type": "code",
   "execution_count": 8,
   "metadata": {},
   "outputs": [
    {
     "name": "stdout",
     "output_type": "stream",
     "text": [
      "27\n"
     ]
    }
   ],
   "source": [
    "#now lets make the sum of the input arguments\n",
    "def total(*args): # Note ares can be any thing like abc or num or user\n",
    "    tot = 0\n",
    "    for i in args:\n",
    "        tot=tot+i\n",
    "    return tot\n",
    " \n",
    "print(total(2,3,4,5,6,7)) # can give ny number of arguments"
   ]
  },
  {
   "cell_type": "markdown",
   "metadata": {},
   "source": [
    "# *args with normal parameter"
   ]
  },
  {
   "cell_type": "code",
   "execution_count": 9,
   "metadata": {},
   "outputs": [
    {
     "name": "stdout",
     "output_type": "stream",
     "text": [
      "120\n"
     ]
    }
   ],
   "source": [
    "def multiply(*args):\n",
    "    mult= 1\n",
    "    for i in args:\n",
    "        mult=mult*i\n",
    "    return mult\n",
    "print(multiply(1,2,3,4,5))"
   ]
  },
  {
   "cell_type": "code",
   "execution_count": null,
   "metadata": {},
   "outputs": [],
   "source": [
    "# Lets give a normal parametr say num"
   ]
  },
  {
   "cell_type": "code",
   "execution_count": 11,
   "metadata": {},
   "outputs": [
    {
     "name": "stdout",
     "output_type": "stream",
     "text": [
      "60\n"
     ]
    }
   ],
   "source": [
    "def multiply(num,*args):\n",
    "    mult= 1\n",
    "    for i in args:\n",
    "        mult=mult*i\n",
    "    return mult\n",
    "print(multiply(2,3,4,5)) # now the 2 is not the part of the tuple so, won't take part in multiply\n",
    "#only 3, 4,5 are the part of tuple and will take part in the multiplication"
   ]
  },
  {
   "cell_type": "code",
   "execution_count": 13,
   "metadata": {},
   "outputs": [
    {
     "name": "stdout",
     "output_type": "stream",
     "text": [
      "1\n"
     ]
    }
   ],
   "source": [
    "# just in case if nothing is passed to the  function as an argument\n",
    "def multiply(*args):\n",
    "    mult= 1\n",
    "    for i in args:\n",
    "        mult=mult*i\n",
    "    return mult\n",
    "print(multiply()) # the 1 is given to mult vaariable"
   ]
  },
  {
   "cell_type": "code",
   "execution_count": 14,
   "metadata": {},
   "outputs": [
    {
     "name": "stdout",
     "output_type": "stream",
     "text": [
      "[2, 3, 4, 5]\n"
     ]
    }
   ],
   "source": [
    "#When list is given as an  argument, in this case 1 will multiply the whole list\n",
    "def multiply(*args):\n",
    "    mult= 1\n",
    "    for i in args:\n",
    "        mult=mult*i\n",
    "    return mult\n",
    "l=[2,3,4,5]\n",
    "print(multiply(l))"
   ]
  },
  {
   "cell_type": "code",
   "execution_count": 15,
   "metadata": {},
   "outputs": [
    {
     "name": "stdout",
     "output_type": "stream",
     "text": [
      "120\n"
     ]
    }
   ],
   "source": [
    "# to unpack the given list   put *l in stead of l that infront of the argument put a *\n",
    "# Look the following example\n",
    "def multiply(*args):\n",
    "    mult= 1\n",
    "    for i in args:\n",
    "        mult=mult*i\n",
    "    return mult\n",
    "l=[2,3,4,5]  # can pass a tuple as well\n",
    "print(multiply(*l))"
   ]
  },
  {
   "cell_type": "markdown",
   "metadata": {},
   "source": [
    "# Example"
   ]
  },
  {
   "cell_type": "code",
   "execution_count": null,
   "metadata": {},
   "outputs": [],
   "source": [
    "# Define a function that  will take a normal parameter and *args as parameter\n",
    "# return the following\n",
    "# num=[1,2,3,4]\n",
    "# power (3,*nums)\n",
    "# list[1,8,27,64]\n"
   ]
  },
  {
   "cell_type": "code",
   "execution_count": 16,
   "metadata": {},
   "outputs": [
    {
     "name": "stdout",
     "output_type": "stream",
     "text": [
      "[1, 8, 27, 64, 125]\n"
     ]
    }
   ],
   "source": [
    "def cube_1(num, *args):\n",
    "    lis =[]\n",
    "    for i in args:\n",
    "        lis.append(i**num)\n",
    "    return lis\n",
    "l=[1,2,3,4,5]\n",
    "print(cube_1(3,*l))\n"
   ]
  },
  {
   "cell_type": "markdown",
   "metadata": {},
   "source": [
    "### lets solve this proble by using the list comprehension method"
   ]
  },
  {
   "cell_type": "code",
   "execution_count": 20,
   "metadata": {},
   "outputs": [
    {
     "name": "stdout",
     "output_type": "stream",
     "text": [
      "[1, 8, 27, 64, 125]\n"
     ]
    }
   ],
   "source": [
    "l=[1,2,3,4,5]\n",
    "def cube_2(num,*args):\n",
    "    return [i**num for i in args]\n",
    "l=[1,2,3,4,5]\n",
    "print(cube_2(3,*l))"
   ]
  },
  {
   "cell_type": "markdown",
   "metadata": {},
   "source": [
    "# ** operators called kwargs(keyword arguments)"
   ]
  },
  {
   "cell_type": "code",
   "execution_count": 27,
   "metadata": {},
   "outputs": [
    {
     "name": "stdout",
     "output_type": "stream",
     "text": [
      "{'name': 'bishnu', 'age': 34}\n",
      "<class 'dict'>\n"
     ]
    }
   ],
   "source": [
    "def fun1(**kwargs): # kwargs can be any word like num or user but convention is kwargs\n",
    "    print(kwargs)\n",
    "    print(type(kwargs))\n",
    "fun1(name= \"bishnu\", age=34) # it will return a dictionary\n",
    "\n"
   ]
  },
  {
   "cell_type": "code",
   "execution_count": null,
   "metadata": {},
   "outputs": [],
   "source": [
    "# Can use a loop in the dictionary"
   ]
  },
  {
   "cell_type": "code",
   "execution_count": 31,
   "metadata": {},
   "outputs": [
    {
     "name": "stdout",
     "output_type": "stream",
     "text": [
      "{'name': 'bishnu', 'age': 34}\n",
      "<class 'dict'>\n",
      "name,bishnu\n",
      "age,34\n"
     ]
    }
   ],
   "source": [
    "def fun1(**kwargs): # kwargs can be any word like num or user but convention is kwargs\n",
    "    print(kwargs)\n",
    "    print(type(kwargs))\n",
    "    for key, value in kwargs.items():\n",
    "        print(f\"{key},{value}\")\n",
    "    \n",
    "fun1(name= \"bishnu\", age=34) "
   ]
  },
  {
   "cell_type": "code",
   "execution_count": 33,
   "metadata": {},
   "outputs": [
    {
     "name": "stdout",
     "output_type": "stream",
     "text": [
      "{'name': 'bishnu', 'age': 34}\n",
      "<class 'dict'>\n",
      "name,bishnu\n",
      "age,34\n"
     ]
    }
   ],
   "source": [
    "#can pass a parameter\n",
    "def fun1(num,**kwargs): #num is passed\n",
    "    print(kwargs)\n",
    "    print(type(kwargs))\n",
    "    for key, value in kwargs.items():\n",
    "        print(f\"{key},{value}\")\n",
    "    \n",
    "fun1('Bishnu',name= \"bishnu\", age=34) "
   ]
  },
  {
   "cell_type": "code",
   "execution_count": null,
   "metadata": {},
   "outputs": [],
   "source": [
    "#dictionary unpacking"
   ]
  },
  {
   "cell_type": "code",
   "execution_count": 36,
   "metadata": {},
   "outputs": [
    {
     "name": "stdout",
     "output_type": "stream",
     "text": [
      "{'name': 'bishnu', 'age': 34}\n",
      "<class 'dict'>\n",
      "name,bishnu\n",
      "age,34\n"
     ]
    }
   ],
   "source": [
    "def fun1(num,**kwargs): #num is passed\n",
    "    print(kwargs)\n",
    "    print(type(kwargs))\n",
    "    for key, value in kwargs.items():\n",
    "        print(f\"{key},{value}\")\n",
    "d={'name':\"bishnu\", 'age':34}    \n",
    "fun1('Bishnu',**d)  # dictionary will be unpacked"
   ]
  },
  {
   "cell_type": "markdown",
   "metadata": {},
   "source": [
    "# Lambda Expression(Anonymous Function)"
   ]
  },
  {
   "cell_type": "code",
   "execution_count": null,
   "metadata": {},
   "outputs": [],
   "source": [
    "#In order to understand the lambda function, lets start with a normal function\n",
    "# How normal function works"
   ]
  },
  {
   "cell_type": "code",
   "execution_count": 38,
   "metadata": {},
   "outputs": [
    {
     "name": "stdout",
     "output_type": "stream",
     "text": [
      "9\n"
     ]
    }
   ],
   "source": [
    "# Normal function\n",
    "def add(a,b):\n",
    "    return a+b\n",
    "add1 = add(4,5)\n",
    "print(add1)"
   ]
  },
  {
   "cell_type": "code",
   "execution_count": 2,
   "metadata": {},
   "outputs": [
    {
     "name": "stdout",
     "output_type": "stream",
     "text": [
      "9\n",
      "<function <lambda> at 0x7f95d532b1e0>\n"
     ]
    }
   ],
   "source": [
    "# now  lets try the lambda function\n",
    "add2 = lambda a,b: a+b   # These are the arguments\n",
    "print(add2(4,5))\n",
    "print(add2) #will print the name of the lambda functiom"
   ]
  },
  {
   "cell_type": "markdown",
   "metadata": {},
   "source": [
    "# the lambda function return the last character of the string"
   ]
  },
  {
   "cell_type": "code",
   "execution_count": 3,
   "metadata": {},
   "outputs": [
    {
     "name": "stdout",
     "output_type": "stream",
     "text": [
      "u\n"
     ]
    }
   ],
   "source": [
    "char_1 = lambda a : a[-1]\n",
    "print(char_1(\"Bishnu\"))"
   ]
  },
  {
   "cell_type": "code",
   "execution_count": 5,
   "metadata": {},
   "outputs": [
    {
     "name": "stdout",
     "output_type": "stream",
     "text": [
      "True\n"
     ]
    }
   ],
   "source": [
    "even = lambda a : a%2==0\n",
    "print(even(4))"
   ]
  },
  {
   "cell_type": "code",
   "execution_count": 6,
   "metadata": {},
   "outputs": [
    {
     "name": "stdout",
     "output_type": "stream",
     "text": [
      "False\n"
     ]
    }
   ],
   "source": [
    "even = lambda a : a%2==0\n",
    "print(even(7))"
   ]
  },
  {
   "cell_type": "markdown",
   "metadata": {},
   "source": [
    "# lambda with if else statement"
   ]
  },
  {
   "cell_type": "code",
   "execution_count": 9,
   "metadata": {},
   "outputs": [
    {
     "name": "stdout",
     "output_type": "stream",
     "text": [
      "True\n"
     ]
    }
   ],
   "source": [
    "#lets atsrt with an example\n",
    "def fun(s):\n",
    "    if len(s)>5:\n",
    "        return True\n",
    "    return False\n",
    "print(fun(\"Bishnu\"))"
   ]
  },
  {
   "cell_type": "code",
   "execution_count": 10,
   "metadata": {},
   "outputs": [
    {
     "name": "stdout",
     "output_type": "stream",
     "text": [
      "True\n"
     ]
    }
   ],
   "source": [
    "# do same thing by using the lambda function\n",
    "fun1 = lambda s : True if len(s)>5 else False\n",
    "print(fun1(\"Bishnu\"))"
   ]
  },
  {
   "cell_type": "markdown",
   "metadata": {},
   "source": [
    "## another way to write a very small function"
   ]
  },
  {
   "cell_type": "code",
   "execution_count": 11,
   "metadata": {},
   "outputs": [
    {
     "name": "stdout",
     "output_type": "stream",
     "text": [
      "True\n"
     ]
    }
   ],
   "source": [
    "def fun3(s):\n",
    "    return len(s)>5\n",
    "print(fun3(\"Bishnu\"))"
   ]
  },
  {
   "cell_type": "code",
   "execution_count": 12,
   "metadata": {},
   "outputs": [
    {
     "name": "stdout",
     "output_type": "stream",
     "text": [
      "True\n"
     ]
    }
   ],
   "source": [
    "fun4 = lambda s : len(s)>5  # same thing\n",
    "print(fun4(\"Bishnu\"))"
   ]
  },
  {
   "cell_type": "markdown",
   "metadata": {},
   "source": [
    "# enumerate function"
   ]
  },
  {
   "cell_type": "code",
   "execution_count": 21,
   "metadata": {},
   "outputs": [
    {
     "name": "stdout",
     "output_type": "stream",
     "text": [
      " 0 th position Bishnu\n",
      " 1 th position Pandey\n",
      " 2 th position Hampton\n"
     ]
    }
   ],
   "source": [
    "#with out enumerate function\n",
    "#for example I have a list and print 0th position element, 1st position and so on\n",
    "li = [\"Bishnu\",\"Pandey\",\"Hampton\"]\n",
    "for i in range(len(li)):\n",
    "    print(f\" {i} th position {li[i]}\")\n"
   ]
  },
  {
   "cell_type": "code",
   "execution_count": 26,
   "metadata": {},
   "outputs": [
    {
     "name": "stdout",
     "output_type": "stream",
     "text": [
      "0.......>Bishnu\n",
      "1.......>Pandey\n",
      "2.......>Hampton\n"
     ]
    }
   ],
   "source": [
    "pos=0\n",
    "names = [\"Bishnu\",\"Pandey\",\"Hampton\"]\n",
    "for name in names:\n",
    "    print(f\"{pos}.......>{name}\")\n",
    "    pos+=1"
   ]
  },
  {
   "cell_type": "code",
   "execution_count": 30,
   "metadata": {},
   "outputs": [
    {
     "name": "stdout",
     "output_type": "stream",
     "text": [
      "0.......>Bishnu\n",
      "1.......>Pandey\n",
      "2.......>Hampton\n"
     ]
    }
   ],
   "source": [
    "#Now lets try same thing with the enumerate functon\n",
    "names = [\"Bishnu\",\"Pandey\",\"Hampton\"]\n",
    "for pos, name in enumerate(names):\n",
    "    print(f\"{pos}.......>{name}\")\n",
    "    pos+=1"
   ]
  },
  {
   "cell_type": "markdown",
   "metadata": {},
   "source": [
    "# map function"
   ]
  },
  {
   "cell_type": "code",
   "execution_count": null,
   "metadata": {},
   "outputs": [],
   "source": [
    "#for example we have a list of numbers\n",
    "# l = [4,5,6,7]\n",
    "# and youu need to print a square of the number and save in a list or tuple"
   ]
  },
  {
   "cell_type": "code",
   "execution_count": 31,
   "metadata": {},
   "outputs": [
    {
     "name": "stdout",
     "output_type": "stream",
     "text": [
      "[16, 25, 36, 49, 64, 81]\n"
     ]
    }
   ],
   "source": [
    "num = [4,5,6,7,8,9]\n",
    "def square(a):\n",
    "    return a**2\n",
    "square_1 = list(map(square,num)) # will take two arguments the first one function name and 2nd one name of list\n",
    "print(square_1)  # can also produce a tuple as weell by this method\n"
   ]
  },
  {
   "cell_type": "markdown",
   "metadata": {},
   "source": [
    "# use lambda  function with the map function"
   ]
  },
  {
   "cell_type": "code",
   "execution_count": 35,
   "metadata": {},
   "outputs": [
    {
     "name": "stdout",
     "output_type": "stream",
     "text": [
      "[1, 4, 9, 16, 25, 36, 49, 64, 81, 100]\n"
     ]
    }
   ],
   "source": [
    "num_1 = [1,2,3,4,5,6,7,8,9,10]\n",
    "square_2 = list(map(lambda a:a**2, num_1))\n",
    "print(square_2)"
   ]
  },
  {
   "cell_type": "markdown",
   "metadata": {},
   "source": [
    "# lets do same thing by using the  list comprehension mewthod"
   ]
  },
  {
   "cell_type": "code",
   "execution_count": 36,
   "metadata": {},
   "outputs": [
    {
     "name": "stdout",
     "output_type": "stream",
     "text": [
      "[1, 4, 9, 16, 25, 36, 49, 64, 81, 100]\n"
     ]
    }
   ],
   "source": [
    "square_new = [i**2 for i in num_1]\n",
    "print(square_new)"
   ]
  },
  {
   "cell_type": "markdown",
   "metadata": {},
   "source": [
    "# filter function"
   ]
  },
  {
   "cell_type": "code",
   "execution_count": 38,
   "metadata": {},
   "outputs": [
    {
     "name": "stdout",
     "output_type": "stream",
     "text": [
      "[2, 4, 6, 8, 10, 12, 12, 14, 16]\n"
     ]
    }
   ],
   "source": [
    "# lets filter the even  umbers from  given list\n",
    "num = [1,2,3,4,5,6,7,8,9,10,11,12,12, 13,14, 15,16]\n",
    "def is_even(a):\n",
    "    return a%2==0\n",
    "filtered=list(filter(is_even,num))#here the filter function will take two argunemet 1. function name & 2. list\n",
    "print(filtered)\n"
   ]
  },
  {
   "cell_type": "markdown",
   "metadata": {},
   "source": [
    "### can use a lambda expression here in stead of the is_even  function"
   ]
  },
  {
   "cell_type": "code",
   "execution_count": 39,
   "metadata": {},
   "outputs": [
    {
     "name": "stdout",
     "output_type": "stream",
     "text": [
      "[2, 4, 6, 8, 10, 12, 12, 14, 16]\n"
     ]
    }
   ],
   "source": [
    "num = [1,2,3,4,5,6,7,8,9,10,11,12,12, 13,14, 15,16]\n",
    "filt= list(filter(lambda a:a%2==0,num)) # here can make a tuple as well\n",
    "print(filt)"
   ]
  },
  {
   "cell_type": "markdown",
   "metadata": {},
   "source": [
    "### same thing csn be done by using the list commprehension method"
   ]
  },
  {
   "cell_type": "code",
   "execution_count": 40,
   "metadata": {},
   "outputs": [
    {
     "name": "stdout",
     "output_type": "stream",
     "text": [
      "[2, 4, 6, 8, 10, 12, 12, 14, 16]\n"
     ]
    }
   ],
   "source": [
    "num = [1,2,3,4,5,6,7,8,9,10,11,12,12, 13,14, 15,16]\n",
    "filt_1 = [i for i in num if i%2==0]\n",
    "print(filt_1)"
   ]
  },
  {
   "cell_type": "markdown",
   "metadata": {},
   "source": [
    "# zip() function"
   ]
  },
  {
   "cell_type": "code",
   "execution_count": null,
   "metadata": {},
   "outputs": [],
   "source": [
    "#lets see how the zip function works\n",
    "# user_id = ['user1','user2','user3']\n",
    "# names = [\"Bishnu\",'siddartha','sarwin']\n",
    "# lets make them in the following form\n",
    "#  (user1,'Bishnu'),(user2,'siddartha'),(user3,\"sarwin\")"
   ]
  },
  {
   "cell_type": "code",
   "execution_count": 41,
   "metadata": {},
   "outputs": [
    {
     "name": "stdout",
     "output_type": "stream",
     "text": [
      "[('user1', 'Bishnu'), ('user2', 'siddartha'), ('user3', 'sarwin')]\n"
     ]
    }
   ],
   "source": [
    "user_id = ['user1','user2','user3']\n",
    "names = [\"Bishnu\",'siddartha','sarwin']\n",
    "final =list(zip(user_id,names)) #zip() function will take two arguments 1. user_id and 2.  names\n",
    "print(final)"
   ]
  },
  {
   "cell_type": "markdown",
   "metadata": {},
   "source": [
    "## can  also change in to the dictionry"
   ]
  },
  {
   "cell_type": "code",
   "execution_count": 42,
   "metadata": {},
   "outputs": [
    {
     "name": "stdout",
     "output_type": "stream",
     "text": [
      "{'user1': 'Bishnu', 'user2': 'siddartha', 'user3': 'sarwin'}\n"
     ]
    }
   ],
   "source": [
    "user_id = ['user1','user2','user3']\n",
    "names = [\"Bishnu\",'siddartha','sarwin']\n",
    "final =dict(zip(user_id,names)) #zip() function will take two arguments 1. user_id and 2.  names\n",
    "print(final)"
   ]
  },
  {
   "cell_type": "code",
   "execution_count": null,
   "metadata": {},
   "outputs": [],
   "source": [
    "# l1 = [1,3,5,7,9]\n",
    "# l2 = [2,4,6,8,10]\n",
    "# create l1 and l2 from the following \n",
    "# l=[(1,2),(3,4),(5,6),(7,8),(9,10)]  # just the opposite of the above method"
   ]
  },
  {
   "cell_type": "code",
   "execution_count": null,
   "metadata": {},
   "outputs": [],
   "source": [
    "# We will use a * operator to unzip the list\n",
    "# That is *l will unpack the list l      ---> see the following example"
   ]
  },
  {
   "cell_type": "code",
   "execution_count": 43,
   "metadata": {},
   "outputs": [
    {
     "name": "stdout",
     "output_type": "stream",
     "text": [
      "[(1, 3, 5, 7, 9), (2, 4, 6, 8, 10)]\n"
     ]
    }
   ],
   "source": [
    "l=[(1,2),(3,4),(5,6),(7,8),(9,10)] \n",
    "lis = list(zip(*l))\n",
    "print(lis)  # this gave me list with two tuple inside it\n"
   ]
  },
  {
   "cell_type": "code",
   "execution_count": 45,
   "metadata": {},
   "outputs": [
    {
     "name": "stdout",
     "output_type": "stream",
     "text": [
      "(1, 3, 5, 7, 9)\n",
      "(2, 4, 6, 8, 10)\n"
     ]
    }
   ],
   "source": [
    "# I would like to have two seperate list l1 and that of l2\n",
    "l1, l2 = list(zip(*l))\n",
    "print(l1)\n",
    "print(l2)"
   ]
  },
  {
   "cell_type": "code",
   "execution_count": 47,
   "metadata": {},
   "outputs": [
    {
     "name": "stdout",
     "output_type": "stream",
     "text": [
      "[1, 3, 5, 7, 9]\n",
      "[2, 4, 6, 8, 10]\n"
     ]
    }
   ],
   "source": [
    "#ccan make the list from the tuple\n",
    "l1, l2 = list(zip(*l))\n",
    "print(list(l1))\n",
    "print(list(l2))\n"
   ]
  },
  {
   "cell_type": "markdown",
   "metadata": {},
   "source": [
    "# other uses of the zip function"
   ]
  },
  {
   "cell_type": "code",
   "execution_count": null,
   "metadata": {},
   "outputs": [],
   "source": [
    "# l1 = [1,3,5,7,9]\n",
    "# l2 = [2,4,6,8,10]\n",
    "# new_list = []\n",
    "# In the new liat I would like to put only the number which is large in the pair. That is in the pair of (1,2)\n",
    "# 2 is large, in the pair of (3, 4),4 is large, in the pair of (7,8) 8 is large and so on.\n",
    "# so only yhe large numnver will be added to the list"
   ]
  },
  {
   "cell_type": "code",
   "execution_count": 52,
   "metadata": {},
   "outputs": [
    {
     "name": "stdout",
     "output_type": "stream",
     "text": [
      "[2, 4, 25, 8, 10]\n"
     ]
    }
   ],
   "source": [
    "l1 = [1,3,25,7,9]\n",
    "l2 = [2,4,6,8,10]\n",
    "new_list = []\n",
    "for pair in zip(l1,l2):\n",
    "    new_list.append(max(pair))\n",
    "print(new_list)"
   ]
  },
  {
   "cell_type": "code",
   "execution_count": 53,
   "metadata": {},
   "outputs": [],
   "source": [
    "#define a funcwtion that will take any number of list and will return averave like following\n",
    "# l1 [1,2,3,4], l2 = [5,6,7,8], l3=[ 10, 20,30,40]\n",
    "# will return the following \n",
    "# l = (1+5+10)/3, (2+6+20)/3 .... so on "
   ]
  },
  {
   "cell_type": "code",
   "execution_count": 54,
   "metadata": {},
   "outputs": [
    {
     "name": "stdout",
     "output_type": "stream",
     "text": [
      "[1.5, 3.5, 15.5, 7.5, 9.5]\n"
     ]
    }
   ],
   "source": [
    "l11 = [1,3,25,7,9]\n",
    "l12 = [2,4,6,8,10]\n",
    "def average_finder(a,b):\n",
    "    average =[]\n",
    "    for pair in zip(l11,l12):\n",
    "        average.append(sum(pair)/len(pair))\n",
    "    return average\n",
    "print(average_finder(l11,l12))\n",
    "    "
   ]
  },
  {
   "cell_type": "markdown",
   "metadata": {},
   "source": [
    "### can pass any numner of list to the function"
   ]
  },
  {
   "cell_type": "code",
   "execution_count": 55,
   "metadata": {},
   "outputs": [
    {
     "name": "stdout",
     "output_type": "stream",
     "text": [
      "[15.75, 21.75, 32.75, 33.75]\n"
     ]
    }
   ],
   "source": [
    "l11 = [1,3,25,7,9]\n",
    "l12 = [2,4,6,8,10]\n",
    "l3 = [10,20,30,40]\n",
    "l4 = [50,60,70,80]\n",
    "def average_finder(*args):\n",
    "    average =[]\n",
    "    for pair in zip(*args):\n",
    "        average.append(sum(pair)/len(pair))\n",
    "    return average\n",
    "print(average_finder(l11,l12,l3,l4))"
   ]
  },
  {
   "cell_type": "markdown",
   "metadata": {},
   "source": [
    "## lets do the above code in one line"
   ]
  },
  {
   "cell_type": "code",
   "execution_count": 56,
   "metadata": {},
   "outputs": [
    {
     "name": "stdout",
     "output_type": "stream",
     "text": [
      "[15.75, 21.75, 32.75, 33.75]\n"
     ]
    }
   ],
   "source": [
    "l11 = [1,3,25,7,9]\n",
    "l12 = [2,4,6,8,10]\n",
    "l3 = [10,20,30,40]\n",
    "l4 = [50,60,70,80]\n",
    "average_finder = lambda *args:[sum(pair)/len(pair) for pair in zip(*args)]\n",
    "print(average_finder(l1,l2,l3,l4))"
   ]
  },
  {
   "cell_type": "markdown",
   "metadata": {},
   "source": [
    "## all() function"
   ]
  },
  {
   "cell_type": "code",
   "execution_count": null,
   "metadata": {},
   "outputs": [],
   "source": [
    "# lets see an example of all function?\n",
    "# Lets see all of the numbers in list are even or not"
   ]
  },
  {
   "cell_type": "code",
   "execution_count": 57,
   "metadata": {},
   "outputs": [
    {
     "name": "stdout",
     "output_type": "stream",
     "text": [
      "True\n"
     ]
    }
   ],
   "source": [
    "l12 = [2,4,6,8,10]\n",
    "print(all(i%2==0 for i in l12))"
   ]
  },
  {
   "cell_type": "code",
   "execution_count": 58,
   "metadata": {},
   "outputs": [
    {
     "name": "stdout",
     "output_type": "stream",
     "text": [
      "False\n"
     ]
    }
   ],
   "source": [
    "#lets make one of them or more odd\n",
    "l12 = [2,41,6,8,10]  # here 41 is odd number so the program prints the False value\n",
    "print(all(i%2==0 for i in l12))"
   ]
  },
  {
   "cell_type": "markdown",
   "metadata": {},
   "source": [
    "# any() function"
   ]
  },
  {
   "cell_type": "code",
   "execution_count": 60,
   "metadata": {},
   "outputs": [
    {
     "name": "stdout",
     "output_type": "stream",
     "text": [
      "False\n"
     ]
    }
   ],
   "source": [
    "# if any of the number in the given lsit is odd it will print True otherwise will print False\n",
    "l111= [2,40,6,8,10]  # nne of them is an odd number\n",
    "print(any(i%2!=0 for i in l111))"
   ]
  },
  {
   "cell_type": "code",
   "execution_count": 62,
   "metadata": {},
   "outputs": [
    {
     "name": "stdout",
     "output_type": "stream",
     "text": [
      "True\n"
     ]
    }
   ],
   "source": [
    "l111= [2,41,6,8,10]  # here 41 is odd number\n",
    "print(any(i%2!=0 for i in l111))"
   ]
  },
  {
   "cell_type": "markdown",
   "metadata": {},
   "source": [
    "# advance max() and min() function"
   ]
  },
  {
   "cell_type": "code",
   "execution_count": null,
   "metadata": {},
   "outputs": [],
   "source": [
    "# by usnig the max() and min() function we can  find the string with the maximum/min length in a list\n",
    "# for eaxmple ['Bishnu', 'Hary', 'Obama'] we can find the string with the maximim and minimum length"
   ]
  },
  {
   "cell_type": "code",
   "execution_count": 1,
   "metadata": {},
   "outputs": [
    {
     "name": "stdout",
     "output_type": "stream",
     "text": [
      "Obama\n"
     ]
    }
   ],
   "source": [
    "# This is not the correct way\n",
    "names = ['Bishnu', 'Hary', 'Obama'] \n",
    "print(max(names))  # but the answe is not correct"
   ]
  },
  {
   "cell_type": "code",
   "execution_count": 3,
   "metadata": {},
   "outputs": [
    {
     "name": "stdout",
     "output_type": "stream",
     "text": [
      "Bishnu\n"
     ]
    }
   ],
   "source": [
    "# The followingis the correct way to find the max lengeth of a string\n",
    "# lets define a function\n",
    "def func_1(item):\n",
    "    return len(item)\n",
    "names = ['Bishnu', 'Hary', 'Obama'] #maximum length in the string\n",
    "print(max(names, key = func_1))"
   ]
  },
  {
   "cell_type": "code",
   "execution_count": 4,
   "metadata": {},
   "outputs": [
    {
     "name": "stdout",
     "output_type": "stream",
     "text": [
      "Hary\n"
     ]
    }
   ],
   "source": [
    "def func_1(item):\n",
    "    return len(item)\n",
    "names = ['Bishnu', 'Hary', 'Obama'] #minimum length in the string\n",
    "print(min(names, key = func_1))"
   ]
  },
  {
   "cell_type": "markdown",
   "metadata": {},
   "source": [
    "# find the largest string by using the lambda function"
   ]
  },
  {
   "cell_type": "code",
   "execution_count": 5,
   "metadata": {},
   "outputs": [
    {
     "name": "stdout",
     "output_type": "stream",
     "text": [
      "z\n"
     ]
    }
   ],
   "source": [
    "#lets try the string with the minimum length\n",
    "names = ['Bishnu', 'Hary', 'Obama','z'] #minimum length in the string\n",
    "print(min(names, key = lambda item: len(item)))"
   ]
  },
  {
   "cell_type": "code",
   "execution_count": 6,
   "metadata": {},
   "outputs": [
    {
     "name": "stdout",
     "output_type": "stream",
     "text": [
      "Bishnu Pandey\n"
     ]
    }
   ],
   "source": [
    "#lets try the string with the maximum  length\n",
    "names = ['Bishnu Pandey', 'Hary', 'Obama','z'] #minimum length in the string\n",
    "print(max(names, key = lambda item: len(item)))"
   ]
  },
  {
   "cell_type": "markdown",
   "metadata": {},
   "source": [
    "# Example"
   ]
  },
  {
   "cell_type": "markdown",
   "metadata": {},
   "source": [
    "### The following is the lsit and inside of which is many dictionaries"
   ]
  },
  {
   "cell_type": "code",
   "execution_count": null,
   "metadata": {},
   "outputs": [],
   "source": [
    "student = [\n",
    "    {\"name\":\"Bishnu\",\"score\":90,\"age\"=35},\n",
    "    {\"name\":\"Hem\",\"score\":80,\"age\"=38},\n",
    "    {\"name\":\"Thneshwor\",\"score\":70,\"age\"=39}\n",
    "]\n",
    "\n",
    "# I would like to print, on the bais of max score or max age or min score or age or etc"
   ]
  },
  {
   "cell_type": "code",
   "execution_count": 10,
   "metadata": {},
   "outputs": [
    {
     "name": "stdout",
     "output_type": "stream",
     "text": [
      "Thneshwor\n"
     ]
    }
   ],
   "source": [
    "student = [\n",
    "    {\"name\":\"Bishnu\",\"score\":90,\"age\":35},\n",
    "    {\"name\":\"Hem\",\"score\":80,\"age\":38},\n",
    "    {\"name\":\"Thneshwor\",\"score\":70,\"age\":39}\n",
    "]\n",
    "print(max(student, key= lambda item:item.get(\"age\"))['name'])  #Thaneshwor have largest age"
   ]
  },
  {
   "cell_type": "code",
   "execution_count": 11,
   "metadata": {},
   "outputs": [
    {
     "name": "stdout",
     "output_type": "stream",
     "text": [
      "Bishnu\n"
     ]
    }
   ],
   "source": [
    "student = [\n",
    "    {\"name\":\"Bishnu\",\"score\":90,\"age\":35},\n",
    "    {\"name\":\"Hem\",\"score\":80,\"age\":38},\n",
    "    {\"name\":\"Thneshwor\",\"score\":70,\"age\":39}\n",
    "]\n",
    "print(max(student, key= lambda item:item.get(\"score\"))['name'])  #lets see on the basis of teh score"
   ]
  },
  {
   "cell_type": "markdown",
   "metadata": {},
   "source": [
    "# sort() method sort the items of the list on the basis of the alphabet"
   ]
  },
  {
   "cell_type": "code",
   "execution_count": 13,
   "metadata": {},
   "outputs": [
    {
     "name": "stdout",
     "output_type": "stream",
     "text": [
      "['apple', 'grapes', 'mangp']\n"
     ]
    }
   ],
   "source": [
    "li = ['mangp', 'grapes', 'apple']\n",
    "li.sort()\n",
    "print(li)"
   ]
  },
  {
   "cell_type": "code",
   "execution_count": null,
   "metadata": {},
   "outputs": [],
   "source": [
    "# but this  sort() method can not be used for the tuple"
   ]
  },
  {
   "cell_type": "code",
   "execution_count": 14,
   "metadata": {},
   "outputs": [
    {
     "ename": "AttributeError",
     "evalue": "'tuple' object has no attribute 'sort'",
     "output_type": "error",
     "traceback": [
      "\u001b[0;31m---------------------------------------------------------------------------\u001b[0m",
      "\u001b[0;31mAttributeError\u001b[0m                            Traceback (most recent call last)",
      "\u001b[0;32m<ipython-input-14-fdef93303777>\u001b[0m in \u001b[0;36m<module>\u001b[0;34m\u001b[0m\n\u001b[1;32m      1\u001b[0m \u001b[0mli\u001b[0m \u001b[0;34m=\u001b[0m \u001b[0;34m(\u001b[0m\u001b[0;34m'mangp'\u001b[0m\u001b[0;34m,\u001b[0m \u001b[0;34m'grapes'\u001b[0m\u001b[0;34m,\u001b[0m \u001b[0;34m'apple'\u001b[0m\u001b[0;34m)\u001b[0m\u001b[0;34m\u001b[0m\u001b[0;34m\u001b[0m\u001b[0m\n\u001b[0;32m----> 2\u001b[0;31m \u001b[0mli\u001b[0m\u001b[0;34m.\u001b[0m\u001b[0msort\u001b[0m\u001b[0;34m(\u001b[0m\u001b[0;34m)\u001b[0m\u001b[0;34m\u001b[0m\u001b[0;34m\u001b[0m\u001b[0m\n\u001b[0m\u001b[1;32m      3\u001b[0m \u001b[0mprint\u001b[0m\u001b[0;34m(\u001b[0m\u001b[0mli\u001b[0m\u001b[0;34m)\u001b[0m\u001b[0;34m\u001b[0m\u001b[0;34m\u001b[0m\u001b[0m\n",
      "\u001b[0;31mAttributeError\u001b[0m: 'tuple' object has no attribute 'sort'"
     ]
    }
   ],
   "source": [
    "li = ('mangp', 'grapes', 'apple')\n",
    "li.sort()\n",
    "print(li)"
   ]
  },
  {
   "cell_type": "markdown",
   "metadata": {},
   "source": [
    "# sorted()  method can used for the tuple"
   ]
  },
  {
   "cell_type": "markdown",
   "metadata": {},
   "source": [
    "### Since tuples are immutable therefore, after sorting the items it will return a list and won't return a tuple"
   ]
  },
  {
   "cell_type": "code",
   "execution_count": 17,
   "metadata": {},
   "outputs": [
    {
     "name": "stdout",
     "output_type": "stream",
     "text": [
      "['apple', 'grapes', 'mangp']\n"
     ]
    }
   ],
   "source": [
    "fruits = ('mangp', 'grapes', 'apple')\n",
    "ab = sorted(fruits)\n",
    "print(ab)"
   ]
  },
  {
   "cell_type": "markdown",
   "metadata": {},
   "source": [
    "# Lets soort the guitars on the basis of their price"
   ]
  },
  {
   "cell_type": "code",
   "execution_count": 20,
   "metadata": {},
   "outputs": [
    {
     "name": "stdout",
     "output_type": "stream",
     "text": [
      "[{'model1': 'taylor', 'price': 250}, {'model1': 'faith neptune', 'price': 500}, {'model1': 'yamaha', 'price': 2500}, {'model1': 'faith apolo venus', 'price': 3000}]\n"
     ]
    }
   ],
   "source": [
    "guitars = [\n",
    "    {'model1':'yamaha','price':2500},\n",
    "    {'model1':'faith neptune','price':500},\n",
    "    {'model1':'faith apolo venus','price':3000},\n",
    "    {'model1':'taylor','price':250}\n",
    "]\n",
    "\n",
    "print(sorted(guitars, key = lambda item: item['price']))# printed items on the basis of their increasing price"
   ]
  },
  {
   "cell_type": "markdown",
   "metadata": {},
   "source": [
    "### can be print the sameitems on the basis of their decreasing price by using the reverse function"
   ]
  },
  {
   "cell_type": "code",
   "execution_count": 23,
   "metadata": {},
   "outputs": [
    {
     "name": "stdout",
     "output_type": "stream",
     "text": [
      "[{'model1': 'faith apolo venus', 'price': 3000}, {'model1': 'yamaha', 'price': 2500}, {'model1': 'faith neptune', 'price': 500}, {'model1': 'taylor', 'price': 250}]\n"
     ]
    }
   ],
   "source": [
    "# printed items on the basis of their increasing price\n",
    "print(sorted(guitars, key = lambda item: item['price'],reverse = True))"
   ]
  },
  {
   "cell_type": "markdown",
   "metadata": {},
   "source": [
    "### doc   string -----> These are the messages for the user or to know about a  function"
   ]
  },
  {
   "cell_type": "code",
   "execution_count": 29,
   "metadata": {},
   "outputs": [
    {
     "name": "stdout",
     "output_type": "stream",
     "text": [
      "Return the sum of a 'start' value (default: 0) plus an iterable of numbers\n",
      "\n",
      "When the iterable is empty, return the start value.\n",
      "This function is intended specifically for use with numeric values and may\n",
      "reject non-numeric types.\n"
     ]
    }
   ],
   "source": [
    "print(sum.__doc__)  # this syntax will print the doc string for the add function\n"
   ]
  },
  {
   "cell_type": "code",
   "execution_count": 30,
   "metadata": {},
   "outputs": [
    {
     "name": "stdout",
     "output_type": "stream",
     "text": [
      "max(iterable, *[, default=obj, key=func]) -> value\n",
      "max(arg1, arg2, *args, *[, key=func]) -> value\n",
      "\n",
      "With a single iterable argument, return its biggest item. The\n",
      "default keyword-only argument specifies an object to return if\n",
      "the provided iterable is empty.\n",
      "With two or more arguments, return the largest argument.\n"
     ]
    }
   ],
   "source": [
    "print(max.__doc__) # will print the doc s"
   ]
  },
  {
   "cell_type": "markdown",
   "metadata": {},
   "source": [
    "# help() function in python"
   ]
  },
  {
   "cell_type": "code",
   "execution_count": 31,
   "metadata": {},
   "outputs": [
    {
     "name": "stdout",
     "output_type": "stream",
     "text": [
      "Help on built-in function sum in module builtins:\n",
      "\n",
      "sum(iterable, start=0, /)\n",
      "    Return the sum of a 'start' value (default: 0) plus an iterable of numbers\n",
      "    \n",
      "    When the iterable is empty, return the start value.\n",
      "    This function is intended specifically for use with numeric values and may\n",
      "    reject non-numeric types.\n",
      "\n",
      "None\n"
     ]
    }
   ],
   "source": [
    "print(help(sum))"
   ]
  },
  {
   "cell_type": "markdown",
   "metadata": {},
   "source": [
    "# function returning function"
   ]
  },
  {
   "cell_type": "code",
   "execution_count": 34,
   "metadata": {},
   "outputs": [
    {
     "name": "stdout",
     "output_type": "stream",
     "text": [
      "125\n"
     ]
    }
   ],
   "source": [
    "def t_power(x): # will acts as power\n",
    "    def func(n):  # will acts as a base\n",
    "        return n**x\n",
    "    return func\n",
    "cube = t_power(3)\n",
    "print(cube(5))\n"
   ]
  },
  {
   "cell_type": "markdown",
   "metadata": {},
   "source": [
    "# generators "
   ]
  },
  {
   "cell_type": "code",
   "execution_count": null,
   "metadata": {},
   "outputs": [],
   "source": [
    "# generators are the iterators, they are vary faster than that of list\n",
    "# for example list = [1,2,3,4]\n",
    "# if a loop is used in the list it will take space in the memory and will take more time\n",
    "# but in case of the generators, one time it will disply or generate one number say first will generate 1,\n",
    "# then 1 will disappear and next number 2 will shows up. The process will be continued\n",
    "# So if you need to use the list again and again, you should use the list but if you like to use it just for\n",
    "# one time the generator is more efficient\n"
   ]
  },
  {
   "cell_type": "markdown",
   "metadata": {},
   "source": [
    "# First let us  define a  function that will print the first 10 numbers"
   ]
  },
  {
   "cell_type": "code",
   "execution_count": 3,
   "metadata": {},
   "outputs": [
    {
     "name": "stdout",
     "output_type": "stream",
     "text": [
      "1\n",
      "2\n",
      "3\n",
      "4\n",
      "5\n",
      "6\n",
      "7\n",
      "8\n",
      "9\n",
      "10\n"
     ]
    }
   ],
   "source": [
    "def num(n):\n",
    "    for i in range(1,n+1):\n",
    "        print(i)\n",
    "num(10)"
   ]
  },
  {
   "cell_type": "markdown",
   "metadata": {},
   "source": [
    "### Now let us make the generstor of the above function, print will be replaced by yiels"
   ]
  },
  {
   "cell_type": "code",
   "execution_count": 5,
   "metadata": {},
   "outputs": [
    {
     "name": "stdout",
     "output_type": "stream",
     "text": [
      "<generator object num at 0x7fd514447ed0>\n"
     ]
    }
   ],
   "source": [
    "def num(n):\n",
    "    for i in range(1,n+1):\n",
    "        yield(i)# the line above this line is generator\n",
    "print(num(10))"
   ]
  },
  {
   "cell_type": "code",
   "execution_count": 6,
   "metadata": {},
   "outputs": [
    {
     "name": "stdout",
     "output_type": "stream",
     "text": [
      "1\n",
      "2\n",
      "3\n",
      "4\n",
      "5\n",
      "6\n",
      "7\n",
      "8\n",
      "9\n",
      "10\n"
     ]
    }
   ],
   "source": [
    "# Let us demand the numbers foem the generator\n",
    "def num(n):\n",
    "    for i in range(1,n+1):\n",
    "        yield(i)# the line above this line is generator\n",
    "for i in num(10):\n",
    "    print(i)\n",
    "# first 1 will produce or geneate , then 1 will disappear from the memory and 2 will  prodece and so on\n",
    "# one time only one numder in the memory"
   ]
  },
  {
   "cell_type": "markdown",
   "metadata": {},
   "source": [
    "### Example: define a generator function that will take a number as an argunent and will produce sequence of even num"
   ]
  },
  {
   "cell_type": "code",
   "execution_count": null,
   "metadata": {},
   "outputs": [],
   "source": [
    "# for example 10 is taken as an argumrnt so the generator function willproduce the sequence of the even number \n",
    "# up to 10"
   ]
  },
  {
   "cell_type": "code",
   "execution_count": 10,
   "metadata": {},
   "outputs": [
    {
     "name": "stdout",
     "output_type": "stream",
     "text": [
      "2\n",
      "4\n",
      "6\n",
      "8\n",
      "10\n",
      "2\n",
      "4\n",
      "6\n",
      "8\n",
      "10\n"
     ]
    }
   ],
   "source": [
    "def num1(n):\n",
    "    for i in range(1,n+1):\n",
    "        if i%2==0:\n",
    "            yield(i)\n",
    "for i in num1(10):\n",
    "    print(i)\n",
    "for i in num1(10): #HEre loop is running for two times\n",
    "    print(i)\n",
    "    \n",
    "            \n",
    "        "
   ]
  },
  {
   "cell_type": "code",
   "execution_count": 12,
   "metadata": {},
   "outputs": [
    {
     "name": "stdout",
     "output_type": "stream",
     "text": [
      "2\n",
      "4\n",
      "6\n",
      "8\n",
      "10\n"
     ]
    }
   ],
   "source": [
    "# so we have to store the the generator function in a variable\n",
    "def num1(n):\n",
    "    for i in range(1,n+1):\n",
    "        if i%2==0:\n",
    "            yield(i)\n",
    "even_nums = num1(10)\n",
    "for i in even_nums:\n",
    "    print(i)\n",
    "for i in even_nums: #HEre loop is running for two times\n",
    "    print(i)\n",
    "    "
   ]
  },
  {
   "cell_type": "markdown",
   "metadata": {},
   "source": [
    "# lets do the above work in one line"
   ]
  },
  {
   "cell_type": "code",
   "execution_count": 17,
   "metadata": {},
   "outputs": [
    {
     "name": "stdout",
     "output_type": "stream",
     "text": [
      "2\n",
      "4\n",
      "6\n",
      "8\n",
      "10\n"
     ]
    }
   ],
   "source": [
    "def generator_fun(n):\n",
    "    for i in range(2,n+1,2):\n",
    "        yield(i)\n",
    "even_nums = num1(10)\n",
    "for i in even_nums:\n",
    "    print(i)\n",
    "for i in even_nums: #HEre loop is running for two times\n",
    "    print(i)"
   ]
  },
  {
   "cell_type": "markdown",
   "metadata": {},
   "source": [
    "# generator comprehension"
   ]
  },
  {
   "cell_type": "markdown",
   "metadata": {},
   "source": [
    "### lets start with a list comprehension\n",
    "\n"
   ]
  },
  {
   "cell_type": "code",
   "execution_count": 20,
   "metadata": {},
   "outputs": [
    {
     "name": "stdout",
     "output_type": "stream",
     "text": [
      "[1, 9, 25, 49, 81, 121, 169, 225, 289, 361]\n"
     ]
    }
   ],
   "source": [
    "# for a lsit comprehension  ## lets print the square of first 20 even numbers\n",
    "comp = [i**2 for i in range(1,20,2)]\n",
    "print(comp)"
   ]
  },
  {
   "cell_type": "code",
   "execution_count": 22,
   "metadata": {},
   "outputs": [
    {
     "name": "stdout",
     "output_type": "stream",
     "text": [
      "<generator object <genexpr> at 0x7fd5143c1228>\n"
     ]
    }
   ],
   "source": [
    "# for a generator comprehension, the []  will be replaced by ()\n",
    "comp_1 = (i**2 for i in range(1,20,2))\n",
    "print(comp_1)"
   ]
  },
  {
   "cell_type": "code",
   "execution_count": 23,
   "metadata": {},
   "outputs": [
    {
     "name": "stdout",
     "output_type": "stream",
     "text": [
      "1\n",
      "9\n",
      "25\n",
      "49\n",
      "81\n",
      "121\n",
      "169\n",
      "225\n",
      "289\n",
      "361\n"
     ]
    }
   ],
   "source": [
    "#lets try a loop in the generator function\n",
    "comp_1 = (i**2 for i in range(1,20,2))\n",
    "for i in comp_1:\n",
    "    print(i)\n",
    "for i in comp_1:\n",
    "    print(i)\n",
    "# it has two loops nbut is printing only one time"
   ]
  },
  {
   "cell_type": "code",
   "execution_count": null,
   "metadata": {},
   "outputs": [],
   "source": []
  },
  {
   "cell_type": "code",
   "execution_count": null,
   "metadata": {},
   "outputs": [],
   "source": []
  },
  {
   "cell_type": "code",
   "execution_count": null,
   "metadata": {},
   "outputs": [],
   "source": []
  },
  {
   "cell_type": "code",
   "execution_count": null,
   "metadata": {},
   "outputs": [],
   "source": []
  },
  {
   "cell_type": "code",
   "execution_count": null,
   "metadata": {},
   "outputs": [],
   "source": []
  },
  {
   "cell_type": "code",
   "execution_count": null,
   "metadata": {},
   "outputs": [],
   "source": []
  }
 ],
 "metadata": {
  "kernelspec": {
   "display_name": "Python 3",
   "language": "python",
   "name": "python3"
  },
  "language_info": {
   "codemirror_mode": {
    "name": "ipython",
    "version": 3
   },
   "file_extension": ".py",
   "mimetype": "text/x-python",
   "name": "python",
   "nbconvert_exporter": "python",
   "pygments_lexer": "ipython3",
   "version": "3.7.1"
  }
 },
 "nbformat": 4,
 "nbformat_minor": 2
}
