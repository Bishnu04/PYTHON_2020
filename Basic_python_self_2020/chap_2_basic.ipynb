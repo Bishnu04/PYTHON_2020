{
 "cells": [
  {
   "cell_type": "markdown",
   "metadata": {},
   "source": [
    "# This include some basic python stuffs like list, dictionary etc"
   ]
  },
  {
   "cell_type": "markdown",
   "metadata": {},
   "source": [
    "# List"
   ]
  },
  {
   "cell_type": "code",
   "execution_count": null,
   "metadata": {},
   "outputs": [],
   "source": [
    "\"\"\"\n",
    "List is a data type, collectionof items\n",
    "or ordered collection of items\n",
    "in list we cn store anything like int, float, srting\n",
    "if you need to assign so many variables in one variable, you can make a list\n",
    "lets see the following examples\n",
    "\n",
    "\n",
    "\"\"\""
   ]
  },
  {
   "cell_type": "code",
   "execution_count": null,
   "metadata": {},
   "outputs": [],
   "source": [
    "numbers = [1,2,3,4,5]\n",
    "print(numbers)"
   ]
  },
  {
   "cell_type": "code",
   "execution_count": null,
   "metadata": {},
   "outputs": [],
   "source": [
    "word = [\"one\",'two','three',\"four\",\"five\"]# for string can use either '' quote or \"\" double quote\n",
    "print(word)"
   ]
  },
  {
   "cell_type": "code",
   "execution_count": null,
   "metadata": {},
   "outputs": [],
   "source": [
    "mixed =[1,2,3,\"four\",'five',6.0,7.8,'None']# in python None is nohing but it doesn't mean that it is zero\n",
    "print(mixed)"
   ]
  },
  {
   "cell_type": "markdown",
   "metadata": {},
   "source": [
    "## How to access the members of the list?"
   ]
  },
  {
   "cell_type": "code",
   "execution_count": null,
   "metadata": {},
   "outputs": [],
   "source": [
    "numbers = [1,2,3,4,5]# I would like to access 2\n",
    "print(numbers[1])\n",
    "print(numbers[-1])# like to access the last nember that is 5"
   ]
  },
  {
   "cell_type": "code",
   "execution_count": null,
   "metadata": {},
   "outputs": [],
   "source": [
    "numbers = [1,2,3,4,5]# can use slicing just like the string\n",
    "print(numbers[0:3])"
   ]
  },
  {
   "cell_type": "code",
   "execution_count": null,
   "metadata": {},
   "outputs": [],
   "source": [
    "numbers = [1,2,3,4,5] # reverse the list\n",
    "print(numbers[::-1])"
   ]
  },
  {
   "cell_type": "code",
   "execution_count": null,
   "metadata": {},
   "outputs": [],
   "source": [
    "numbers = [1,2,3,4,5]# can change the member of the list\n",
    "numbers[2]=\"two\"\n",
    "print(numbers)"
   ]
  },
  {
   "cell_type": "markdown",
   "metadata": {},
   "source": [
    "# Three methods to add data to the list, append, insert and extend"
   ]
  },
  {
   "cell_type": "markdown",
   "metadata": {},
   "source": [
    "## Add data to the list:    append() method"
   ]
  },
  {
   "cell_type": "code",
   "execution_count": null,
   "metadata": {},
   "outputs": [],
   "source": [
    "\"\"\"\n",
    "By using the append method we can add items to the list\n",
    "Note the item will be added to the end of the list\n",
    "suppose I have a list with two items and would likt to add third item in it\n",
    "see the following examples\n",
    "\n",
    "\n",
    "\"\"\""
   ]
  },
  {
   "cell_type": "code",
   "execution_count": null,
   "metadata": {},
   "outputs": [],
   "source": [
    "fruits =[\"apple\",\"banana\"]#Add mango to thhe list\n",
    "fruits.append(\"mango\")\n",
    "print(fruits)"
   ]
  },
  {
   "cell_type": "code",
   "execution_count": null,
   "metadata": {},
   "outputs": [],
   "source": [
    "fru = ['one','two']# need to add three and four\n",
    "fru.append(\"three\",\"four\") # only one item can be added at one time\n",
    "print(fru)"
   ]
  },
  {
   "cell_type": "markdown",
   "metadata": {},
   "source": [
    "## How to  use append() method in the real life problems"
   ]
  },
  {
   "cell_type": "code",
   "execution_count": null,
   "metadata": {},
   "outputs": [],
   "source": [
    "\"\"\"\n",
    "Take an empty list and append one by one like the following way\n",
    "\n",
    "\"\"\""
   ]
  },
  {
   "cell_type": "code",
   "execution_count": null,
   "metadata": {},
   "outputs": [],
   "source": [
    "lis=[]# empty list\n",
    "lis.append(\"grapes\")\n",
    "lis.append(\"mangoes\")\n",
    "lis.append('bananas')\n",
    "print(lis)"
   ]
  },
  {
   "cell_type": "markdown",
   "metadata": {},
   "source": [
    "## More methods to add data to the list"
   ]
  },
  {
   "cell_type": "markdown",
   "metadata": {},
   "source": [
    "## insert() method  -> syntax  :    .insert(i,'item'), i is position"
   ]
  },
  {
   "cell_type": "code",
   "execution_count": null,
   "metadata": {},
   "outputs": [],
   "source": [
    "# By using the insert method we can add or store the data in the position of our choice\n",
    "# see the following example\n",
    "# note the append method add the data or store the data at the end position of the listinsert \n",
    "\n"
   ]
  },
  {
   "cell_type": "code",
   "execution_count": null,
   "metadata": {},
   "outputs": [],
   "source": [
    "fruit = ['mango', 'banana','apple']# now I would like to add grapes at position 2 that is after mango\n",
    "fruit.insert(1,\"grapes\")\n",
    "print(fruit)"
   ]
  },
  {
   "cell_type": "code",
   "execution_count": null,
   "metadata": {},
   "outputs": [],
   "source": [
    "fruit = ['mango', 'banana','apple']# now I would like to add 100 at position 2 that is after mango\n",
    "fruit.insert(2,100)\n",
    "print(fruit)"
   ]
  },
  {
   "cell_type": "markdown",
   "metadata": {},
   "source": [
    "## How to concatenate or add two list together"
   ]
  },
  {
   "cell_type": "code",
   "execution_count": null,
   "metadata": {},
   "outputs": [],
   "source": [
    "fruits1 = ['mango','watermelon', 'banana']\n",
    "fruits2=['apple','avocado','grapes']\n",
    "fruit=fruits1+fruits2\n",
    "print(fruit)\n"
   ]
  },
  {
   "cell_type": "markdown",
   "metadata": {},
   "source": [
    "## extend() Method"
   ]
  },
  {
   "cell_type": "code",
   "execution_count": null,
   "metadata": {},
   "outputs": [],
   "source": [
    "# Python list extend() is an inbuilt function that adds the specified list \n",
    "# elements (or any iterable) to the end of the current list. "
   ]
  },
  {
   "cell_type": "code",
   "execution_count": null,
   "metadata": {},
   "outputs": [],
   "source": [
    "fruits1 = ['mango','watermelon', 'banana']\n",
    "fruits2=['apple','avocado','grapes']\n",
    "fruits1.extend(fruits2)\n",
    "print(fruits1)"
   ]
  },
  {
   "cell_type": "markdown",
   "metadata": {},
   "source": [
    "## Difference between the append()   and extend() method\n"
   ]
  },
  {
   "cell_type": "code",
   "execution_count": null,
   "metadata": {},
   "outputs": [],
   "source": [
    "fruits1 = ['mango','watermelon', 'banana']  # thsii is the xend method\n",
    "fruits2=['apple','avocado','grapes']\n",
    "fruits1.extend(fruits2)\n",
    "print(fruits1)"
   ]
  },
  {
   "cell_type": "code",
   "execution_count": null,
   "metadata": {},
   "outputs": [],
   "source": [
    "fruits1 = ['mango','watermelon', 'banana']# This is the append method\n",
    "fruits2=['apple','avocado','grapes']\n",
    "fruits1.append(fruits2)  # this prodeces a list inside a list\n",
    "print(fruits1)"
   ]
  },
  {
   "cell_type": "markdown",
   "metadata": {},
   "source": [
    "# Two methods pop() and remove() methods and one del operetor to delete data from the list"
   ]
  },
  {
   "cell_type": "markdown",
   "metadata": {},
   "source": [
    "## Delete items from the list"
   ]
  },
  {
   "cell_type": "markdown",
   "metadata": {},
   "source": [
    "## 1. pop() method"
   ]
  },
  {
   "cell_type": "code",
   "execution_count": null,
   "metadata": {},
   "outputs": [],
   "source": [
    "# if no argument is given to the ppo(), by default , the last element will be deleted\n",
    "# if and index is given as an argument, the item at that index will be deleted\n",
    "# see the folowing example"
   ]
  },
  {
   "cell_type": "code",
   "execution_count": null,
   "metadata": {},
   "outputs": [],
   "source": [
    "fruit = ['mango','watermelon', 'banana','cucmber','kiwi']# NO index argument is given to the pop() method\n",
    "fruit.pop()\n",
    "print(fruit)"
   ]
  },
  {
   "cell_type": "code",
   "execution_count": null,
   "metadata": {},
   "outputs": [],
   "source": [
    "fruit = ['mango','watermelon', 'banaba','cucmber','kiwi']# Index  1 is given asargument to pop() method\n",
    "fruit.pop(1) # The item at the index 1 location is deleted\n",
    "print(fruit)"
   ]
  },
  {
   "cell_type": "markdown",
   "metadata": {},
   "source": [
    "## 2. delete operator :   del list[i], i the the position of the item"
   ]
  },
  {
   "cell_type": "code",
   "execution_count": null,
   "metadata": {},
   "outputs": [],
   "source": [
    "fruit = ['mango','watermelon', 'banana','cucmber','kiwi']# del operator\n",
    "del fruit[2] # note there is space between the del operator  and fruit\n",
    "print(fruit)"
   ]
  },
  {
   "cell_type": "markdown",
   "metadata": {},
   "source": [
    "## 3. remove method:   list.remove(\"item\")"
   ]
  },
  {
   "cell_type": "code",
   "execution_count": null,
   "metadata": {},
   "outputs": [],
   "source": [
    "fruit = ['mango','watermelon', 'banana','cucmber','kiwi']# I would like to remove the banana for example\n",
    "fruit.remove('banana')\n",
    "print(fruit)"
   ]
  },
  {
   "cell_type": "code",
   "execution_count": null,
   "metadata": {},
   "outputs": [],
   "source": [
    "# In case there are two banana, then it will delete the first banana\n",
    "fruit = ['mango','guava','banana','cucmber','kiwi','banana']# I would like to remove the banana for example\n",
    "fruit.remove('banana') # The first banana will be deleted\n",
    "print(fruit)"
   ]
  },
  {
   "cell_type": "markdown",
   "metadata": {},
   "source": [
    "## How to check whether certsin itemis in our list or not"
   ]
  },
  {
   "cell_type": "code",
   "execution_count": null,
   "metadata": {},
   "outputs": [],
   "source": [
    "fruit = ['mango','watermelon', 'banana','cucmber','kiwi']\n",
    "if 'mango' in fruit:\n",
    "    print(\"mango is present\")\n",
    "else:\n",
    "    print(\"mango is not present in the list\")"
   ]
  },
  {
   "cell_type": "code",
   "execution_count": null,
   "metadata": {},
   "outputs": [],
   "source": [
    "fruit = ['mango','watermelon', 'banana','cucmber','kiwi']\n",
    "if 'Apple' in fruit:\n",
    "    print(\"Apple is present\")\n",
    "else:\n",
    "    print(\"Apple is not present in the list\")"
   ]
  },
  {
   "cell_type": "markdown",
   "metadata": {},
   "source": [
    "# Some more useful methods in list"
   ]
  },
  {
   "cell_type": "markdown",
   "metadata": {},
   "source": [
    "### count() method"
   ]
  },
  {
   "cell_type": "code",
   "execution_count": null,
   "metadata": {},
   "outputs": [],
   "source": [
    "\"\"\"\n",
    "This method can cound  frequency of any particular item in the given list\n",
    "\"\"\""
   ]
  },
  {
   "cell_type": "code",
   "execution_count": null,
   "metadata": {},
   "outputs": [],
   "source": [
    "fruit = ['banana','mango','watermelon', 'banana','cucmber','kiwi','banana']\n",
    "print(fruit.count('banana'))  #banana is 3 times in the list\n"
   ]
  },
  {
   "cell_type": "code",
   "execution_count": null,
   "metadata": {},
   "outputs": [],
   "source": [
    "fruit = ['banana','mango','watermelon', 'banana','cucmber','kiwi','banana']\n",
    "print(fruit.count('kiwi'))# kiwi is one time "
   ]
  },
  {
   "cell_type": "markdown",
   "metadata": {},
   "source": [
    "## sort() method"
   ]
  },
  {
   "cell_type": "code",
   "execution_count": null,
   "metadata": {},
   "outputs": [],
   "source": [
    "#when you like to sort the item in the alphabetical order\n",
    "fruit = ['banana','mango','watermelon', 'banana','cucmber','kiwi','banana']\n",
    "fruit.sort()\n",
    "print(fruit)\n"
   ]
  },
  {
   "cell_type": "code",
   "execution_count": null,
   "metadata": {},
   "outputs": [],
   "source": [
    "num=[3,5,7,3,2,1,9,10,19,13,12.0,5.5]\n",
    "num.sort()\n",
    "print(num)"
   ]
  },
  {
   "cell_type": "code",
   "execution_count": null,
   "metadata": {},
   "outputs": [],
   "source": [
    "#note if you like to just print the numbers in the sorted order \n",
    "#but but do not like the list in the sorted order\n",
    "num=[3,5,7,3,2,1,9,10,19,13,12.0,5.5]\n",
    "print(sorted(num)) # list remains unchanged but it printed in the sorted order"
   ]
  },
  {
   "cell_type": "markdown",
   "metadata": {},
   "source": [
    "## clear() method"
   ]
  },
  {
   "cell_type": "code",
   "execution_count": null,
   "metadata": {},
   "outputs": [],
   "source": [
    "#clear method make our list empty\n",
    "num=[3,5,7,3,2,1,9,10,19,13,12.0,5.5]\n",
    "num.clear()\n",
    "print(num)\n"
   ]
  },
  {
   "cell_type": "markdown",
   "metadata": {},
   "source": [
    "## copy() method"
   ]
  },
  {
   "cell_type": "code",
   "execution_count": null,
   "metadata": {},
   "outputs": [],
   "source": [
    "# when a separate copy of the list is needed\n",
    "num=[3,5,7,3,2,1,9,10,19,13,12.0,5.5]\n",
    "copy_num= num.copy()\n",
    "print(copy_num)"
   ]
  },
  {
   "cell_type": "markdown",
   "metadata": {},
   "source": [
    "## is vs ==      ---> comaparison of two list use =="
   ]
  },
  {
   "cell_type": "code",
   "execution_count": null,
   "metadata": {},
   "outputs": [],
   "source": [
    "# the == checks whether both of the list are same or not means the iteams \n",
    "fruit1 = ['banana','mango','watermelon', 'banana','cucmber','kiwi','banana']\n",
    "fruit2 = ['banana','mango','watermelon', 'banana','cucmber','kiwi','banana']\n",
    "print(fruit1==fruit2)"
   ]
  },
  {
   "cell_type": "code",
   "execution_count": null,
   "metadata": {},
   "outputs": [],
   "source": [
    "# is checks whether bith list has same  address or not\n",
    "fruit1 = ['banana','mango','watermelon', 'banana','cucmber','kiwi','banana']\n",
    "fruit2 = ['banana','mango','watermelon', 'banana','cucmber','kiwi','banana']\n",
    "print(fruit1 is fruit2)"
   ]
  },
  {
   "cell_type": "markdown",
   "metadata": {},
   "source": [
    "## split() method   --> convert the string in to the list"
   ]
  },
  {
   "cell_type": "code",
   "execution_count": null,
   "metadata": {},
   "outputs": [],
   "source": [
    "# I have the folloeing string\n",
    "# and am going to change this stwring in to the list"
   ]
  },
  {
   "cell_type": "code",
   "execution_count": null,
   "metadata": {},
   "outputs": [],
   "source": [
    "user_info = \"Bishnu Pandey 24\" # it will break where there is a spsce\n",
    "user_info = user_info.split()\n",
    "print(user_info)"
   ]
  },
  {
   "cell_type": "code",
   "execution_count": null,
   "metadata": {},
   "outputs": [],
   "source": [
    "user_info = \"Bishnu,Pandey,24\" # if there is no space but coma, so give the following argument to the .split()\n",
    "user_info = user_info.split(\",\")# will break where there is coma\n",
    "print(user_info)"
   ]
  },
  {
   "cell_type": "code",
   "execution_count": null,
   "metadata": {},
   "outputs": [],
   "source": [
    "#can store in a separate variable as well\n",
    "name,age = \"Bishnu,24\".split(\",\")# it will break where there is a spsce\n",
    "print(name)\n",
    "print(age)"
   ]
  },
  {
   "cell_type": "markdown",
   "metadata": {},
   "source": [
    "## join method"
   ]
  },
  {
   "cell_type": "code",
   "execution_count": null,
   "metadata": {},
   "outputs": [],
   "source": [
    "user = ['bishnu','35']# two values in the list are joined by a coma\n",
    "print(','.join(user))# Note both are in the string format"
   ]
  },
  {
   "cell_type": "markdown",
   "metadata": {},
   "source": [
    "## list vs string"
   ]
  },
  {
   "cell_type": "code",
   "execution_count": null,
   "metadata": {},
   "outputs": [],
   "source": [
    "# string --->immutable\n",
    "# list ------->mutable\n",
    "# immutable---->string can not be change   .. we can make a new string but can not modify the same string\n",
    "\n",
    "#mutable ----> list can change or modify   eg. pop() method\n"
   ]
  },
  {
   "cell_type": "markdown",
   "metadata": {},
   "source": [
    "## looping in list"
   ]
  },
  {
   "cell_type": "markdown",
   "metadata": {},
   "source": [
    "## for loop"
   ]
  },
  {
   "cell_type": "code",
   "execution_count": null,
   "metadata": {},
   "outputs": [],
   "source": [
    "fruits = ['banana','mango','watermelon', 'banana','cucmber','kiwi','banana']\n",
    "for fruit in fruits:\n",
    "    print(fruit)"
   ]
  },
  {
   "cell_type": "markdown",
   "metadata": {},
   "source": [
    "## while loop"
   ]
  },
  {
   "cell_type": "code",
   "execution_count": 2,
   "metadata": {},
   "outputs": [
    {
     "name": "stdout",
     "output_type": "stream",
     "text": [
      "banana\n",
      "mango\n",
      "watermelon\n",
      "banana\n",
      "cucmber\n",
      "kiwi\n",
      "banana\n"
     ]
    }
   ],
   "source": [
    "fruits = ['banana','mango','watermelon', 'banana','cucmber','kiwi','banana']\n",
    "i=0\n",
    "while i <len(fruits):\n",
    "    print(fruits[i])\n",
    "    i=i+1"
   ]
  },
  {
   "cell_type": "markdown",
   "metadata": {},
   "source": [
    "## list inside list"
   ]
  },
  {
   "cell_type": "code",
   "execution_count": 4,
   "metadata": {},
   "outputs": [
    {
     "name": "stdout",
     "output_type": "stream",
     "text": [
      "[1, 2, 3]\n",
      "[7, 8, 9]\n"
     ]
    }
   ],
   "source": [
    "matrix = [[1,2,3],[4,5,6],[7,8,9]]\n",
    "print(matrix[0])\n",
    "print(matrix[2])"
   ]
  },
  {
   "cell_type": "code",
   "execution_count": null,
   "metadata": {},
   "outputs": [],
   "source": [
    "#lets print all of the lists"
   ]
  },
  {
   "cell_type": "code",
   "execution_count": 5,
   "metadata": {},
   "outputs": [
    {
     "name": "stdout",
     "output_type": "stream",
     "text": [
      "[1, 2, 3]\n",
      "[4, 5, 6]\n",
      "[7, 8, 9]\n"
     ]
    }
   ],
   "source": [
    "matrix = [[1,2,3],[4,5,6],[7,8,9]]\n",
    "for i in matrix:\n",
    "    print(i)"
   ]
  },
  {
   "cell_type": "code",
   "execution_count": 6,
   "metadata": {},
   "outputs": [
    {
     "name": "stdout",
     "output_type": "stream",
     "text": [
      "1\n",
      "2\n",
      "3\n",
      "4\n",
      "5\n",
      "6\n",
      "7\n",
      "8\n",
      "9\n"
     ]
    }
   ],
   "source": [
    "#lets print all of the elements separately\n",
    "matrix = [[1,2,3],[4,5,6],[7,8,9]]\n",
    "for i in matrix:\n",
    "    for j in i:\n",
    "        print(j)"
   ]
  },
  {
   "cell_type": "code",
   "execution_count": null,
   "metadata": {},
   "outputs": [],
   "source": [
    "# lets access the element 7 only\n",
    "#1. find the position of the list that contain 7   -> 7 is in the 3rd list. its position is 2\n",
    "# 2. find the position of 7 in the list.  position of 7 in this 3rd lis is 0"
   ]
  },
  {
   "cell_type": "code",
   "execution_count": 8,
   "metadata": {},
   "outputs": [
    {
     "name": "stdout",
     "output_type": "stream",
     "text": [
      "7\n"
     ]
    }
   ],
   "source": [
    "matrix = [[1,2,3],[4,5,6],[7,8,9]]\n",
    "print(matrix[2][0])"
   ]
  },
  {
   "cell_type": "code",
   "execution_count": 9,
   "metadata": {},
   "outputs": [
    {
     "name": "stdout",
     "output_type": "stream",
     "text": [
      "<class 'list'>\n"
     ]
    }
   ],
   "source": [
    "matrix = [[1,2,3],[4,5,6],[7,8,9]]\n",
    "print(type(matrix))"
   ]
  },
  {
   "cell_type": "markdown",
   "metadata": {},
   "source": [
    "## generate list using a range function"
   ]
  },
  {
   "cell_type": "code",
   "execution_count": 10,
   "metadata": {},
   "outputs": [
    {
     "name": "stdout",
     "output_type": "stream",
     "text": [
      "[1, 2, 3, 4, 5, 6, 7, 8, 9]\n"
     ]
    }
   ],
   "source": [
    "num= list(range(1,10)) # generates a list  from 1 to 10\n",
    "print(num)"
   ]
  },
  {
   "cell_type": "code",
   "execution_count": 11,
   "metadata": {},
   "outputs": [
    {
     "name": "stdout",
     "output_type": "stream",
     "text": [
      "[1, 6, 11, 16, 21]\n"
     ]
    }
   ],
   "source": [
    "num= list(range(1,25,5)) # generates a list  from 1 to 10\n",
    "print(num)"
   ]
  },
  {
   "cell_type": "markdown",
   "metadata": {},
   "source": [
    "## index() method"
   ]
  },
  {
   "cell_type": "code",
   "execution_count": null,
   "metadata": {},
   "outputs": [],
   "source": [
    "# This method find the position of the "
   ]
  },
  {
   "cell_type": "code",
   "execution_count": 14,
   "metadata": {},
   "outputs": [
    {
     "name": "stdout",
     "output_type": "stream",
     "text": [
      "2\n"
     ]
    }
   ],
   "source": [
    "#matrix = [[1,2,3],[4,5,6],[7,8,9]]\n",
    "matrix = [11,2,1,3,4,5]\n",
    "m1=matrix.index(1)\n",
    "print(m1)"
   ]
  },
  {
   "cell_type": "code",
   "execution_count": 16,
   "metadata": {},
   "outputs": [
    {
     "name": "stdout",
     "output_type": "stream",
     "text": [
      "0\n"
     ]
    }
   ],
   "source": [
    "matrix = [1,2,4,5,1,3,4,5] # it will start to find from 0 \n",
    "print(matrix.index(1))"
   ]
  },
  {
   "cell_type": "code",
   "execution_count": null,
   "metadata": {},
   "outputs": [],
   "source": [
    "# if need to find the other 1 that is other tan 0th position, need to specify the from where to start"
   ]
  },
  {
   "cell_type": "code",
   "execution_count": 17,
   "metadata": {},
   "outputs": [
    {
     "name": "stdout",
     "output_type": "stream",
     "text": [
      "4\n"
     ]
    }
   ],
   "source": [
    "matrix = [1,2,4,5,1,3,4,5] # it will start to find from 3r position\n",
    "print(matrix.index(1, 3))# "
   ]
  },
  {
   "cell_type": "markdown",
   "metadata": {},
   "source": [
    "## pass list to a function"
   ]
  },
  {
   "cell_type": "code",
   "execution_count": 18,
   "metadata": {},
   "outputs": [
    {
     "name": "stdout",
     "output_type": "stream",
     "text": [
      "[-1, -2, -4, -5, -1, -3, -4, -5]\n"
     ]
    }
   ],
   "source": [
    "num = [1,2,4,5,1,3,4,5]\n",
    "def negative_num(lis):\n",
    "    negative = []\n",
    "    for i in lis:\n",
    "        negative.append(-i)\n",
    "    return negative\n",
    "print(negative_num(num))"
   ]
  },
  {
   "cell_type": "code",
   "execution_count": null,
   "metadata": {},
   "outputs": [],
   "source": [
    "#define a function and this fun will pass to a list and the list will return the square of the number"
   ]
  },
  {
   "cell_type": "code",
   "execution_count": 19,
   "metadata": {},
   "outputs": [
    {
     "name": "stdout",
     "output_type": "stream",
     "text": [
      "[1, 4, 16, 25, 1, 9, 16, 25]\n"
     ]
    }
   ],
   "source": [
    "num = [1,2,4,5,1,3,4,5]\n",
    "def square_num(lis):\n",
    "    square = []\n",
    "    for i in lis:\n",
    "        square.append(i**2)\n",
    "    return square\n",
    "print(square_num(num))"
   ]
  },
  {
   "cell_type": "code",
   "execution_count": null,
   "metadata": {},
   "outputs": [],
   "source": [
    "#Define a function that will take a list as an argumant and then reverse the list by \n",
    "#using the pop and append method"
   ]
  },
  {
   "cell_type": "code",
   "execution_count": 28,
   "metadata": {},
   "outputs": [
    {
     "name": "stdout",
     "output_type": "stream",
     "text": [
      "[5, 4, 3, 2, 1]\n"
     ]
    }
   ],
   "source": [
    "def rever(l):\n",
    "    l.reverse()\n",
    "    return l\n",
    "lis = [1,2,3,4,5]\n",
    "print(rever(lis))"
   ]
  },
  {
   "cell_type": "code",
   "execution_count": 33,
   "metadata": {},
   "outputs": [
    {
     "name": "stdout",
     "output_type": "stream",
     "text": [
      "[5, 4, 3, 2, 1]\n"
     ]
    }
   ],
   "source": [
    "ls = [1,2,3,4,5]\n",
    "def reverse_l(ll):\n",
    "    reversed = []\n",
    "    for item in range(0,len(ll)):\n",
    "        ll1 =ll.pop()\n",
    "        reversed.append(ll1)\n",
    "    return reversed\n",
    "print(reverse_l(ls))\n"
   ]
  },
  {
   "cell_type": "code",
   "execution_count": null,
   "metadata": {},
   "outputs": [],
   "source": [
    "#Define a function that take a list as an argument and then reverse the string in the list\n",
    "[ 'abc', 'def', 'pqr'] --> ['cba','fed','rqp']"
   ]
  },
  {
   "cell_type": "code",
   "execution_count": 34,
   "metadata": {},
   "outputs": [
    {
     "name": "stdout",
     "output_type": "stream",
     "text": [
      "['unhsiB', 'yednaP', 'ahradddis']\n"
     ]
    }
   ],
   "source": [
    "list_1 = ['Bishnu', 'Pandey', 'sidddarha']\n",
    "def reverse_1(l1):\n",
    "    empty = []\n",
    "    for i in l1:\n",
    "        empty.append(i[::-1])\n",
    "    return empty\n",
    "print(reverse_1(list_1))\n",
    "        "
   ]
  },
  {
   "cell_type": "code",
   "execution_count": null,
   "metadata": {},
   "outputs": [],
   "source": [
    "#Define a function which will take a list as an argument\n",
    "# create two list inside the main list one of them contain odd number and anoter contain even number\n",
    "#[1,2,3,4,5,6,7,8]---> [[1,3,5,7],[2,4,6,8]]"
   ]
  },
  {
   "cell_type": "code",
   "execution_count": 40,
   "metadata": {},
   "outputs": [
    {
     "name": "stdout",
     "output_type": "stream",
     "text": [
      "[[1, 3, 5, 7], [2, 4, 6, 8]]\n"
     ]
    }
   ],
   "source": [
    "num = [1,2,3,4,5,6,7,8]\n",
    "def function_1(l):\n",
    "    even=[]\n",
    "    odd=[]\n",
    "    for i in l:\n",
    "        if i%2==0:\n",
    "            even.append(i)\n",
    "        else:\n",
    "            odd.append(i)\n",
    "    l3=[odd,even] \n",
    "    return l3\n",
    "print(function_1(num))"
   ]
  },
  {
   "cell_type": "code",
   "execution_count": null,
   "metadata": {},
   "outputs": [],
   "source": [
    "#Define a function that will take two list as an argument, both of the list contain numbers\n",
    "# finally the the list will return onlt those numbers which are cmmon in both\n",
    "\n",
    "# [1,2,3,4],  [2,3,5,6,7]\n",
    "# return -->   [2,3]"
   ]
  },
  {
   "cell_type": "code",
   "execution_count": 42,
   "metadata": {},
   "outputs": [
    {
     "name": "stdout",
     "output_type": "stream",
     "text": [
      "[1, 5, 7]\n"
     ]
    }
   ],
   "source": [
    "l1 = [1,2,3,4,5,7]\n",
    "l2 = [1,5,7,9]\n",
    "def common_1(a,b):\n",
    "    empty_1 = []\n",
    "    for i in a:\n",
    "        for j in b:\n",
    "            if i ==j:\n",
    "                empty_1.append(i)\n",
    "    return empty_1\n",
    "print(common_1(l1,l2))\n",
    "                "
   ]
  },
  {
   "cell_type": "markdown",
   "metadata": {},
   "source": [
    "## min()  and max() functions"
   ]
  },
  {
   "cell_type": "code",
   "execution_count": null,
   "metadata": {},
   "outputs": [],
   "source": [
    "# these functions can find the minimum and maximun numbers in the given list\n"
   ]
  },
  {
   "cell_type": "code",
   "execution_count": 44,
   "metadata": {},
   "outputs": [
    {
     "name": "stdout",
     "output_type": "stream",
     "text": [
      "1\n",
      "90.0\n"
     ]
    }
   ],
   "source": [
    "l1 = [2,4,6,19,1,90.0]\n",
    "print(min(l1)) #will print the minimum value \n",
    "print(max(l1))#will print the maximum value "
   ]
  },
  {
   "cell_type": "markdown",
   "metadata": {},
   "source": [
    "# Tuples"
   ]
  },
  {
   "cell_type": "code",
   "execution_count": null,
   "metadata": {},
   "outputs": [],
   "source": [
    "'''\n",
    "Tuple is a data structure can store any types of data in it\n",
    "tuples are immutable that means once it is created it won't change.\n",
    "Tuples are faster\n",
    "We use tuple when we do not have to change the values say name of the days or names of the month\n",
    "\n",
    "Method used in topple\n",
    "count\n",
    "index\n",
    "length   how is length\n",
    "slicing\n",
    "\n",
    "\n",
    "\n",
    "'''"
   ]
  },
  {
   "cell_type": "markdown",
   "metadata": {},
   "source": [
    "## looping in tuple"
   ]
  },
  {
   "cell_type": "code",
   "execution_count": 2,
   "metadata": {},
   "outputs": [
    {
     "name": "stdout",
     "output_type": "stream",
     "text": [
      "1\n",
      "2\n",
      "3.5\n",
      "6.8\n",
      "9.0\n"
     ]
    }
   ],
   "source": [
    "mixed = (1,2,3.5,6.8,9.0)\n",
    "for i in mixed:\n",
    "    print(i)"
   ]
  },
  {
   "cell_type": "code",
   "execution_count": 3,
   "metadata": {},
   "outputs": [
    {
     "name": "stdout",
     "output_type": "stream",
     "text": [
      "1\n",
      "2\n",
      "3.5\n",
      "6.8\n",
      "9.0\n"
     ]
    }
   ],
   "source": [
    "mixed = (1,2,3.5,6.8,9.0)\n",
    "i=0\n",
    "while i < len(mixed):\n",
    "    print(mixed[i])\n",
    "    i=i+1"
   ]
  },
  {
   "cell_type": "markdown",
   "metadata": {},
   "source": [
    "# tuple with one element"
   ]
  },
  {
   "cell_type": "code",
   "execution_count": 4,
   "metadata": {},
   "outputs": [
    {
     "name": "stdout",
     "output_type": "stream",
     "text": [
      "<class 'int'>\n"
     ]
    }
   ],
   "source": [
    "one = (1) # This is not a tuple\n",
    "print(type(one))"
   ]
  },
  {
   "cell_type": "code",
   "execution_count": 6,
   "metadata": {},
   "outputs": [
    {
     "name": "stdout",
     "output_type": "stream",
     "text": [
      "<class 'tuple'>\n"
     ]
    }
   ],
   "source": [
    "one = (1,) # This is a tuple  # must put comm after the first element\n",
    "print(type(one))"
   ]
  },
  {
   "cell_type": "markdown",
   "metadata": {},
   "source": [
    "# tuple without parenthesis"
   ]
  },
  {
   "cell_type": "code",
   "execution_count": 7,
   "metadata": {},
   "outputs": [
    {
     "name": "stdout",
     "output_type": "stream",
     "text": [
      "<class 'tuple'>\n"
     ]
    }
   ],
   "source": [
    "names= 'Bishnu','sid',\"sarwin\" # after putting comma it will become a tuple\n",
    "print(type(names))"
   ]
  },
  {
   "cell_type": "markdown",
   "metadata": {},
   "source": [
    "## tuple unpacking"
   ]
  },
  {
   "cell_type": "code",
   "execution_count": 9,
   "metadata": {},
   "outputs": [
    {
     "name": "stdout",
     "output_type": "stream",
     "text": [
      "Bishnu Pandey\n",
      "<class 'str'>\n"
     ]
    }
   ],
   "source": [
    "names= 'Bishnu Pandey','sid Pandey',\"sarwin Pandey\"\n",
    "name1,name2,name3=names #make sure \n",
    "print(name1)\n",
    "print(type(name1))"
   ]
  },
  {
   "cell_type": "code",
   "execution_count": 10,
   "metadata": {},
   "outputs": [
    {
     "ename": "ValueError",
     "evalue": "too many values to unpack (expected 2)",
     "output_type": "error",
     "traceback": [
      "\u001b[0;31m---------------------------------------------------------------------------\u001b[0m",
      "\u001b[0;31mValueError\u001b[0m                                Traceback (most recent call last)",
      "\u001b[0;32m<ipython-input-10-a38f65894299>\u001b[0m in \u001b[0;36m<module>\u001b[0;34m\u001b[0m\n\u001b[1;32m      1\u001b[0m \u001b[0mnames\u001b[0m\u001b[0;34m=\u001b[0m \u001b[0;34m'Bishnu Pandey'\u001b[0m\u001b[0;34m,\u001b[0m\u001b[0;34m'sid Pandey'\u001b[0m\u001b[0;34m,\u001b[0m\u001b[0;34m\"sarwin Pandey\"\u001b[0m\u001b[0;34m\u001b[0m\u001b[0;34m\u001b[0m\u001b[0m\n\u001b[0;32m----> 2\u001b[0;31m \u001b[0mname1\u001b[0m\u001b[0;34m,\u001b[0m\u001b[0mname2\u001b[0m \u001b[0;34m=\u001b[0m \u001b[0mnames\u001b[0m \u001b[0;31m#make sure\u001b[0m\u001b[0;34m\u001b[0m\u001b[0;34m\u001b[0m\u001b[0m\n\u001b[0m\u001b[1;32m      3\u001b[0m \u001b[0mprint\u001b[0m\u001b[0;34m(\u001b[0m\u001b[0mname1\u001b[0m\u001b[0;34m)\u001b[0m\u001b[0;34m\u001b[0m\u001b[0;34m\u001b[0m\u001b[0m\n\u001b[1;32m      4\u001b[0m \u001b[0mprint\u001b[0m\u001b[0;34m(\u001b[0m\u001b[0mtype\u001b[0m\u001b[0;34m(\u001b[0m\u001b[0mname1\u001b[0m\u001b[0;34m)\u001b[0m\u001b[0;34m)\u001b[0m\u001b[0;34m\u001b[0m\u001b[0;34m\u001b[0m\u001b[0m\n",
      "\u001b[0;31mValueError\u001b[0m: too many values to unpack (expected 2)"
     ]
    }
   ],
   "source": [
    "names= 'Bishnu Pandey','sid Pandey',\"sarwin Pandey\"\n",
    "name1,name2 = names #make sure the variable on lHRS must be equal to the no of items in the tuple\n",
    "print(name1)\n",
    "print(type(name1))"
   ]
  },
  {
   "cell_type": "markdown",
   "metadata": {},
   "source": [
    "## list inside tuple"
   ]
  },
  {
   "cell_type": "code",
   "execution_count": null,
   "metadata": {},
   "outputs": [],
   "source": [
    "# can put a list inside a tuple and can do pop(), remove  or del with the list which is inside the tuple"
   ]
  },
  {
   "cell_type": "code",
   "execution_count": 15,
   "metadata": {},
   "outputs": [
    {
     "name": "stdout",
     "output_type": "stream",
     "text": [
      "('DC', 'paris', 'tokyo', 'beijing', ['kathmandu', 'new delhi', 'thimpu'])\n",
      "['kathmandu', 'new delhi', 'thimpu']\n",
      "thimpu\n",
      "('DC', 'paris', 'tokyo', 'beijing', ['kathmandu', 'new delhi'])\n",
      "('DC', 'paris', 'tokyo', 'beijing', ['kathmandu', 'new delhi', 'kyoto is not capital'])\n"
     ]
    }
   ],
   "source": [
    "capitals = (\"DC\",'paris', 'tokyo','beijing',['kathmandu','new delhi','thimpu'])\n",
    "print(capitals)\n",
    "print(capitals[4])\n",
    "print(capitals[4].pop())\n",
    "print(capitals)#thimpu will be deleted\n",
    "capitals[4].append(\"kyoto is not capital\")# append method is used\n",
    "print(capitals)\n",
    "                   "
   ]
  },
  {
   "cell_type": "markdown",
   "metadata": {},
   "source": [
    "# function that can be used in the tuple"
   ]
  },
  {
   "cell_type": "markdown",
   "metadata": {},
   "source": [
    "### min(), max(), sum"
   ]
  },
  {
   "cell_type": "code",
   "execution_count": 18,
   "metadata": {},
   "outputs": [
    {
     "name": "stdout",
     "output_type": "stream",
     "text": [
      "1.5\n",
      "The maximum number is 80.5\n",
      "The sum is the 96.0\n"
     ]
    }
   ],
   "source": [
    "num = (1.5,2,3,4,5,80.5)\n",
    "print(min(num))\n",
    "print(f\"The maximum number is {max(num)}\")\n",
    "print(f\"The sum is the {sum(num)}\")"
   ]
  },
  {
   "cell_type": "markdown",
   "metadata": {},
   "source": [
    "## function returning two values"
   ]
  },
  {
   "cell_type": "code",
   "execution_count": 19,
   "metadata": {},
   "outputs": [
    {
     "name": "stdout",
     "output_type": "stream",
     "text": [
      "(9, 20)\n"
     ]
    }
   ],
   "source": [
    "def func(a,b):\n",
    "    add = a+b\n",
    "    multiply= a*b\n",
    "    return add,multiply # this will return a tuple\n",
    "print(func(5,4))"
   ]
  },
  {
   "cell_type": "code",
   "execution_count": 21,
   "metadata": {},
   "outputs": [
    {
     "name": "stdout",
     "output_type": "stream",
     "text": [
      "9\n",
      "20\n"
     ]
    }
   ],
   "source": [
    "# just in case if you need the separate values\n",
    "def func(a,b):\n",
    "    add = a+b\n",
    "    multiply= a*b\n",
    "    return add,multiply\n",
    "add,multiply=(func(5,4))\n",
    "print(add)\n",
    "print(multiply)"
   ]
  },
  {
   "cell_type": "markdown",
   "metadata": {},
   "source": [
    "## More about tuple"
   ]
  },
  {
   "cell_type": "code",
   "execution_count": 23,
   "metadata": {},
   "outputs": [
    {
     "name": "stdout",
     "output_type": "stream",
     "text": [
      "(1, 2, 3, 4, 5, 6, 7, 8, 9, 10)\n",
      "<class 'tuple'>\n"
     ]
    }
   ],
   "source": [
    "nums = tuple(range(1,11))\n",
    "print(nums)\n",
    "print(type(nums))"
   ]
  },
  {
   "cell_type": "code",
   "execution_count": 25,
   "metadata": {},
   "outputs": [
    {
     "name": "stdout",
     "output_type": "stream",
     "text": [
      "(1, 11, 21, 31, 41, 51, 61, 71, 81, 91, 101, 111)\n",
      "<class 'tuple'>\n"
     ]
    }
   ],
   "source": [
    "nums1 = tuple(range(1,112,10))\n",
    "print(nums1)\n",
    "print(type(nums1))"
   ]
  },
  {
   "cell_type": "markdown",
   "metadata": {},
   "source": [
    "# Change a tuple in to the list"
   ]
  },
  {
   "cell_type": "code",
   "execution_count": 26,
   "metadata": {},
   "outputs": [
    {
     "name": "stdout",
     "output_type": "stream",
     "text": [
      "[1, 11, 21, 31, 41, 51, 61, 71, 81, 91, 101, 111]\n"
     ]
    }
   ],
   "source": [
    "tup1 = tuple(range(1,112,10))\n",
    "lst1 = list(tup1)\n",
    "print(lst1)"
   ]
  },
  {
   "cell_type": "code",
   "execution_count": 27,
   "metadata": {},
   "outputs": [
    {
     "name": "stdout",
     "output_type": "stream",
     "text": [
      "[1, 2, 3, 4, 5]\n"
     ]
    }
   ],
   "source": [
    "nums = list((1,2,3,4,5))\n",
    "print(nums)\n"
   ]
  },
  {
   "cell_type": "markdown",
   "metadata": {},
   "source": [
    "## change tuple in to string"
   ]
  },
  {
   "cell_type": "code",
   "execution_count": 28,
   "metadata": {},
   "outputs": [
    {
     "name": "stdout",
     "output_type": "stream",
     "text": [
      "(1, 2, 3, 4, 5)\n",
      "<class 'str'>\n"
     ]
    }
   ],
   "source": [
    "numb=str((1,2,3,4,5)) #looks like a tuple but is a string\n",
    "print(numb)\n",
    "print(type(numb))"
   ]
  },
  {
   "cell_type": "markdown",
   "metadata": {},
   "source": [
    "# Dictinanry"
   ]
  },
  {
   "cell_type": "markdown",
   "metadata": {},
   "source": [
    "### Dictionnaries are the unordered collection of data in key: value pair"
   ]
  },
  {
   "cell_type": "code",
   "execution_count": 2,
   "metadata": {},
   "outputs": [
    {
     "name": "stdout",
     "output_type": "stream",
     "text": [
      "{'name': 'Bishnu', 'age': 34}\n",
      "<class 'dict'>\n"
     ]
    }
   ],
   "source": [
    "# A simple example of a  dictionary\n",
    "user = {\"name\":\"Bishnu\",'age':34} #name ie key and Bishnu is value simillarly age is key and 34 is a value\n",
    "print(user)\n",
    "print(type(user))"
   ]
  },
  {
   "cell_type": "markdown",
   "metadata": {},
   "source": [
    "## Another way to create a dictionary   dict() method"
   ]
  },
  {
   "cell_type": "markdown",
   "metadata": {},
   "source": [
    "### key should not be in the form of a string and : will be replaced byn  =  sign"
   ]
  },
  {
   "cell_type": "code",
   "execution_count": 8,
   "metadata": {},
   "outputs": [
    {
     "name": "stdout",
     "output_type": "stream",
     "text": [
      "{'name': 'Siddartha', 'age': 6}\n"
     ]
    }
   ],
   "source": [
    "name_1 = dict(name = 'Siddartha',age=6) #\n",
    "print(name_1)"
   ]
  },
  {
   "cell_type": "markdown",
   "metadata": {},
   "source": [
    "## How to access data in the dictionary or how to access the items in the dictionary"
   ]
  },
  {
   "cell_type": "code",
   "execution_count": 11,
   "metadata": {},
   "outputs": [
    {
     "name": "stdout",
     "output_type": "stream",
     "text": [
      "Bishnu\n",
      "34\n"
     ]
    }
   ],
   "source": [
    "user = {\"name\":\"Bishnu\",'age':34} \n",
    "print(user['name'])\n",
    "print(user['age'])"
   ]
  },
  {
   "cell_type": "markdown",
   "metadata": {},
   "source": [
    "## Dictionary can hold a integer, string or list"
   ]
  },
  {
   "cell_type": "code",
   "execution_count": 21,
   "metadata": {},
   "outputs": [
    {
     "name": "stdout",
     "output_type": "stream",
     "text": [
      "{'name': 'Bishnu', 'age': 34, 'favourite_subject': ' particle physics', 'favourite_movies': [' 3 idiot', 'dabang', 'king no. 1'], 'favourite_songs ': ['mera man', 'aaja tujhko', 'aa jeele ek pal mei']}\n"
     ]
    }
   ],
   "source": [
    "#More common way to write a dictionary\n",
    "user_info = {\n",
    "    'name': 'Bishnu',\n",
    "    'age' : 34,\n",
    "    'favourite_subject': ' particle physics',\n",
    "   'favourite_movies':[' 3 idiot','dabang','king no. 1'],\n",
    "   'favourite_songs ': ['mera man','aaja tujhko', 'aa jeele ek pal mei']   \n",
    "    \n",
    "}\n",
    "print(user_info) # will print the whole dictionary\n"
   ]
  },
  {
   "cell_type": "code",
   "execution_count": 22,
   "metadata": {},
   "outputs": [
    {
     "name": "stdout",
     "output_type": "stream",
     "text": [
      " These are my favouritite movies[' 3 idiot', 'dabang', 'king no. 1']\n"
     ]
    }
   ],
   "source": [
    "user_info = {\n",
    "    'name': 'Bishnu',\n",
    "    'age' : 34,\n",
    "    'favourite_subject': ' particle physics',\n",
    "   'favourite_movies':[' 3 idiot','dabang','king no. 1'],\n",
    "   'favourite_songs ': ['mera man','aaja tujhko', 'aa jeele ek pal mei']   \n",
    "    \n",
    "}\n",
    "print(f\" These are my favouritite movies{user_info['favourite_movies']}\")# will print the favourite movies only"
   ]
  },
  {
   "cell_type": "markdown",
   "metadata": {},
   "source": [
    "## can create a dictionary inside a dictionary"
   ]
  },
  {
   "cell_type": "code",
   "execution_count": 40,
   "metadata": {},
   "outputs": [],
   "source": [
    "# something wrong"
   ]
  },
  {
   "cell_type": "code",
   "execution_count": null,
   "metadata": {},
   "outputs": [],
   "source": []
  },
  {
   "cell_type": "markdown",
   "metadata": {},
   "source": [
    "## How to add  data to an empty dictionary\n"
   ]
  },
  {
   "cell_type": "code",
   "execution_count": 42,
   "metadata": {},
   "outputs": [
    {
     "name": "stdout",
     "output_type": "stream",
     "text": [
      "{'name': 'Bishnu', 'age': 34}\n"
     ]
    }
   ],
   "source": [
    "user2 = {}\n",
    "user2['name']='Bishnu'\n",
    "user2['age']=34\n",
    "print(user2)"
   ]
  },
  {
   "cell_type": "markdown",
   "metadata": {},
   "source": [
    "## in keyword and iterations(loops in dictionary)"
   ]
  },
  {
   "cell_type": "code",
   "execution_count": 47,
   "metadata": {},
   "outputs": [
    {
     "name": "stdout",
     "output_type": "stream",
     "text": [
      "age is present in the dictionary\n"
     ]
    }
   ],
   "source": [
    "# Lets check name key is present in the dictionary or not\n",
    "# syntax   :   is 'name' in dict_name:\n",
    "user_info = {\n",
    "    'name': 'Bishnu',\n",
    "    'age' : 34,\n",
    "    'favourite_subject': ' particle physics',\n",
    "   'favourite_movies':[' 3 idiot','dabang','king no. 1'],\n",
    "   'favourite_songs ': ['mera man','aaja tujhko', 'aa jeele ek pal mei']  \n",
    "       \n",
    "}\n",
    "if 'age' in user_info:\n",
    "    print(\"age is present in the dictionary\")\n",
    "else:\n",
    "    print(\" not present\")"
   ]
  },
  {
   "cell_type": "markdown",
   "metadata": {},
   "source": [
    "## values() method"
   ]
  },
  {
   "cell_type": "markdown",
   "metadata": {},
   "source": [
    "### how to check whether a aprticular value is present in the dictionaary or not"
   ]
  },
  {
   "cell_type": "code",
   "execution_count": 53,
   "metadata": {},
   "outputs": [
    {
     "name": "stdout",
     "output_type": "stream",
     "text": [
      "is present in the dictionary\n"
     ]
    }
   ],
   "source": [
    "user_info = {\n",
    "    'name': 'Bishnu',\n",
    "    'age' : 34,\n",
    "    'favourite_subject': 'particle physics',\n",
    "   'favourite_movies':[' 3 idiot','dabang','king no. 1'],\n",
    "   'favourite_songs ': ['mera man','aaja tujhko', 'aa jeele ek pal mei']  \n",
    "       \n",
    "}\n",
    "if 'particle physics' in user_info.values(): # .values() method is used here \n",
    "    print(\"is present in the dictionary\")\n",
    "else:\n",
    "    print(\" not present\")"
   ]
  },
  {
   "cell_type": "markdown",
   "metadata": {},
   "source": [
    "### how to check whether a list is present in the given dictionary or not"
   ]
  },
  {
   "cell_type": "code",
   "execution_count": 54,
   "metadata": {},
   "outputs": [
    {
     "name": "stdout",
     "output_type": "stream",
     "text": [
      "is present in the dictionary\n"
     ]
    }
   ],
   "source": [
    "user_info = {\n",
    "    'name': 'Bishnu',\n",
    "    'age' : 34,\n",
    "    'favourite_subject': 'particle physics',\n",
    "   'favourite_movies':[' 3 idiot','dabang','king no. 1'],\n",
    "   'favourite_songs ': ['mera man','aaja tujhko', 'aa jeele ek pal mei']  \n",
    "       \n",
    "}\n",
    "if ['mera man','aaja tujhko', 'aa jeele ek pal mei']  in user_info.values(): # .values() method is used here \n",
    "    print(\"is present in the dictionary\")\n",
    "else:\n",
    "    print(\" not present\")"
   ]
  },
  {
   "cell_type": "markdown",
   "metadata": {},
   "source": [
    "## loops in he dictionary"
   ]
  },
  {
   "cell_type": "code",
   "execution_count": 55,
   "metadata": {},
   "outputs": [
    {
     "name": "stdout",
     "output_type": "stream",
     "text": [
      "name\n",
      "age\n",
      "favourite_subject\n",
      "favourite_movies\n",
      "favourite_songs \n"
     ]
    }
   ],
   "source": [
    "user_info = {\n",
    "    'name': 'Bishnu',\n",
    "    'age' : 34,\n",
    "    'favourite_subject': 'particle physics',\n",
    "   'favourite_movies':[' 3 idiot','dabang','king no. 1'],\n",
    "   'favourite_songs ': ['mera man','aaja tujhko', 'aa jeele ek pal mei']  \n",
    "       \n",
    "}\n",
    "for i in user_info: # Note all of the keys will be printed\n",
    "    print(i)"
   ]
  },
  {
   "cell_type": "code",
   "execution_count": 56,
   "metadata": {},
   "outputs": [
    {
     "name": "stdout",
     "output_type": "stream",
     "text": [
      "Bishnu\n",
      "34\n",
      "particle physics\n",
      "[' 3 idiot', 'dabang', 'king no. 1']\n",
      "['mera man', 'aaja tujhko', 'aa jeele ek pal mei']\n"
     ]
    }
   ],
   "source": [
    "#need to print all of the values present the dictionary\n",
    "user_info = {\n",
    "    'name': 'Bishnu',\n",
    "    'age' : 34,\n",
    "    'favourite_subject': 'particle physics',\n",
    "   'favourite_movies':[' 3 idiot','dabang','king no. 1'],\n",
    "   'favourite_songs ': ['mera man','aaja tujhko', 'aa jeele ek pal mei']  \n",
    "       \n",
    "}\n",
    "for i in user_info.values(): # Note all of the values will be printed\n",
    "    print(i)"
   ]
  },
  {
   "cell_type": "code",
   "execution_count": 58,
   "metadata": {},
   "outputs": [
    {
     "name": "stdout",
     "output_type": "stream",
     "text": [
      "dict_values(['Bishnu', 34, 'particle physics', [' 3 idiot', 'dabang', 'king no. 1'], ['mera man', 'aaja tujhko', 'aa jeele ek pal mei']])\n",
      "<class 'dict_values'>\n"
     ]
    }
   ],
   "source": [
    "user_info_values = user_info.values() # all of the values are stored in a variable\n",
    "print(user_info_values)# all of the stored values are printed\n",
    "print(type(user_info_values)) # note this is not list even though looks like a lsit"
   ]
  },
  {
   "cell_type": "markdown",
   "metadata": {},
   "source": [
    "## keys() method"
   ]
  },
  {
   "cell_type": "code",
   "execution_count": 65,
   "metadata": {},
   "outputs": [
    {
     "name": "stdout",
     "output_type": "stream",
     "text": [
      "dict_keys(['name', 'age', 'favourite_subject', 'favourite_movies', 'favourite_songs '])\n",
      "<class 'dict_keys'>\n"
     ]
    }
   ],
   "source": [
    "user_info_keys = user_info.keys() # all of the values are stored in a variable\n",
    "print(user_info_keys)# all of the stored values are printed\n",
    "print(type(user_info_keys))"
   ]
  },
  {
   "cell_type": "markdown",
   "metadata": {},
   "source": [
    "# items() method"
   ]
  },
  {
   "cell_type": "code",
   "execution_count": 60,
   "metadata": {},
   "outputs": [
    {
     "name": "stdout",
     "output_type": "stream",
     "text": [
      "dict_items([('name', 'Bishnu'), ('age', 34), ('favourite_subject', 'particle physics'), ('favourite_movies', [' 3 idiot', 'dabang', 'king no. 1']), ('favourite_songs ', ['mera man', 'aaja tujhko', 'aa jeele ek pal mei'])])\n",
      "<class 'dict_items'>\n"
     ]
    }
   ],
   "source": [
    "user_items=user_info.items()\n",
    "print(user_items)\n",
    "print(type(user_items)) # looks like inside a list there is touple"
   ]
  },
  {
   "cell_type": "code",
   "execution_count": 62,
   "metadata": {},
   "outputs": [
    {
     "name": "stdout",
     "output_type": "stream",
     "text": [
      "key is name and value is Bishnu\n",
      "key is age and value is 34\n",
      "key is favourite_subject and value is particle physics\n",
      "key is favourite_movies and value is [' 3 idiot', 'dabang', 'king no. 1']\n",
      "key is favourite_songs  and value is ['mera man', 'aaja tujhko', 'aa jeele ek pal mei']\n"
     ]
    }
   ],
   "source": [
    "for key,value in user_info.items(): # note key and value can be written as i, j or a, b or so on\n",
    "    print(f\"key is {key} and value is {value}\")"
   ]
  },
  {
   "cell_type": "markdown",
   "metadata": {},
   "source": [
    "## How to add data to a dictionary"
   ]
  },
  {
   "cell_type": "code",
   "execution_count": 73,
   "metadata": {},
   "outputs": [
    {
     "name": "stdout",
     "output_type": "stream",
     "text": [
      "{'name': 'Bishnu', 'age': 34, 'favourite_subject': 'particle physics', 'favourite_movies': [' 3 idiot', 'dabang', 'king no. 1'], 'favourite_songs ': ['mera man', 'aaja tujhko', 'aa jeele ek pal mei'], 'favourite places': ['Virginia', 'New York', 'Tokyo', 'Kyoto']}\n"
     ]
    }
   ],
   "source": [
    "user_info_1 = {\n",
    "    'name': 'Bishnu',\n",
    "    'age' : 34,\n",
    "    'favourite_subject': 'particle physics',\n",
    "   'favourite_movies':[' 3 idiot','dabang','king no. 1'],\n",
    "   'favourite_songs ': ['mera man','aaja tujhko', 'aa jeele ek pal mei']  \n",
    "       \n",
    "}\n",
    "user_info_1['favourite places'] = ['Virginia','New York', 'Tokyo','Kyoto']\n",
    "print(user_info_1)"
   ]
  },
  {
   "cell_type": "markdown",
   "metadata": {},
   "source": [
    "## pop() method delets the key value pair from a dictionariy"
   ]
  },
  {
   "cell_type": "code",
   "execution_count": 71,
   "metadata": {},
   "outputs": [
    {
     "name": "stdout",
     "output_type": "stream",
     "text": [
      "The pooped item is [' 3 idiot', 'dabang', 'king no. 1']\n",
      "The dictionary after pop is {'name': 'Bishnu', 'age': 34, 'favourite_subject': 'particle physics', 'favourite_songs ': ['mera man', 'aaja tujhko', 'aa jeele ek pal mei']}\n"
     ]
    }
   ],
   "source": [
    "user_info_1 = {\n",
    "    'name': 'Bishnu',\n",
    "    'age' : 34,\n",
    "    'favourite_subject': 'particle physics',\n",
    "   'favourite_movies':[' 3 idiot','dabang','king no. 1'],\n",
    "   'favourite_songs ': ['mera man','aaja tujhko', 'aa jeele ek pal mei']  \n",
    "       \n",
    "}\n",
    "pooped_item = user_info_1.pop('favourite_movies')\n",
    "print(f\"The pooped item is {pooped_item}\")\n",
    "print(f\"The dictionary after pop is {user_info_1}\")\n",
    "      "
   ]
  },
  {
   "cell_type": "markdown",
   "metadata": {},
   "source": [
    "## update() method"
   ]
  },
  {
   "cell_type": "code",
   "execution_count": null,
   "metadata": {},
   "outputs": [],
   "source": [
    "# This method is used in the folowing situation\n",
    "'''\n",
    "for example I have a  dictionary and I have another dictionary.\n",
    "user_info  ----> dict1\n",
    "more_info  ----->dict2\n",
    "need to add the dict2 to dict1 or in another words I like to update the dict1\n",
    "\n",
    "\n",
    "\n",
    "'''\n",
    "\n",
    "\n",
    "\n"
   ]
  },
  {
   "cell_type": "code",
   "execution_count": 75,
   "metadata": {},
   "outputs": [
    {
     "name": "stdout",
     "output_type": "stream",
     "text": [
      "{'name': 'Bishnu', 'age': 34, 'favourite_subject': 'particle physics', 'favourite_movies': [' 3 idiot', 'dabang', 'king no. 1'], 'favourite_songs ': ['mera man', 'aaja tujhko', 'aa jeele ek pal mei'], 'travelled city': 'Tokyo', 'conference': 'hyp2019'}\n"
     ]
    }
   ],
   "source": [
    "user_info_1 = {\n",
    "    'name': 'Bishnu',\n",
    "    'age' : 34,\n",
    "    'favourite_subject': 'particle physics',\n",
    "   'favourite_movies':[' 3 idiot','dabang','king no. 1'],\n",
    "   'favourite_songs ': ['mera man','aaja tujhko', 'aa jeele ek pal mei']  \n",
    "       \n",
    "}\n",
    "more_info ={\n",
    "    'travelled city':'Tokyo',\n",
    "    'conference':'hyp2019'\n",
    "}\n",
    "\n",
    "user_info_1.update(more_info)# the user_info_1 will be updated\n",
    "print(user_info_1)\n"
   ]
  },
  {
   "cell_type": "markdown",
   "metadata": {},
   "source": [
    "## fromkeys() method "
   ]
  },
  {
   "cell_type": "code",
   "execution_count": null,
   "metadata": {},
   "outputs": [],
   "source": [
    "'''\n",
    "fromkeys method is used to creaet a dictionary\n",
    "for examaple if I would like to create something like this \n",
    "d = {'name':'unknown','age':'unknown','height':'unknown'}\n",
    "'''"
   ]
  },
  {
   "cell_type": "code",
   "execution_count": 76,
   "metadata": {},
   "outputs": [
    {
     "name": "stdout",
     "output_type": "stream",
     "text": [
      "{'name': 'unknown', 'age': 'unknown', 'height': 'unknown'}\n"
     ]
    }
   ],
   "source": [
    "di = dict.fromkeys(['name','age','height'],'unknown')\n",
    "print(di)"
   ]
  },
  {
   "cell_type": "code",
   "execution_count": 77,
   "metadata": {},
   "outputs": [
    {
     "name": "stdout",
     "output_type": "stream",
     "text": [
      "{'name': ['unknown', 'unknown', 'unknown'], 'age': ['unknown', 'unknown', 'unknown'], 'height': ['unknown', 'unknown', 'unknown']}\n"
     ]
    }
   ],
   "source": [
    "dii = dict.fromkeys(['name','age','height'],['unknown','unknown','unknown'])\n",
    "print(dii)"
   ]
  },
  {
   "cell_type": "markdown",
   "metadata": {},
   "source": [
    "## get() method :  useful method"
   ]
  },
  {
   "cell_type": "code",
   "execution_count": 79,
   "metadata": {},
   "outputs": [
    {
     "name": "stdout",
     "output_type": "stream",
     "text": [
      "Bishnu\n"
     ]
    }
   ],
   "source": [
    "# can access the key by using the get() method\n",
    "d ={'name':'Bishnu','age':35}\n",
    "print(d.get('name'))"
   ]
  },
  {
   "cell_type": "code",
   "execution_count": 80,
   "metadata": {},
   "outputs": [
    {
     "name": "stdout",
     "output_type": "stream",
     "text": [
      "None\n"
     ]
    }
   ],
   "source": [
    "#NOw I am giving the wrong key to the  get method, and it should return the None that means the \n",
    "# key is not presentin the dictionary\n",
    "d ={'name':'Bishnu','age':35}\n",
    "print(d.get('names')) # since names key is not present in the dictinary"
   ]
  },
  {
   "cell_type": "markdown",
   "metadata": {},
   "source": [
    "### Another way to check whetehr a key is present in the dictionary or not"
   ]
  },
  {
   "cell_type": "code",
   "execution_count": 82,
   "metadata": {},
   "outputs": [
    {
     "name": "stdout",
     "output_type": "stream",
     "text": [
      "is present \n"
     ]
    }
   ],
   "source": [
    "if 'name' in d:\n",
    "    print(\"is present \")\n",
    "else:\n",
    "    print(\"not present\")\n"
   ]
  },
  {
   "cell_type": "code",
   "execution_count": 84,
   "metadata": {},
   "outputs": [
    {
     "name": "stdout",
     "output_type": "stream",
     "text": [
      "not present\n"
     ]
    }
   ],
   "source": [
    "if 'names' in d:\n",
    "    print(\"is present \")\n",
    "else:\n",
    "    print(\"not present\")"
   ]
  },
  {
   "cell_type": "markdown",
   "metadata": {},
   "source": [
    "### smae syntax with the get() METHOD"
   ]
  },
  {
   "cell_type": "code",
   "execution_count": 85,
   "metadata": {},
   "outputs": [
    {
     "name": "stdout",
     "output_type": "stream",
     "text": [
      "is present\n"
     ]
    }
   ],
   "source": [
    "if d.get('name'):\n",
    "    print(\"is present\")\n",
    "else:\n",
    "    print(\"is not present\")"
   ]
  },
  {
   "cell_type": "code",
   "execution_count": 86,
   "metadata": {},
   "outputs": [
    {
     "name": "stdout",
     "output_type": "stream",
     "text": [
      "is not present\n"
     ]
    }
   ],
   "source": [
    "if d.get('namess'):\n",
    "    print(\"is present\")\n",
    "else:\n",
    "    print(\"is not present\")"
   ]
  },
  {
   "cell_type": "markdown",
   "metadata": {},
   "source": [
    "## clear() method "
   ]
  },
  {
   "cell_type": "code",
   "execution_count": 87,
   "metadata": {},
   "outputs": [
    {
     "name": "stdout",
     "output_type": "stream",
     "text": [
      "{'name': 'Bishnu', 'age': 35}\n"
     ]
    }
   ],
   "source": [
    "print(d)"
   ]
  },
  {
   "cell_type": "code",
   "execution_count": 90,
   "metadata": {},
   "outputs": [
    {
     "name": "stdout",
     "output_type": "stream",
     "text": [
      "{}\n"
     ]
    }
   ],
   "source": [
    "# now use the clear() methhod\n",
    "d.clear()  # make the dictionary empty\n",
    "print(d)"
   ]
  },
  {
   "cell_type": "markdown",
   "metadata": {},
   "source": [
    "## copy() method\n"
   ]
  },
  {
   "cell_type": "code",
   "execution_count": null,
   "metadata": {},
   "outputs": [],
   "source": [
    "'''\n",
    "If you like to make a copy of a dictionary,\n",
    "you can make it\n",
    "\n",
    "'''"
   ]
  },
  {
   "cell_type": "code",
   "execution_count": 91,
   "metadata": {},
   "outputs": [
    {
     "name": "stdout",
     "output_type": "stream",
     "text": [
      "{'name': 'Bishnu', 'age': 34, 'favourite_subject': 'particle physics', 'favourite_movies': [' 3 idiot', 'dabang', 'king no. 1'], 'favourite_songs ': ['mera man', 'aaja tujhko', 'aa jeele ek pal mei']}\n"
     ]
    }
   ],
   "source": [
    "user_info_1 = {\n",
    "    'name': 'Bishnu',\n",
    "    'age' : 34,\n",
    "    'favourite_subject': 'particle physics',\n",
    "   'favourite_movies':[' 3 idiot','dabang','king no. 1'],\n",
    "   'favourite_songs ': ['mera man','aaja tujhko', 'aa jeele ek pal mei']  \n",
    "       \n",
    "}\n",
    "# I would like to make a copy of the user_info_1 to new_user, the user_info_1 will be stored in the new_user\n",
    "new_user= user_info_1.copy()\n",
    "print(new_user)"
   ]
  },
  {
   "cell_type": "code",
   "execution_count": 93,
   "metadata": {},
   "outputs": [
    {
     "name": "stdout",
     "output_type": "stream",
     "text": [
      "False\n"
     ]
    }
   ],
   "source": [
    "print(user_info_1 is new_user) # they are different dictinaries"
   ]
  },
  {
   "cell_type": "code",
   "execution_count": 94,
   "metadata": {},
   "outputs": [
    {
     "name": "stdout",
     "output_type": "stream",
     "text": [
      "True\n"
     ]
    }
   ],
   "source": [
    "# IF I copy the dictionary in the following way\n",
    "new_dic = user_info_1\n",
    "print(user_info_1 is new_dic) #  MEaning they are same dictionary in the memory"
   ]
  },
  {
   "cell_type": "markdown",
   "metadata": {},
   "source": [
    "## Exercise dictionary"
   ]
  },
  {
   "cell_type": "code",
   "execution_count": null,
   "metadata": {},
   "outputs": [],
   "source": [
    "'''\n",
    "Define a function and that function wil take anumber as an argument and will return \n",
    " the cube of the number in the form of a dictionary\n",
    "for example 1:1, 2:8,3:27\n",
    "\n",
    "'''"
   ]
  },
  {
   "cell_type": "code",
   "execution_count": 98,
   "metadata": {},
   "outputs": [
    {
     "name": "stdout",
     "output_type": "stream",
     "text": [
      "{0: 0, 1: 1, 2: 8, 3: 27, 4: 64}\n"
     ]
    }
   ],
   "source": [
    "def cube_return(a):\n",
    "    d={}\n",
    "    for i in range(0,a):\n",
    "        d[i]=i**3\n",
    "    return d\n",
    "print(cube_return(5))\n",
    "        \n",
    "    "
   ]
  },
  {
   "cell_type": "code",
   "execution_count": 96,
   "metadata": {},
   "outputs": [
    {
     "name": "stdout",
     "output_type": "stream",
     "text": [
      "0\n",
      "1\n",
      "2\n",
      "3\n",
      "4\n",
      "5\n",
      "6\n",
      "7\n",
      "8\n",
      "9\n",
      "10\n"
     ]
    }
   ],
   "source": []
  },
  {
   "cell_type": "markdown",
   "metadata": {},
   "source": [
    "## use loop to access the keys and the vlues together"
   ]
  },
  {
   "cell_type": "code",
   "execution_count": 100,
   "metadata": {},
   "outputs": [
    {
     "name": "stdout",
     "output_type": "stream",
     "text": [
      "The key are :name and the values are : Bishnu\n",
      "The key are :age and the values are : 34\n",
      "The key are :favourite_subject and the values are : particle physics\n",
      "The key are :favourite_movies and the values are : [' 3 idiot', 'dabang', 'king no. 1']\n",
      "The key are :favourite_songs  and the values are : ['mera man', 'aaja tujhko', 'aa jeele ek pal mei']\n"
     ]
    }
   ],
   "source": [
    "user_info_1 = {\n",
    "    'name': 'Bishnu',\n",
    "    'age' : 34,\n",
    "    'favourite_subject': 'particle physics',\n",
    "   'favourite_movies':[' 3 idiot','dabang','king no. 1'],\n",
    "   'favourite_songs ': ['mera man','aaja tujhko', 'aa jeele ek pal mei']  \n",
    "       \n",
    "}\n",
    "\n",
    "for key,value in user_info_1.items(): # note key and value in for loop can be replaced by anything like i, j\n",
    "    print(f\"The key are :{key} and the values are : {value}\")"
   ]
  },
  {
   "cell_type": "markdown",
   "metadata": {},
   "source": [
    "# Set data types"
   ]
  },
  {
   "cell_type": "code",
   "execution_count": null,
   "metadata": {},
   "outputs": [],
   "source": [
    "# unordered collection and unique data types\n",
    "# unique means set1 = {2,1,2,3}, 2 shows twics but will be counted by one time only\n",
    "# unordered means we cannot use the index here that is we can not do s[0] or s[i], i = 0,1,2"
   ]
  },
  {
   "cell_type": "code",
   "execution_count": 101,
   "metadata": {},
   "outputs": [
    {
     "name": "stdout",
     "output_type": "stream",
     "text": [
      "{1, 2, 3, 4, 5, 6}\n",
      "<class 'set'>\n"
     ]
    }
   ],
   "source": [
    "s = {1,2,3,4,5,6,3}\n",
    "print(s)\n",
    "print(type(s)) # 3 won't repeat "
   ]
  },
  {
   "cell_type": "markdown",
   "metadata": {},
   "source": [
    "# Why do we use set"
   ]
  },
  {
   "cell_type": "code",
   "execution_count": null,
   "metadata": {},
   "outputs": [],
   "source": [
    "# for example I have the following list\n",
    "# l = [1,2,3,4,5,1,2,4,5,3,5,34,,6,78,,8,9,1,2,3,4,5,54,3,2,1]\n",
    "# most of the numbers are repeated many times. I f you like to have not repeat any of them\n",
    "# or in another word one number one time. To do this we can use the set"
   ]
  },
  {
   "cell_type": "code",
   "execution_count": 104,
   "metadata": {},
   "outputs": [
    {
     "name": "stdout",
     "output_type": "stream",
     "text": [
      "{1, 2, 3, 4, 5, 34, 6, 8, 9, 78, 54}\n",
      "[1, 2, 3, 4, 5, 34, 6, 8, 9, 78, 54]\n"
     ]
    }
   ],
   "source": [
    "l = [1,2,3,4,5,1,2,4,5,3,5,34,6,78,8,9,1,2,3,4,5,54,3,2,1]\n",
    "# do not repaet the numbers\n",
    "s = set(l)\n",
    "print(s)\n",
    "# I would likt to change tem back to list agaian\n",
    "l1 = list(s)\n",
    "print(l1)"
   ]
  },
  {
   "cell_type": "code",
   "execution_count": 105,
   "metadata": {},
   "outputs": [
    {
     "name": "stdout",
     "output_type": "stream",
     "text": [
      "[1, 2, 3, 4, 5, 34, 6, 8, 9, 78, 54]\n"
     ]
    }
   ],
   "source": [
    "# lets do the shortcut method for the above work\n",
    "l = [1,2,3,4,5,1,2,4,5,3,5,34,6,78,8,9,1,2,3,4,5,54,3,2,1]\n",
    "l1 = list(set(l))\n",
    "print(l1)"
   ]
  },
  {
   "cell_type": "markdown",
   "metadata": {},
   "source": [
    "# Methods for the set"
   ]
  },
  {
   "cell_type": "markdown",
   "metadata": {},
   "source": [
    "## add() method -> This adds elements to the set"
   ]
  },
  {
   "cell_type": "code",
   "execution_count": 106,
   "metadata": {},
   "outputs": [
    {
     "name": "stdout",
     "output_type": "stream",
     "text": [
      "{1, 2, 3, 4, 5, 6}\n"
     ]
    }
   ],
   "source": [
    "s1 = {1,2,3,4,5} # like to add 6 in the same set\n",
    "s1.add(6)\n",
    "print(s1)"
   ]
  },
  {
   "cell_type": "markdown",
   "metadata": {},
   "source": [
    "## remove() method ---> removes the elements form the set"
   ]
  },
  {
   "cell_type": "code",
   "execution_count": 107,
   "metadata": {},
   "outputs": [
    {
     "name": "stdout",
     "output_type": "stream",
     "text": [
      "{1, 2, 4, 5}\n"
     ]
    }
   ],
   "source": [
    "s1 = {1,2,3,4,5} # like to remove 3 from the set\n",
    "s1.remove(3)\n",
    "print(s1)"
   ]
  },
  {
   "cell_type": "code",
   "execution_count": 108,
   "metadata": {},
   "outputs": [
    {
     "name": "stdout",
     "output_type": "stream",
     "text": [
      "set()\n"
     ]
    }
   ],
   "source": [
    "#clear() method ---> This method will clear the  given set\n",
    "s2 = {1,2,3,4,5,6}\n",
    "s2.clear()\n",
    "print(s2)"
   ]
  },
  {
   "cell_type": "markdown",
   "metadata": {},
   "source": [
    "## copy() method"
   ]
  },
  {
   "cell_type": "code",
   "execution_count": 109,
   "metadata": {},
   "outputs": [
    {
     "name": "stdout",
     "output_type": "stream",
     "text": [
      "{1, 2, 3, 4, 5, 6}\n"
     ]
    }
   ],
   "source": [
    "s2 = {1,2,3,4,5,6}\n",
    "s3 = s2.copy()\n",
    "print(s3)"
   ]
  },
  {
   "cell_type": "markdown",
   "metadata": {},
   "source": [
    "### What things can be stored in the set"
   ]
  },
  {
   "cell_type": "markdown",
   "metadata": {},
   "source": [
    "### can not store list, dictionary and tuple in the set but can store the integer, float and string "
   ]
  },
  {
   "cell_type": "code",
   "execution_count": 110,
   "metadata": {},
   "outputs": [
    {
     "name": "stdout",
     "output_type": "stream",
     "text": [
      "{1, 2.3, 4.5, 'hello'}\n"
     ]
    }
   ],
   "source": [
    "ss = {1,2.3,4.5,'hello'}\n",
    "print(ss)"
   ]
  },
  {
   "cell_type": "code",
   "execution_count": 111,
   "metadata": {},
   "outputs": [
    {
     "name": "stdout",
     "output_type": "stream",
     "text": [
      "{1, 2.3, 1.1, 4.5, 'hello'}\n"
     ]
    }
   ],
   "source": [
    "ss1 = {1,1.0, 1.1,2.3,4.5,'hello'} # 1 and 1.0 are the same\n",
    "print(ss1)"
   ]
  },
  {
   "cell_type": "markdown",
   "metadata": {},
   "source": [
    "## how to check the  item in the set"
   ]
  },
  {
   "cell_type": "code",
   "execution_count": 112,
   "metadata": {},
   "outputs": [
    {
     "name": "stdout",
     "output_type": "stream",
     "text": [
      "is present\n"
     ]
    }
   ],
   "source": [
    "ss1 = {1,1.0, 1.1,2.3,4.5,'hello'} \n",
    "if 1.1 in ss1:\n",
    "    print(\"is present\")\n",
    "else:\n",
    "    print(\"not present\")"
   ]
  },
  {
   "cell_type": "code",
   "execution_count": 113,
   "metadata": {},
   "outputs": [
    {
     "name": "stdout",
     "output_type": "stream",
     "text": [
      "1\n",
      "2.3\n",
      "1.1\n",
      "4.5\n",
      "hello\n"
     ]
    }
   ],
   "source": [
    "for item in ss1:\n",
    "    print(item)"
   ]
  },
  {
   "cell_type": "markdown",
   "metadata": {},
   "source": [
    "### set mathematics   we can do the operation like the union and the intersection with set"
   ]
  },
  {
   "cell_type": "code",
   "execution_count": 115,
   "metadata": {},
   "outputs": [],
   "source": [
    "# union meaning combine all but do not repeat\n",
    "# s1 = {1,2,3,4} and s2 = {3,4,5,6} Nouw the s1 union s2 in set is represented by s1 | s2 and \n",
    "# the s1 | s2 = {1,2,3,4,5,6}     3 and 4 won't be repeated\n",
    "# see the following example"
   ]
  },
  {
   "cell_type": "code",
   "execution_count": 116,
   "metadata": {},
   "outputs": [
    {
     "name": "stdout",
     "output_type": "stream",
     "text": [
      "{1, 2, 3, 4, 5, 6}\n"
     ]
    }
   ],
   "source": [
    "s1 = {1,2,3,4} \n",
    "s2 = {3,4,5,6}\n",
    "s3 = s1 | s2\n",
    "print(s3)"
   ]
  },
  {
   "cell_type": "code",
   "execution_count": null,
   "metadata": {},
   "outputs": [],
   "source": [
    "# intersection means the common elements in bothof the set and in the above example 3,4 are the common items\n",
    "# intersection is represented by s1 & s2\n",
    "# see the following example"
   ]
  },
  {
   "cell_type": "code",
   "execution_count": 117,
   "metadata": {},
   "outputs": [
    {
     "name": "stdout",
     "output_type": "stream",
     "text": [
      "{3, 4}\n"
     ]
    }
   ],
   "source": [
    "s4 = s1&s2\n",
    "print(s4)"
   ]
  },
  {
   "cell_type": "markdown",
   "metadata": {},
   "source": [
    "# List Comprehsnsion"
   ]
  },
  {
   "cell_type": "markdown",
   "metadata": {},
   "source": [
    "### unique way of coding"
   ]
  },
  {
   "cell_type": "markdown",
   "metadata": {},
   "source": [
    "### create a list of square of number from 1 to 10\n"
   ]
  },
  {
   "cell_type": "code",
   "execution_count": 127,
   "metadata": {},
   "outputs": [
    {
     "name": "stdout",
     "output_type": "stream",
     "text": [
      "[1, 4, 9, 16, 25, 36, 49, 64, 81, 100]\n"
     ]
    }
   ],
   "source": [
    "sq_1 = []  # This is the simple way to create a list\n",
    "for i in range(1,11):   \n",
    "    sq_1.append(i**2)\n",
    "print(sq_1)\n"
   ]
  },
  {
   "cell_type": "code",
   "execution_count": null,
   "metadata": {},
   "outputs": [],
   "source": [
    "# NOw use a comprehensive way to create the list\n",
    "# first we need a empty list, in the loop we append i**2 in it,therefore write i**2 inside the list\n",
    "# we also used the for  loop  so add the for loop over there that after i**2 add for loop with out coma\n",
    "# Lets see the following example\n",
    "\n"
   ]
  },
  {
   "cell_type": "code",
   "execution_count": 130,
   "metadata": {},
   "outputs": [
    {
     "name": "stdout",
     "output_type": "stream",
     "text": [
      "[1, 4, 9, 16, 25, 36, 49, 64, 81, 100]\n"
     ]
    }
   ],
   "source": [
    "sq_2 = [i**2 for i in range(1,11)]\n",
    "print(sq_2)"
   ]
  },
  {
   "cell_type": "code",
   "execution_count": null,
   "metadata": {},
   "outputs": [],
   "source": [
    "# Lets see another example \n",
    "# create a list up to 10 but with the negative numbers that is [-1,-2,...]"
   ]
  },
  {
   "cell_type": "code",
   "execution_count": 131,
   "metadata": {},
   "outputs": [
    {
     "name": "stdout",
     "output_type": "stream",
     "text": [
      "[-1, -2, -3, -4, -5, -6, -7, -8, -9, -10]\n"
     ]
    }
   ],
   "source": [
    "neg_num = []\n",
    "for i  in range(1,11):\n",
    "    neg_num.append(-i)\n",
    "print(neg_num)"
   ]
  },
  {
   "cell_type": "code",
   "execution_count": 132,
   "metadata": {},
   "outputs": [
    {
     "name": "stdout",
     "output_type": "stream",
     "text": [
      "[-1, -2, -3, -4, -5, -6, -7, -8, -9, -10]\n"
     ]
    }
   ],
   "source": [
    "# Now lets do the comprehension method\n",
    "# 1. need to append -i\n",
    "# 2. think about  its range\n",
    "neg_2 = [-i for i in range(1,11)]\n",
    "print(neg_2)"
   ]
  },
  {
   "cell_type": "code",
   "execution_count": null,
   "metadata": {},
   "outputs": [],
   "source": [
    "#Another example\n",
    "# for exxaple I have  a list  l1 = [\"Bishnu\", \"Obama\",\"Tony\"]\n",
    "# I would like to put the first letter of ecah name in the new list l2\n"
   ]
  },
  {
   "cell_type": "code",
   "execution_count": 136,
   "metadata": {},
   "outputs": [
    {
     "name": "stdout",
     "output_type": "stream",
     "text": [
      "['B', 'O', 'T']\n"
     ]
    }
   ],
   "source": [
    "#Simple way\n",
    "l1 = [\"Bishnu\", \"Obama\",\"Tony\"]\n",
    "l2 =[]\n",
    "for i in l1:\n",
    "    l2.append(i[0])\n",
    "print(l2)\n"
   ]
  },
  {
   "cell_type": "code",
   "execution_count": 137,
   "metadata": {},
   "outputs": [
    {
     "name": "stdout",
     "output_type": "stream",
     "text": [
      "['B', 'O', 'T']\n"
     ]
    }
   ],
   "source": [
    "#Lets do the same problem throgh the comprehensive way\n",
    "new_l1 =[i[0] for i in l1]\n",
    "print(new_l1)"
   ]
  },
  {
   "cell_type": "code",
   "execution_count": null,
   "metadata": {},
   "outputs": [],
   "source": [
    "# Define a  function that will take a list  containing string as input and will return the reverse of the \n",
    "# string\n",
    "# eg ls = ['abc', 'pqr']  function will take this list as an input and    will return ['cba','rqp']"
   ]
  },
  {
   "cell_type": "code",
   "execution_count": 165,
   "metadata": {},
   "outputs": [
    {
     "name": "stdout",
     "output_type": "stream",
     "text": [
      "['ba', 'dc']\n"
     ]
    }
   ],
   "source": [
    "#Simple way or the normal way\n",
    "ss=['ab','cd']\n",
    "def reverse_fun (a):\n",
    "    emp=[]\n",
    "    for i in a:\n",
    "        emp.append(i[::-1])\n",
    "    return emp\n",
    "print(reverse_fun(ss))"
   ]
  },
  {
   "cell_type": "code",
   "execution_count": 172,
   "metadata": {},
   "outputs": [
    {
     "name": "stdout",
     "output_type": "stream",
     "text": [
      "['unhsiB', 'yednap']\n"
     ]
    }
   ],
   "source": [
    "# Now lets try the comprehenspipvep way\n",
    "name = [\"Bishnu\",\"pandey\"]\n",
    "def rev_1(l):\n",
    "    return [i[::-1] for i in l]\n",
    "print(rev_1(name))"
   ]
  },
  {
   "cell_type": "markdown",
   "metadata": {},
   "source": [
    "## List comprehenpsion with if statement"
   ]
  },
  {
   "cell_type": "code",
   "execution_count": 177,
   "metadata": {},
   "outputs": [
    {
     "name": "stdout",
     "output_type": "stream",
     "text": [
      "[0, 1, 2, 3, 4, 5, 6, 7, 8, 9, 10, 11, 12, 13, 14, 15, 16, 17, 18, 19, 20]\n"
     ]
    }
   ],
   "source": [
    "# supose you have a list of first 20 numbers and now you need  to create another list which contain nly the\n",
    "# even numbers\n",
    "ls = list(range(0,21))\n",
    "print(ls)"
   ]
  },
  {
   "cell_type": "code",
   "execution_count": 179,
   "metadata": {},
   "outputs": [
    {
     "name": "stdout",
     "output_type": "stream",
     "text": [
      "[0, 2, 4, 6, 8, 10, 12, 14, 16, 18, 20]\n"
     ]
    }
   ],
   "source": [
    "l1=[]\n",
    "for i in ls:\n",
    "    if i%2==0:\n",
    "        l1.append(i)\n",
    "print(l1)\n",
    "        \n",
    "    "
   ]
  },
  {
   "cell_type": "code",
   "execution_count": 182,
   "metadata": {},
   "outputs": [
    {
     "name": "stdout",
     "output_type": "stream",
     "text": [
      "[0, 2, 4, 6, 8, 10, 12, 14, 16, 18, 20]\n"
     ]
    }
   ],
   "source": [
    "# Now lets try the comprehension method\n",
    "\n",
    "ll1 = [i for i in ls if i%2==0]\n",
    "print(ll1)"
   ]
  },
  {
   "cell_type": "markdown",
   "metadata": {},
   "source": [
    "## List comprehension with if ele statement"
   ]
  },
  {
   "cell_type": "code",
   "execution_count": null,
   "metadata": {},
   "outputs": [],
   "source": [
    "#Example\n",
    "# I have a list of first 10  number If even number multiply by 2 and if odd number multiply by -1\n",
    "# That is [1,2,3,4...]  ----->[-1,2,-3,6 ..]"
   ]
  },
  {
   "cell_type": "code",
   "execution_count": 184,
   "metadata": {},
   "outputs": [
    {
     "name": "stdout",
     "output_type": "stream",
     "text": [
      "[0, -1, 4, -3, 8, -5, 12, -7, 16, -9, 20]\n"
     ]
    }
   ],
   "source": [
    "lss =[0, 1, 2, 3, 4, 5, 6, 7, 8, 9, 10]\n",
    "lss2 =[]\n",
    "for i  in lss:\n",
    "    if i%2==0:\n",
    "        lss2.append(i*2)\n",
    "    else:\n",
    "        lss2.append(-i)\n",
    "print(lss2)\n",
    "    "
   ]
  },
  {
   "cell_type": "code",
   "execution_count": 186,
   "metadata": {},
   "outputs": [
    {
     "name": "stdout",
     "output_type": "stream",
     "text": [
      "[0, -1, 4, -3, 8, -5, 12, -7, 16, -9, 20]\n"
     ]
    }
   ],
   "source": [
    "#lets do the same problem  by using the comprehensive method\n",
    "LL =[0, 1, 2, 3, 4, 5, 6, 7, 8, 9, 10]\n",
    "LL1 = [i*2 if (i%2==0) else (-i) for i in LL]\n",
    "print(LL1)"
   ]
  },
  {
   "cell_type": "markdown",
   "metadata": {},
   "source": [
    "# List Comprehension in the nested if else statement"
   ]
  },
  {
   "cell_type": "code",
   "execution_count": 189,
   "metadata": {},
   "outputs": [
    {
     "name": "stdout",
     "output_type": "stream",
     "text": [
      "[[0, 1, 2, 3], [0, 1, 2, 3], [0, 1, 2, 3], [0, 1, 2, 3], [0, 1, 2, 3], [0, 1, 2, 3]]\n"
     ]
    }
   ],
   "source": [
    "# Lets print the following type of the list by using the comprehension method\n",
    "# ll=[[1,2,3],[1,2,3],[1,2,3],[1,2,3],[1,2,3]]  This is type  of the nested if else case\n",
    "comp_list = [[i for i in range(0,4)] for j in range(0,6)]\n",
    "print(comp_list)"
   ]
  },
  {
   "cell_type": "markdown",
   "metadata": {},
   "source": [
    "# Dcitionarty Comphrension"
   ]
  },
  {
   "cell_type": "code",
   "execution_count": 200,
   "metadata": {},
   "outputs": [
    {
     "name": "stdout",
     "output_type": "stream",
     "text": [
      "{1: 1, 2: 4, 3: 9, 4: 16, 5: 25, 6: 36, 7: 49, 8: 64, 9: 81, 10: 100}\n"
     ]
    }
   ],
   "source": [
    "# Create a dictionary of the form {1:1,2:4,3:9} by using the dictionary comprehension method\n",
    "square_1 = {i:i**2 for i in range(1,11) }\n",
    "print(square_1)"
   ]
  },
  {
   "cell_type": "code",
   "execution_count": null,
   "metadata": {},
   "outputs": [],
   "source": [
    "# Lets modify the above code little bit\n",
    "# square of 1:1\n",
    "# square of 2 :4"
   ]
  },
  {
   "cell_type": "code",
   "execution_count": 205,
   "metadata": {},
   "outputs": [
    {
     "name": "stdout",
     "output_type": "stream",
     "text": [
      "{'square of 1 is ': 1, 'square of 2 is ': 4, 'square of 3 is ': 9, 'square of 4 is ': 16, 'square of 5 is ': 25, 'square of 6 is ': 36, 'square of 7 is ': 49, 'square of 8 is ': 64, 'square of 9 is ': 81, 'square of 10 is ': 100}\n"
     ]
    }
   ],
   "source": [
    "square_1 = {f\"square of {i} is \" :i**2  for i in range(1,11)}\n",
    "print(square_1)"
   ]
  },
  {
   "cell_type": "code",
   "execution_count": 208,
   "metadata": {},
   "outputs": [
    {
     "name": "stdout",
     "output_type": "stream",
     "text": [
      "square of 1 is :1\n",
      "square of 2 is :4\n",
      "square of 3 is :9\n",
      "square of 4 is :16\n",
      "square of 5 is :25\n",
      "square of 6 is :36\n",
      "square of 7 is :49\n",
      "square of 8 is :64\n",
      "square of 9 is :81\n",
      "square of 10 is :100\n"
     ]
    }
   ],
   "source": [
    "#lets  print in the separate lines\n",
    "square_1 = {f\"square of {i} is \" :i**2  for i in range(1,11)}\n",
    "for key,value in square_1.items():\n",
    "    print(f\"{key}:{value}\")\n"
   ]
  },
  {
   "cell_type": "code",
   "execution_count": 209,
   "metadata": {},
   "outputs": [
    {
     "name": "stdout",
     "output_type": "stream",
     "text": [
      "{'B': 1, 'i': 1, 's': 1, 'h': 1, 'n': 2, 'u': 1, ' ': 1, 'P': 1, 'a': 1, 'd': 1, 'e': 1, 'y': 1}\n"
     ]
    }
   ],
   "source": [
    "#lets count each charaacter in a string repeats how many times by using the comprehendion method\n",
    "string = \"Bishnu Pandey\"\n",
    "letter_counter = {i:string.count(i) for i in string}\n",
    "print(letter_counter)\n"
   ]
  },
  {
   "cell_type": "markdown",
   "metadata": {},
   "source": [
    "# if else in the dicionary comprehension"
   ]
  },
  {
   "cell_type": "code",
   "execution_count": null,
   "metadata": {},
   "outputs": [],
   "source": [
    "#Example \n",
    "# for the first 10 numbers make a dictionary in the following way\n",
    "# d = {1: 'odd', 2:'even'....}"
   ]
  },
  {
   "cell_type": "code",
   "execution_count": 211,
   "metadata": {},
   "outputs": [
    {
     "name": "stdout",
     "output_type": "stream",
     "text": [
      "{1: 'odd', 2: 'even', 3: 'odd', 4: 'even', 5: 'odd', 6: 'even', 7: 'odd', 8: 'even', 9: 'odd', 10: 'even'}\n"
     ]
    }
   ],
   "source": [
    "odd_even = {i : ('even' if i%2==0  else 'odd') for i in range(1, 11)}\n",
    "print(odd_even)\n",
    "                                                             "
   ]
  },
  {
   "cell_type": "markdown",
   "metadata": {},
   "source": [
    "# Set comprehension"
   ]
  },
  {
   "cell_type": "code",
   "execution_count": null,
   "metadata": {},
   "outputs": [],
   "source": [
    "#lets create a set from 1 to 10 in the form of square of each"
   ]
  },
  {
   "cell_type": "code",
   "execution_count": null,
   "metadata": {},
   "outputs": [],
   "source": []
  },
  {
   "cell_type": "code",
   "execution_count": 213,
   "metadata": {},
   "outputs": [
    {
     "name": "stdout",
     "output_type": "stream",
     "text": [
      "{64, 1, 4, 36, 100, 9, 16, 49, 81, 25}\n",
      "<class 'set'>\n"
     ]
    }
   ],
   "source": [
    "set1 = {i**2 for i in range(1,11)}\n",
    "print(set1)\n",
    "print(type(set1))  # since set is the  un ordered collection therefor 64 is printed first in sead of 1"
   ]
  },
  {
   "cell_type": "code",
   "execution_count": 215,
   "metadata": {},
   "outputs": [
    {
     "name": "stdout",
     "output_type": "stream",
     "text": [
      "{'M', 'B', 'S'}\n"
     ]
    }
   ],
   "source": [
    "#  I have a list of names and I would like to make a set of firrst character of each\n",
    "name = ['Bishnu', 'Barak',\"Micahel\", 'Shakira']\n",
    "set1 = {i[0] for i in name}\n",
    "print(set1)"
   ]
  },
  {
   "cell_type": "code",
   "execution_count": null,
   "metadata": {},
   "outputs": [],
   "source": [
    "# I am closing this chapter here on April 19, 2020"
   ]
  },
  {
   "cell_type": "code",
   "execution_count": null,
   "metadata": {},
   "outputs": [],
   "source": []
  },
  {
   "cell_type": "code",
   "execution_count": null,
   "metadata": {},
   "outputs": [],
   "source": []
  }
 ],
 "metadata": {
  "kernelspec": {
   "display_name": "Python 3",
   "language": "python",
   "name": "python3"
  },
  "language_info": {
   "codemirror_mode": {
    "name": "ipython",
    "version": 3
   },
   "file_extension": ".py",
   "mimetype": "text/x-python",
   "name": "python",
   "nbconvert_exporter": "python",
   "pygments_lexer": "ipython3",
   "version": "3.7.1"
  }
 },
 "nbformat": 4,
 "nbformat_minor": 2
}
